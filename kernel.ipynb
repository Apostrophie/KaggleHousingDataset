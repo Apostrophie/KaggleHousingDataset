{
 "cells": [
  {
   "cell_type": "code",
   "execution_count": 304,
   "metadata": {
    "_cell_guid": "b1076dfc-b9ad-4769-8c92-a6c4dae69d19",
    "_uuid": "8f2839f25d086af736a60e9eeb907d3b93b6e0e5"
   },
   "outputs": [],
   "source": [
    "import numpy as np # linear algebra\n",
    "import pandas as pd # data processing, CSV file I/O (e.g. pd.read_csv)\n",
    "\n",
    "import os\n",
    "#print(os.listdir(\"../input\"))\n",
    "\n",
    "import matplotlib.pyplot as plt\n",
    "import seaborn as sns\n",
    "\n",
    "%matplotlib inline\n",
    "from sklearn.model_selection import train_test_split\n",
    "from sklearn import linear_model\n",
    "from sklearn.metrics import mean_squared_error"
   ]
  },
  {
   "cell_type": "code",
   "execution_count": 305,
   "metadata": {},
   "outputs": [],
   "source": [
    "from sklearn.ensemble import RandomForestRegressor\n",
    "from scipy import stats\n",
    "from scipy.stats import skew,norm\n",
    "from scipy.stats.stats import pearsonr"
   ]
  },
  {
   "cell_type": "code",
   "execution_count": null,
   "metadata": {},
   "outputs": [],
   "source": []
  },
  {
   "cell_type": "code",
   "execution_count": null,
   "metadata": {},
   "outputs": [],
   "source": []
  },
  {
   "cell_type": "code",
   "execution_count": 306,
   "metadata": {
    "_cell_guid": "79c7e3d0-c299-4dcb-8224-4455121ee9b0",
    "_uuid": "d629ff2d2480ee46fbb7e2d37f6b5fab8052498a"
   },
   "outputs": [],
   "source": [
    "train_path='train.csv'\n",
    "test_path=\"test.csv\"\n",
    "train_df=pd.read_csv(train_path,index_col='Id')\n",
    "test_df=pd.read_csv(test_path,index_col='Id')"
   ]
  },
  {
   "cell_type": "code",
   "execution_count": 307,
   "metadata": {
    "_uuid": "4689b9d8cf7ff64b0c949e3740e5be3bff9b0237"
   },
   "outputs": [
    {
     "data": {
      "text/html": [
       "<div>\n",
       "<style scoped>\n",
       "    .dataframe tbody tr th:only-of-type {\n",
       "        vertical-align: middle;\n",
       "    }\n",
       "\n",
       "    .dataframe tbody tr th {\n",
       "        vertical-align: top;\n",
       "    }\n",
       "\n",
       "    .dataframe thead th {\n",
       "        text-align: right;\n",
       "    }\n",
       "</style>\n",
       "<table border=\"1\" class=\"dataframe\">\n",
       "  <thead>\n",
       "    <tr style=\"text-align: right;\">\n",
       "      <th></th>\n",
       "      <th>MSSubClass</th>\n",
       "      <th>MSZoning</th>\n",
       "      <th>LotFrontage</th>\n",
       "      <th>LotArea</th>\n",
       "      <th>Street</th>\n",
       "      <th>Alley</th>\n",
       "      <th>LotShape</th>\n",
       "      <th>LandContour</th>\n",
       "      <th>Utilities</th>\n",
       "      <th>LotConfig</th>\n",
       "      <th>...</th>\n",
       "      <th>PoolArea</th>\n",
       "      <th>PoolQC</th>\n",
       "      <th>Fence</th>\n",
       "      <th>MiscFeature</th>\n",
       "      <th>MiscVal</th>\n",
       "      <th>MoSold</th>\n",
       "      <th>YrSold</th>\n",
       "      <th>SaleType</th>\n",
       "      <th>SaleCondition</th>\n",
       "      <th>SalePrice</th>\n",
       "    </tr>\n",
       "    <tr>\n",
       "      <th>Id</th>\n",
       "      <th></th>\n",
       "      <th></th>\n",
       "      <th></th>\n",
       "      <th></th>\n",
       "      <th></th>\n",
       "      <th></th>\n",
       "      <th></th>\n",
       "      <th></th>\n",
       "      <th></th>\n",
       "      <th></th>\n",
       "      <th></th>\n",
       "      <th></th>\n",
       "      <th></th>\n",
       "      <th></th>\n",
       "      <th></th>\n",
       "      <th></th>\n",
       "      <th></th>\n",
       "      <th></th>\n",
       "      <th></th>\n",
       "      <th></th>\n",
       "      <th></th>\n",
       "    </tr>\n",
       "  </thead>\n",
       "  <tbody>\n",
       "    <tr>\n",
       "      <th>1</th>\n",
       "      <td>60</td>\n",
       "      <td>RL</td>\n",
       "      <td>65.0</td>\n",
       "      <td>8450</td>\n",
       "      <td>Pave</td>\n",
       "      <td>NaN</td>\n",
       "      <td>Reg</td>\n",
       "      <td>Lvl</td>\n",
       "      <td>AllPub</td>\n",
       "      <td>Inside</td>\n",
       "      <td>...</td>\n",
       "      <td>0</td>\n",
       "      <td>NaN</td>\n",
       "      <td>NaN</td>\n",
       "      <td>NaN</td>\n",
       "      <td>0</td>\n",
       "      <td>2</td>\n",
       "      <td>2008</td>\n",
       "      <td>WD</td>\n",
       "      <td>Normal</td>\n",
       "      <td>208500</td>\n",
       "    </tr>\n",
       "    <tr>\n",
       "      <th>2</th>\n",
       "      <td>20</td>\n",
       "      <td>RL</td>\n",
       "      <td>80.0</td>\n",
       "      <td>9600</td>\n",
       "      <td>Pave</td>\n",
       "      <td>NaN</td>\n",
       "      <td>Reg</td>\n",
       "      <td>Lvl</td>\n",
       "      <td>AllPub</td>\n",
       "      <td>FR2</td>\n",
       "      <td>...</td>\n",
       "      <td>0</td>\n",
       "      <td>NaN</td>\n",
       "      <td>NaN</td>\n",
       "      <td>NaN</td>\n",
       "      <td>0</td>\n",
       "      <td>5</td>\n",
       "      <td>2007</td>\n",
       "      <td>WD</td>\n",
       "      <td>Normal</td>\n",
       "      <td>181500</td>\n",
       "    </tr>\n",
       "    <tr>\n",
       "      <th>3</th>\n",
       "      <td>60</td>\n",
       "      <td>RL</td>\n",
       "      <td>68.0</td>\n",
       "      <td>11250</td>\n",
       "      <td>Pave</td>\n",
       "      <td>NaN</td>\n",
       "      <td>IR1</td>\n",
       "      <td>Lvl</td>\n",
       "      <td>AllPub</td>\n",
       "      <td>Inside</td>\n",
       "      <td>...</td>\n",
       "      <td>0</td>\n",
       "      <td>NaN</td>\n",
       "      <td>NaN</td>\n",
       "      <td>NaN</td>\n",
       "      <td>0</td>\n",
       "      <td>9</td>\n",
       "      <td>2008</td>\n",
       "      <td>WD</td>\n",
       "      <td>Normal</td>\n",
       "      <td>223500</td>\n",
       "    </tr>\n",
       "    <tr>\n",
       "      <th>4</th>\n",
       "      <td>70</td>\n",
       "      <td>RL</td>\n",
       "      <td>60.0</td>\n",
       "      <td>9550</td>\n",
       "      <td>Pave</td>\n",
       "      <td>NaN</td>\n",
       "      <td>IR1</td>\n",
       "      <td>Lvl</td>\n",
       "      <td>AllPub</td>\n",
       "      <td>Corner</td>\n",
       "      <td>...</td>\n",
       "      <td>0</td>\n",
       "      <td>NaN</td>\n",
       "      <td>NaN</td>\n",
       "      <td>NaN</td>\n",
       "      <td>0</td>\n",
       "      <td>2</td>\n",
       "      <td>2006</td>\n",
       "      <td>WD</td>\n",
       "      <td>Abnorml</td>\n",
       "      <td>140000</td>\n",
       "    </tr>\n",
       "    <tr>\n",
       "      <th>5</th>\n",
       "      <td>60</td>\n",
       "      <td>RL</td>\n",
       "      <td>84.0</td>\n",
       "      <td>14260</td>\n",
       "      <td>Pave</td>\n",
       "      <td>NaN</td>\n",
       "      <td>IR1</td>\n",
       "      <td>Lvl</td>\n",
       "      <td>AllPub</td>\n",
       "      <td>FR2</td>\n",
       "      <td>...</td>\n",
       "      <td>0</td>\n",
       "      <td>NaN</td>\n",
       "      <td>NaN</td>\n",
       "      <td>NaN</td>\n",
       "      <td>0</td>\n",
       "      <td>12</td>\n",
       "      <td>2008</td>\n",
       "      <td>WD</td>\n",
       "      <td>Normal</td>\n",
       "      <td>250000</td>\n",
       "    </tr>\n",
       "    <tr>\n",
       "      <th>6</th>\n",
       "      <td>50</td>\n",
       "      <td>RL</td>\n",
       "      <td>85.0</td>\n",
       "      <td>14115</td>\n",
       "      <td>Pave</td>\n",
       "      <td>NaN</td>\n",
       "      <td>IR1</td>\n",
       "      <td>Lvl</td>\n",
       "      <td>AllPub</td>\n",
       "      <td>Inside</td>\n",
       "      <td>...</td>\n",
       "      <td>0</td>\n",
       "      <td>NaN</td>\n",
       "      <td>MnPrv</td>\n",
       "      <td>Shed</td>\n",
       "      <td>700</td>\n",
       "      <td>10</td>\n",
       "      <td>2009</td>\n",
       "      <td>WD</td>\n",
       "      <td>Normal</td>\n",
       "      <td>143000</td>\n",
       "    </tr>\n",
       "    <tr>\n",
       "      <th>7</th>\n",
       "      <td>20</td>\n",
       "      <td>RL</td>\n",
       "      <td>75.0</td>\n",
       "      <td>10084</td>\n",
       "      <td>Pave</td>\n",
       "      <td>NaN</td>\n",
       "      <td>Reg</td>\n",
       "      <td>Lvl</td>\n",
       "      <td>AllPub</td>\n",
       "      <td>Inside</td>\n",
       "      <td>...</td>\n",
       "      <td>0</td>\n",
       "      <td>NaN</td>\n",
       "      <td>NaN</td>\n",
       "      <td>NaN</td>\n",
       "      <td>0</td>\n",
       "      <td>8</td>\n",
       "      <td>2007</td>\n",
       "      <td>WD</td>\n",
       "      <td>Normal</td>\n",
       "      <td>307000</td>\n",
       "    </tr>\n",
       "    <tr>\n",
       "      <th>8</th>\n",
       "      <td>60</td>\n",
       "      <td>RL</td>\n",
       "      <td>NaN</td>\n",
       "      <td>10382</td>\n",
       "      <td>Pave</td>\n",
       "      <td>NaN</td>\n",
       "      <td>IR1</td>\n",
       "      <td>Lvl</td>\n",
       "      <td>AllPub</td>\n",
       "      <td>Corner</td>\n",
       "      <td>...</td>\n",
       "      <td>0</td>\n",
       "      <td>NaN</td>\n",
       "      <td>NaN</td>\n",
       "      <td>Shed</td>\n",
       "      <td>350</td>\n",
       "      <td>11</td>\n",
       "      <td>2009</td>\n",
       "      <td>WD</td>\n",
       "      <td>Normal</td>\n",
       "      <td>200000</td>\n",
       "    </tr>\n",
       "  </tbody>\n",
       "</table>\n",
       "<p>8 rows × 80 columns</p>\n",
       "</div>"
      ],
      "text/plain": [
       "    MSSubClass MSZoning  LotFrontage  LotArea Street Alley LotShape  \\\n",
       "Id                                                                    \n",
       "1           60       RL         65.0     8450   Pave   NaN      Reg   \n",
       "2           20       RL         80.0     9600   Pave   NaN      Reg   \n",
       "3           60       RL         68.0    11250   Pave   NaN      IR1   \n",
       "4           70       RL         60.0     9550   Pave   NaN      IR1   \n",
       "5           60       RL         84.0    14260   Pave   NaN      IR1   \n",
       "6           50       RL         85.0    14115   Pave   NaN      IR1   \n",
       "7           20       RL         75.0    10084   Pave   NaN      Reg   \n",
       "8           60       RL          NaN    10382   Pave   NaN      IR1   \n",
       "\n",
       "   LandContour Utilities LotConfig    ...     PoolArea PoolQC  Fence  \\\n",
       "Id                                    ...                              \n",
       "1          Lvl    AllPub    Inside    ...            0    NaN    NaN   \n",
       "2          Lvl    AllPub       FR2    ...            0    NaN    NaN   \n",
       "3          Lvl    AllPub    Inside    ...            0    NaN    NaN   \n",
       "4          Lvl    AllPub    Corner    ...            0    NaN    NaN   \n",
       "5          Lvl    AllPub       FR2    ...            0    NaN    NaN   \n",
       "6          Lvl    AllPub    Inside    ...            0    NaN  MnPrv   \n",
       "7          Lvl    AllPub    Inside    ...            0    NaN    NaN   \n",
       "8          Lvl    AllPub    Corner    ...            0    NaN    NaN   \n",
       "\n",
       "   MiscFeature MiscVal MoSold  YrSold  SaleType  SaleCondition  SalePrice  \n",
       "Id                                                                         \n",
       "1          NaN       0      2    2008        WD         Normal     208500  \n",
       "2          NaN       0      5    2007        WD         Normal     181500  \n",
       "3          NaN       0      9    2008        WD         Normal     223500  \n",
       "4          NaN       0      2    2006        WD        Abnorml     140000  \n",
       "5          NaN       0     12    2008        WD         Normal     250000  \n",
       "6         Shed     700     10    2009        WD         Normal     143000  \n",
       "7          NaN       0      8    2007        WD         Normal     307000  \n",
       "8         Shed     350     11    2009        WD         Normal     200000  \n",
       "\n",
       "[8 rows x 80 columns]"
      ]
     },
     "execution_count": 307,
     "metadata": {},
     "output_type": "execute_result"
    }
   ],
   "source": [
    "train_df.head(8)"
   ]
  },
  {
   "cell_type": "code",
   "execution_count": 308,
   "metadata": {
    "_uuid": "a70f4334263c630c43857b55d6927abb03b429ab"
   },
   "outputs": [
    {
     "name": "stdout",
     "output_type": "stream",
     "text": [
      "<class 'pandas.core.frame.DataFrame'>\n",
      "Int64Index: 1460 entries, 1 to 1460\n",
      "Data columns (total 80 columns):\n",
      "MSSubClass       1460 non-null int64\n",
      "MSZoning         1460 non-null object\n",
      "LotFrontage      1201 non-null float64\n",
      "LotArea          1460 non-null int64\n",
      "Street           1460 non-null object\n",
      "Alley            91 non-null object\n",
      "LotShape         1460 non-null object\n",
      "LandContour      1460 non-null object\n",
      "Utilities        1460 non-null object\n",
      "LotConfig        1460 non-null object\n",
      "LandSlope        1460 non-null object\n",
      "Neighborhood     1460 non-null object\n",
      "Condition1       1460 non-null object\n",
      "Condition2       1460 non-null object\n",
      "BldgType         1460 non-null object\n",
      "HouseStyle       1460 non-null object\n",
      "OverallQual      1460 non-null int64\n",
      "OverallCond      1460 non-null int64\n",
      "YearBuilt        1460 non-null int64\n",
      "YearRemodAdd     1460 non-null int64\n",
      "RoofStyle        1460 non-null object\n",
      "RoofMatl         1460 non-null object\n",
      "Exterior1st      1460 non-null object\n",
      "Exterior2nd      1460 non-null object\n",
      "MasVnrType       1452 non-null object\n",
      "MasVnrArea       1452 non-null float64\n",
      "ExterQual        1460 non-null object\n",
      "ExterCond        1460 non-null object\n",
      "Foundation       1460 non-null object\n",
      "BsmtQual         1423 non-null object\n",
      "BsmtCond         1423 non-null object\n",
      "BsmtExposure     1422 non-null object\n",
      "BsmtFinType1     1423 non-null object\n",
      "BsmtFinSF1       1460 non-null int64\n",
      "BsmtFinType2     1422 non-null object\n",
      "BsmtFinSF2       1460 non-null int64\n",
      "BsmtUnfSF        1460 non-null int64\n",
      "TotalBsmtSF      1460 non-null int64\n",
      "Heating          1460 non-null object\n",
      "HeatingQC        1460 non-null object\n",
      "CentralAir       1460 non-null object\n",
      "Electrical       1459 non-null object\n",
      "1stFlrSF         1460 non-null int64\n",
      "2ndFlrSF         1460 non-null int64\n",
      "LowQualFinSF     1460 non-null int64\n",
      "GrLivArea        1460 non-null int64\n",
      "BsmtFullBath     1460 non-null int64\n",
      "BsmtHalfBath     1460 non-null int64\n",
      "FullBath         1460 non-null int64\n",
      "HalfBath         1460 non-null int64\n",
      "BedroomAbvGr     1460 non-null int64\n",
      "KitchenAbvGr     1460 non-null int64\n",
      "KitchenQual      1460 non-null object\n",
      "TotRmsAbvGrd     1460 non-null int64\n",
      "Functional       1460 non-null object\n",
      "Fireplaces       1460 non-null int64\n",
      "FireplaceQu      770 non-null object\n",
      "GarageType       1379 non-null object\n",
      "GarageYrBlt      1379 non-null float64\n",
      "GarageFinish     1379 non-null object\n",
      "GarageCars       1460 non-null int64\n",
      "GarageArea       1460 non-null int64\n",
      "GarageQual       1379 non-null object\n",
      "GarageCond       1379 non-null object\n",
      "PavedDrive       1460 non-null object\n",
      "WoodDeckSF       1460 non-null int64\n",
      "OpenPorchSF      1460 non-null int64\n",
      "EnclosedPorch    1460 non-null int64\n",
      "3SsnPorch        1460 non-null int64\n",
      "ScreenPorch      1460 non-null int64\n",
      "PoolArea         1460 non-null int64\n",
      "PoolQC           7 non-null object\n",
      "Fence            281 non-null object\n",
      "MiscFeature      54 non-null object\n",
      "MiscVal          1460 non-null int64\n",
      "MoSold           1460 non-null int64\n",
      "YrSold           1460 non-null int64\n",
      "SaleType         1460 non-null object\n",
      "SaleCondition    1460 non-null object\n",
      "SalePrice        1460 non-null int64\n",
      "dtypes: float64(3), int64(34), object(43)\n",
      "memory usage: 923.9+ KB\n"
     ]
    }
   ],
   "source": [
    "train_df.info()"
   ]
  },
  {
   "cell_type": "code",
   "execution_count": 309,
   "metadata": {
    "_uuid": "aff45b0aafcd08e7ea97ef9400b33d2235080812"
   },
   "outputs": [
    {
     "name": "stdout",
     "output_type": "stream",
     "text": [
      "<class 'pandas.core.frame.DataFrame'>\n",
      "Int64Index: 1459 entries, 1461 to 2919\n",
      "Data columns (total 79 columns):\n",
      "MSSubClass       1459 non-null int64\n",
      "MSZoning         1455 non-null object\n",
      "LotFrontage      1232 non-null float64\n",
      "LotArea          1459 non-null int64\n",
      "Street           1459 non-null object\n",
      "Alley            107 non-null object\n",
      "LotShape         1459 non-null object\n",
      "LandContour      1459 non-null object\n",
      "Utilities        1457 non-null object\n",
      "LotConfig        1459 non-null object\n",
      "LandSlope        1459 non-null object\n",
      "Neighborhood     1459 non-null object\n",
      "Condition1       1459 non-null object\n",
      "Condition2       1459 non-null object\n",
      "BldgType         1459 non-null object\n",
      "HouseStyle       1459 non-null object\n",
      "OverallQual      1459 non-null int64\n",
      "OverallCond      1459 non-null int64\n",
      "YearBuilt        1459 non-null int64\n",
      "YearRemodAdd     1459 non-null int64\n",
      "RoofStyle        1459 non-null object\n",
      "RoofMatl         1459 non-null object\n",
      "Exterior1st      1458 non-null object\n",
      "Exterior2nd      1458 non-null object\n",
      "MasVnrType       1443 non-null object\n",
      "MasVnrArea       1444 non-null float64\n",
      "ExterQual        1459 non-null object\n",
      "ExterCond        1459 non-null object\n",
      "Foundation       1459 non-null object\n",
      "BsmtQual         1415 non-null object\n",
      "BsmtCond         1414 non-null object\n",
      "BsmtExposure     1415 non-null object\n",
      "BsmtFinType1     1417 non-null object\n",
      "BsmtFinSF1       1458 non-null float64\n",
      "BsmtFinType2     1417 non-null object\n",
      "BsmtFinSF2       1458 non-null float64\n",
      "BsmtUnfSF        1458 non-null float64\n",
      "TotalBsmtSF      1458 non-null float64\n",
      "Heating          1459 non-null object\n",
      "HeatingQC        1459 non-null object\n",
      "CentralAir       1459 non-null object\n",
      "Electrical       1459 non-null object\n",
      "1stFlrSF         1459 non-null int64\n",
      "2ndFlrSF         1459 non-null int64\n",
      "LowQualFinSF     1459 non-null int64\n",
      "GrLivArea        1459 non-null int64\n",
      "BsmtFullBath     1457 non-null float64\n",
      "BsmtHalfBath     1457 non-null float64\n",
      "FullBath         1459 non-null int64\n",
      "HalfBath         1459 non-null int64\n",
      "BedroomAbvGr     1459 non-null int64\n",
      "KitchenAbvGr     1459 non-null int64\n",
      "KitchenQual      1458 non-null object\n",
      "TotRmsAbvGrd     1459 non-null int64\n",
      "Functional       1457 non-null object\n",
      "Fireplaces       1459 non-null int64\n",
      "FireplaceQu      729 non-null object\n",
      "GarageType       1383 non-null object\n",
      "GarageYrBlt      1381 non-null float64\n",
      "GarageFinish     1381 non-null object\n",
      "GarageCars       1458 non-null float64\n",
      "GarageArea       1458 non-null float64\n",
      "GarageQual       1381 non-null object\n",
      "GarageCond       1381 non-null object\n",
      "PavedDrive       1459 non-null object\n",
      "WoodDeckSF       1459 non-null int64\n",
      "OpenPorchSF      1459 non-null int64\n",
      "EnclosedPorch    1459 non-null int64\n",
      "3SsnPorch        1459 non-null int64\n",
      "ScreenPorch      1459 non-null int64\n",
      "PoolArea         1459 non-null int64\n",
      "PoolQC           3 non-null object\n",
      "Fence            290 non-null object\n",
      "MiscFeature      51 non-null object\n",
      "MiscVal          1459 non-null int64\n",
      "MoSold           1459 non-null int64\n",
      "YrSold           1459 non-null int64\n",
      "SaleType         1458 non-null object\n",
      "SaleCondition    1459 non-null object\n",
      "dtypes: float64(11), int64(25), object(43)\n",
      "memory usage: 911.9+ KB\n"
     ]
    }
   ],
   "source": [
    "test_df.info()"
   ]
  },
  {
   "cell_type": "code",
   "execution_count": 310,
   "metadata": {},
   "outputs": [
    {
     "data": {
      "text/html": [
       "<div>\n",
       "<style scoped>\n",
       "    .dataframe tbody tr th:only-of-type {\n",
       "        vertical-align: middle;\n",
       "    }\n",
       "\n",
       "    .dataframe tbody tr th {\n",
       "        vertical-align: top;\n",
       "    }\n",
       "\n",
       "    .dataframe thead th {\n",
       "        text-align: right;\n",
       "    }\n",
       "</style>\n",
       "<table border=\"1\" class=\"dataframe\">\n",
       "  <thead>\n",
       "    <tr style=\"text-align: right;\">\n",
       "      <th></th>\n",
       "      <th>MSSubClass</th>\n",
       "      <th>LotFrontage</th>\n",
       "      <th>LotArea</th>\n",
       "      <th>OverallQual</th>\n",
       "      <th>OverallCond</th>\n",
       "      <th>YearBuilt</th>\n",
       "      <th>YearRemodAdd</th>\n",
       "      <th>MasVnrArea</th>\n",
       "      <th>BsmtFinSF1</th>\n",
       "      <th>BsmtFinSF2</th>\n",
       "      <th>...</th>\n",
       "      <th>WoodDeckSF</th>\n",
       "      <th>OpenPorchSF</th>\n",
       "      <th>EnclosedPorch</th>\n",
       "      <th>3SsnPorch</th>\n",
       "      <th>ScreenPorch</th>\n",
       "      <th>PoolArea</th>\n",
       "      <th>MiscVal</th>\n",
       "      <th>MoSold</th>\n",
       "      <th>YrSold</th>\n",
       "      <th>SalePrice</th>\n",
       "    </tr>\n",
       "  </thead>\n",
       "  <tbody>\n",
       "    <tr>\n",
       "      <th>count</th>\n",
       "      <td>1460.000000</td>\n",
       "      <td>1201.000000</td>\n",
       "      <td>1460.000000</td>\n",
       "      <td>1460.000000</td>\n",
       "      <td>1460.000000</td>\n",
       "      <td>1460.000000</td>\n",
       "      <td>1460.000000</td>\n",
       "      <td>1452.000000</td>\n",
       "      <td>1460.000000</td>\n",
       "      <td>1460.000000</td>\n",
       "      <td>...</td>\n",
       "      <td>1460.000000</td>\n",
       "      <td>1460.000000</td>\n",
       "      <td>1460.000000</td>\n",
       "      <td>1460.000000</td>\n",
       "      <td>1460.000000</td>\n",
       "      <td>1460.000000</td>\n",
       "      <td>1460.000000</td>\n",
       "      <td>1460.000000</td>\n",
       "      <td>1460.000000</td>\n",
       "      <td>1460.000000</td>\n",
       "    </tr>\n",
       "    <tr>\n",
       "      <th>mean</th>\n",
       "      <td>56.897260</td>\n",
       "      <td>70.049958</td>\n",
       "      <td>10516.828082</td>\n",
       "      <td>6.099315</td>\n",
       "      <td>5.575342</td>\n",
       "      <td>1971.267808</td>\n",
       "      <td>1984.865753</td>\n",
       "      <td>103.685262</td>\n",
       "      <td>443.639726</td>\n",
       "      <td>46.549315</td>\n",
       "      <td>...</td>\n",
       "      <td>94.244521</td>\n",
       "      <td>46.660274</td>\n",
       "      <td>21.954110</td>\n",
       "      <td>3.409589</td>\n",
       "      <td>15.060959</td>\n",
       "      <td>2.758904</td>\n",
       "      <td>43.489041</td>\n",
       "      <td>6.321918</td>\n",
       "      <td>2007.815753</td>\n",
       "      <td>180921.195890</td>\n",
       "    </tr>\n",
       "    <tr>\n",
       "      <th>std</th>\n",
       "      <td>42.300571</td>\n",
       "      <td>24.284752</td>\n",
       "      <td>9981.264932</td>\n",
       "      <td>1.382997</td>\n",
       "      <td>1.112799</td>\n",
       "      <td>30.202904</td>\n",
       "      <td>20.645407</td>\n",
       "      <td>181.066207</td>\n",
       "      <td>456.098091</td>\n",
       "      <td>161.319273</td>\n",
       "      <td>...</td>\n",
       "      <td>125.338794</td>\n",
       "      <td>66.256028</td>\n",
       "      <td>61.119149</td>\n",
       "      <td>29.317331</td>\n",
       "      <td>55.757415</td>\n",
       "      <td>40.177307</td>\n",
       "      <td>496.123024</td>\n",
       "      <td>2.703626</td>\n",
       "      <td>1.328095</td>\n",
       "      <td>79442.502883</td>\n",
       "    </tr>\n",
       "    <tr>\n",
       "      <th>min</th>\n",
       "      <td>20.000000</td>\n",
       "      <td>21.000000</td>\n",
       "      <td>1300.000000</td>\n",
       "      <td>1.000000</td>\n",
       "      <td>1.000000</td>\n",
       "      <td>1872.000000</td>\n",
       "      <td>1950.000000</td>\n",
       "      <td>0.000000</td>\n",
       "      <td>0.000000</td>\n",
       "      <td>0.000000</td>\n",
       "      <td>...</td>\n",
       "      <td>0.000000</td>\n",
       "      <td>0.000000</td>\n",
       "      <td>0.000000</td>\n",
       "      <td>0.000000</td>\n",
       "      <td>0.000000</td>\n",
       "      <td>0.000000</td>\n",
       "      <td>0.000000</td>\n",
       "      <td>1.000000</td>\n",
       "      <td>2006.000000</td>\n",
       "      <td>34900.000000</td>\n",
       "    </tr>\n",
       "    <tr>\n",
       "      <th>25%</th>\n",
       "      <td>20.000000</td>\n",
       "      <td>59.000000</td>\n",
       "      <td>7553.500000</td>\n",
       "      <td>5.000000</td>\n",
       "      <td>5.000000</td>\n",
       "      <td>1954.000000</td>\n",
       "      <td>1967.000000</td>\n",
       "      <td>0.000000</td>\n",
       "      <td>0.000000</td>\n",
       "      <td>0.000000</td>\n",
       "      <td>...</td>\n",
       "      <td>0.000000</td>\n",
       "      <td>0.000000</td>\n",
       "      <td>0.000000</td>\n",
       "      <td>0.000000</td>\n",
       "      <td>0.000000</td>\n",
       "      <td>0.000000</td>\n",
       "      <td>0.000000</td>\n",
       "      <td>5.000000</td>\n",
       "      <td>2007.000000</td>\n",
       "      <td>129975.000000</td>\n",
       "    </tr>\n",
       "    <tr>\n",
       "      <th>50%</th>\n",
       "      <td>50.000000</td>\n",
       "      <td>69.000000</td>\n",
       "      <td>9478.500000</td>\n",
       "      <td>6.000000</td>\n",
       "      <td>5.000000</td>\n",
       "      <td>1973.000000</td>\n",
       "      <td>1994.000000</td>\n",
       "      <td>0.000000</td>\n",
       "      <td>383.500000</td>\n",
       "      <td>0.000000</td>\n",
       "      <td>...</td>\n",
       "      <td>0.000000</td>\n",
       "      <td>25.000000</td>\n",
       "      <td>0.000000</td>\n",
       "      <td>0.000000</td>\n",
       "      <td>0.000000</td>\n",
       "      <td>0.000000</td>\n",
       "      <td>0.000000</td>\n",
       "      <td>6.000000</td>\n",
       "      <td>2008.000000</td>\n",
       "      <td>163000.000000</td>\n",
       "    </tr>\n",
       "    <tr>\n",
       "      <th>75%</th>\n",
       "      <td>70.000000</td>\n",
       "      <td>80.000000</td>\n",
       "      <td>11601.500000</td>\n",
       "      <td>7.000000</td>\n",
       "      <td>6.000000</td>\n",
       "      <td>2000.000000</td>\n",
       "      <td>2004.000000</td>\n",
       "      <td>166.000000</td>\n",
       "      <td>712.250000</td>\n",
       "      <td>0.000000</td>\n",
       "      <td>...</td>\n",
       "      <td>168.000000</td>\n",
       "      <td>68.000000</td>\n",
       "      <td>0.000000</td>\n",
       "      <td>0.000000</td>\n",
       "      <td>0.000000</td>\n",
       "      <td>0.000000</td>\n",
       "      <td>0.000000</td>\n",
       "      <td>8.000000</td>\n",
       "      <td>2009.000000</td>\n",
       "      <td>214000.000000</td>\n",
       "    </tr>\n",
       "    <tr>\n",
       "      <th>max</th>\n",
       "      <td>190.000000</td>\n",
       "      <td>313.000000</td>\n",
       "      <td>215245.000000</td>\n",
       "      <td>10.000000</td>\n",
       "      <td>9.000000</td>\n",
       "      <td>2010.000000</td>\n",
       "      <td>2010.000000</td>\n",
       "      <td>1600.000000</td>\n",
       "      <td>5644.000000</td>\n",
       "      <td>1474.000000</td>\n",
       "      <td>...</td>\n",
       "      <td>857.000000</td>\n",
       "      <td>547.000000</td>\n",
       "      <td>552.000000</td>\n",
       "      <td>508.000000</td>\n",
       "      <td>480.000000</td>\n",
       "      <td>738.000000</td>\n",
       "      <td>15500.000000</td>\n",
       "      <td>12.000000</td>\n",
       "      <td>2010.000000</td>\n",
       "      <td>755000.000000</td>\n",
       "    </tr>\n",
       "  </tbody>\n",
       "</table>\n",
       "<p>8 rows × 37 columns</p>\n",
       "</div>"
      ],
      "text/plain": [
       "        MSSubClass  LotFrontage        LotArea  OverallQual  OverallCond  \\\n",
       "count  1460.000000  1201.000000    1460.000000  1460.000000  1460.000000   \n",
       "mean     56.897260    70.049958   10516.828082     6.099315     5.575342   \n",
       "std      42.300571    24.284752    9981.264932     1.382997     1.112799   \n",
       "min      20.000000    21.000000    1300.000000     1.000000     1.000000   \n",
       "25%      20.000000    59.000000    7553.500000     5.000000     5.000000   \n",
       "50%      50.000000    69.000000    9478.500000     6.000000     5.000000   \n",
       "75%      70.000000    80.000000   11601.500000     7.000000     6.000000   \n",
       "max     190.000000   313.000000  215245.000000    10.000000     9.000000   \n",
       "\n",
       "         YearBuilt  YearRemodAdd   MasVnrArea   BsmtFinSF1   BsmtFinSF2  \\\n",
       "count  1460.000000   1460.000000  1452.000000  1460.000000  1460.000000   \n",
       "mean   1971.267808   1984.865753   103.685262   443.639726    46.549315   \n",
       "std      30.202904     20.645407   181.066207   456.098091   161.319273   \n",
       "min    1872.000000   1950.000000     0.000000     0.000000     0.000000   \n",
       "25%    1954.000000   1967.000000     0.000000     0.000000     0.000000   \n",
       "50%    1973.000000   1994.000000     0.000000   383.500000     0.000000   \n",
       "75%    2000.000000   2004.000000   166.000000   712.250000     0.000000   \n",
       "max    2010.000000   2010.000000  1600.000000  5644.000000  1474.000000   \n",
       "\n",
       "           ...         WoodDeckSF  OpenPorchSF  EnclosedPorch    3SsnPorch  \\\n",
       "count      ...        1460.000000  1460.000000    1460.000000  1460.000000   \n",
       "mean       ...          94.244521    46.660274      21.954110     3.409589   \n",
       "std        ...         125.338794    66.256028      61.119149    29.317331   \n",
       "min        ...           0.000000     0.000000       0.000000     0.000000   \n",
       "25%        ...           0.000000     0.000000       0.000000     0.000000   \n",
       "50%        ...           0.000000    25.000000       0.000000     0.000000   \n",
       "75%        ...         168.000000    68.000000       0.000000     0.000000   \n",
       "max        ...         857.000000   547.000000     552.000000   508.000000   \n",
       "\n",
       "       ScreenPorch     PoolArea       MiscVal       MoSold       YrSold  \\\n",
       "count  1460.000000  1460.000000   1460.000000  1460.000000  1460.000000   \n",
       "mean     15.060959     2.758904     43.489041     6.321918  2007.815753   \n",
       "std      55.757415    40.177307    496.123024     2.703626     1.328095   \n",
       "min       0.000000     0.000000      0.000000     1.000000  2006.000000   \n",
       "25%       0.000000     0.000000      0.000000     5.000000  2007.000000   \n",
       "50%       0.000000     0.000000      0.000000     6.000000  2008.000000   \n",
       "75%       0.000000     0.000000      0.000000     8.000000  2009.000000   \n",
       "max     480.000000   738.000000  15500.000000    12.000000  2010.000000   \n",
       "\n",
       "           SalePrice  \n",
       "count    1460.000000  \n",
       "mean   180921.195890  \n",
       "std     79442.502883  \n",
       "min     34900.000000  \n",
       "25%    129975.000000  \n",
       "50%    163000.000000  \n",
       "75%    214000.000000  \n",
       "max    755000.000000  \n",
       "\n",
       "[8 rows x 37 columns]"
      ]
     },
     "execution_count": 310,
     "metadata": {},
     "output_type": "execute_result"
    }
   ],
   "source": [
    "train_df.describe()"
   ]
  },
  {
   "cell_type": "code",
   "execution_count": 311,
   "metadata": {},
   "outputs": [
    {
     "data": {
      "text/html": [
       "<div>\n",
       "<style scoped>\n",
       "    .dataframe tbody tr th:only-of-type {\n",
       "        vertical-align: middle;\n",
       "    }\n",
       "\n",
       "    .dataframe tbody tr th {\n",
       "        vertical-align: top;\n",
       "    }\n",
       "\n",
       "    .dataframe thead th {\n",
       "        text-align: right;\n",
       "    }\n",
       "</style>\n",
       "<table border=\"1\" class=\"dataframe\">\n",
       "  <thead>\n",
       "    <tr style=\"text-align: right;\">\n",
       "      <th></th>\n",
       "      <th>MSSubClass</th>\n",
       "      <th>LotFrontage</th>\n",
       "      <th>LotArea</th>\n",
       "      <th>OverallQual</th>\n",
       "      <th>OverallCond</th>\n",
       "      <th>YearBuilt</th>\n",
       "      <th>YearRemodAdd</th>\n",
       "      <th>MasVnrArea</th>\n",
       "      <th>BsmtFinSF1</th>\n",
       "      <th>BsmtFinSF2</th>\n",
       "      <th>...</th>\n",
       "      <th>GarageArea</th>\n",
       "      <th>WoodDeckSF</th>\n",
       "      <th>OpenPorchSF</th>\n",
       "      <th>EnclosedPorch</th>\n",
       "      <th>3SsnPorch</th>\n",
       "      <th>ScreenPorch</th>\n",
       "      <th>PoolArea</th>\n",
       "      <th>MiscVal</th>\n",
       "      <th>MoSold</th>\n",
       "      <th>YrSold</th>\n",
       "    </tr>\n",
       "  </thead>\n",
       "  <tbody>\n",
       "    <tr>\n",
       "      <th>count</th>\n",
       "      <td>1459.000000</td>\n",
       "      <td>1232.000000</td>\n",
       "      <td>1459.000000</td>\n",
       "      <td>1459.000000</td>\n",
       "      <td>1459.000000</td>\n",
       "      <td>1459.000000</td>\n",
       "      <td>1459.000000</td>\n",
       "      <td>1444.000000</td>\n",
       "      <td>1458.000000</td>\n",
       "      <td>1458.000000</td>\n",
       "      <td>...</td>\n",
       "      <td>1458.000000</td>\n",
       "      <td>1459.000000</td>\n",
       "      <td>1459.000000</td>\n",
       "      <td>1459.000000</td>\n",
       "      <td>1459.000000</td>\n",
       "      <td>1459.000000</td>\n",
       "      <td>1459.000000</td>\n",
       "      <td>1459.000000</td>\n",
       "      <td>1459.000000</td>\n",
       "      <td>1459.000000</td>\n",
       "    </tr>\n",
       "    <tr>\n",
       "      <th>mean</th>\n",
       "      <td>57.378341</td>\n",
       "      <td>68.580357</td>\n",
       "      <td>9819.161069</td>\n",
       "      <td>6.078821</td>\n",
       "      <td>5.553804</td>\n",
       "      <td>1971.357779</td>\n",
       "      <td>1983.662783</td>\n",
       "      <td>100.709141</td>\n",
       "      <td>439.203704</td>\n",
       "      <td>52.619342</td>\n",
       "      <td>...</td>\n",
       "      <td>472.768861</td>\n",
       "      <td>93.174777</td>\n",
       "      <td>48.313914</td>\n",
       "      <td>24.243317</td>\n",
       "      <td>1.794380</td>\n",
       "      <td>17.064428</td>\n",
       "      <td>1.744345</td>\n",
       "      <td>58.167923</td>\n",
       "      <td>6.104181</td>\n",
       "      <td>2007.769705</td>\n",
       "    </tr>\n",
       "    <tr>\n",
       "      <th>std</th>\n",
       "      <td>42.746880</td>\n",
       "      <td>22.376841</td>\n",
       "      <td>4955.517327</td>\n",
       "      <td>1.436812</td>\n",
       "      <td>1.113740</td>\n",
       "      <td>30.390071</td>\n",
       "      <td>21.130467</td>\n",
       "      <td>177.625900</td>\n",
       "      <td>455.268042</td>\n",
       "      <td>176.753926</td>\n",
       "      <td>...</td>\n",
       "      <td>217.048611</td>\n",
       "      <td>127.744882</td>\n",
       "      <td>68.883364</td>\n",
       "      <td>67.227765</td>\n",
       "      <td>20.207842</td>\n",
       "      <td>56.609763</td>\n",
       "      <td>30.491646</td>\n",
       "      <td>630.806978</td>\n",
       "      <td>2.722432</td>\n",
       "      <td>1.301740</td>\n",
       "    </tr>\n",
       "    <tr>\n",
       "      <th>min</th>\n",
       "      <td>20.000000</td>\n",
       "      <td>21.000000</td>\n",
       "      <td>1470.000000</td>\n",
       "      <td>1.000000</td>\n",
       "      <td>1.000000</td>\n",
       "      <td>1879.000000</td>\n",
       "      <td>1950.000000</td>\n",
       "      <td>0.000000</td>\n",
       "      <td>0.000000</td>\n",
       "      <td>0.000000</td>\n",
       "      <td>...</td>\n",
       "      <td>0.000000</td>\n",
       "      <td>0.000000</td>\n",
       "      <td>0.000000</td>\n",
       "      <td>0.000000</td>\n",
       "      <td>0.000000</td>\n",
       "      <td>0.000000</td>\n",
       "      <td>0.000000</td>\n",
       "      <td>0.000000</td>\n",
       "      <td>1.000000</td>\n",
       "      <td>2006.000000</td>\n",
       "    </tr>\n",
       "    <tr>\n",
       "      <th>25%</th>\n",
       "      <td>20.000000</td>\n",
       "      <td>58.000000</td>\n",
       "      <td>7391.000000</td>\n",
       "      <td>5.000000</td>\n",
       "      <td>5.000000</td>\n",
       "      <td>1953.000000</td>\n",
       "      <td>1963.000000</td>\n",
       "      <td>0.000000</td>\n",
       "      <td>0.000000</td>\n",
       "      <td>0.000000</td>\n",
       "      <td>...</td>\n",
       "      <td>318.000000</td>\n",
       "      <td>0.000000</td>\n",
       "      <td>0.000000</td>\n",
       "      <td>0.000000</td>\n",
       "      <td>0.000000</td>\n",
       "      <td>0.000000</td>\n",
       "      <td>0.000000</td>\n",
       "      <td>0.000000</td>\n",
       "      <td>4.000000</td>\n",
       "      <td>2007.000000</td>\n",
       "    </tr>\n",
       "    <tr>\n",
       "      <th>50%</th>\n",
       "      <td>50.000000</td>\n",
       "      <td>67.000000</td>\n",
       "      <td>9399.000000</td>\n",
       "      <td>6.000000</td>\n",
       "      <td>5.000000</td>\n",
       "      <td>1973.000000</td>\n",
       "      <td>1992.000000</td>\n",
       "      <td>0.000000</td>\n",
       "      <td>350.500000</td>\n",
       "      <td>0.000000</td>\n",
       "      <td>...</td>\n",
       "      <td>480.000000</td>\n",
       "      <td>0.000000</td>\n",
       "      <td>28.000000</td>\n",
       "      <td>0.000000</td>\n",
       "      <td>0.000000</td>\n",
       "      <td>0.000000</td>\n",
       "      <td>0.000000</td>\n",
       "      <td>0.000000</td>\n",
       "      <td>6.000000</td>\n",
       "      <td>2008.000000</td>\n",
       "    </tr>\n",
       "    <tr>\n",
       "      <th>75%</th>\n",
       "      <td>70.000000</td>\n",
       "      <td>80.000000</td>\n",
       "      <td>11517.500000</td>\n",
       "      <td>7.000000</td>\n",
       "      <td>6.000000</td>\n",
       "      <td>2001.000000</td>\n",
       "      <td>2004.000000</td>\n",
       "      <td>164.000000</td>\n",
       "      <td>753.500000</td>\n",
       "      <td>0.000000</td>\n",
       "      <td>...</td>\n",
       "      <td>576.000000</td>\n",
       "      <td>168.000000</td>\n",
       "      <td>72.000000</td>\n",
       "      <td>0.000000</td>\n",
       "      <td>0.000000</td>\n",
       "      <td>0.000000</td>\n",
       "      <td>0.000000</td>\n",
       "      <td>0.000000</td>\n",
       "      <td>8.000000</td>\n",
       "      <td>2009.000000</td>\n",
       "    </tr>\n",
       "    <tr>\n",
       "      <th>max</th>\n",
       "      <td>190.000000</td>\n",
       "      <td>200.000000</td>\n",
       "      <td>56600.000000</td>\n",
       "      <td>10.000000</td>\n",
       "      <td>9.000000</td>\n",
       "      <td>2010.000000</td>\n",
       "      <td>2010.000000</td>\n",
       "      <td>1290.000000</td>\n",
       "      <td>4010.000000</td>\n",
       "      <td>1526.000000</td>\n",
       "      <td>...</td>\n",
       "      <td>1488.000000</td>\n",
       "      <td>1424.000000</td>\n",
       "      <td>742.000000</td>\n",
       "      <td>1012.000000</td>\n",
       "      <td>360.000000</td>\n",
       "      <td>576.000000</td>\n",
       "      <td>800.000000</td>\n",
       "      <td>17000.000000</td>\n",
       "      <td>12.000000</td>\n",
       "      <td>2010.000000</td>\n",
       "    </tr>\n",
       "  </tbody>\n",
       "</table>\n",
       "<p>8 rows × 36 columns</p>\n",
       "</div>"
      ],
      "text/plain": [
       "        MSSubClass  LotFrontage       LotArea  OverallQual  OverallCond  \\\n",
       "count  1459.000000  1232.000000   1459.000000  1459.000000  1459.000000   \n",
       "mean     57.378341    68.580357   9819.161069     6.078821     5.553804   \n",
       "std      42.746880    22.376841   4955.517327     1.436812     1.113740   \n",
       "min      20.000000    21.000000   1470.000000     1.000000     1.000000   \n",
       "25%      20.000000    58.000000   7391.000000     5.000000     5.000000   \n",
       "50%      50.000000    67.000000   9399.000000     6.000000     5.000000   \n",
       "75%      70.000000    80.000000  11517.500000     7.000000     6.000000   \n",
       "max     190.000000   200.000000  56600.000000    10.000000     9.000000   \n",
       "\n",
       "         YearBuilt  YearRemodAdd   MasVnrArea   BsmtFinSF1   BsmtFinSF2  \\\n",
       "count  1459.000000   1459.000000  1444.000000  1458.000000  1458.000000   \n",
       "mean   1971.357779   1983.662783   100.709141   439.203704    52.619342   \n",
       "std      30.390071     21.130467   177.625900   455.268042   176.753926   \n",
       "min    1879.000000   1950.000000     0.000000     0.000000     0.000000   \n",
       "25%    1953.000000   1963.000000     0.000000     0.000000     0.000000   \n",
       "50%    1973.000000   1992.000000     0.000000   350.500000     0.000000   \n",
       "75%    2001.000000   2004.000000   164.000000   753.500000     0.000000   \n",
       "max    2010.000000   2010.000000  1290.000000  4010.000000  1526.000000   \n",
       "\n",
       "          ...        GarageArea   WoodDeckSF  OpenPorchSF  EnclosedPorch  \\\n",
       "count     ...       1458.000000  1459.000000  1459.000000    1459.000000   \n",
       "mean      ...        472.768861    93.174777    48.313914      24.243317   \n",
       "std       ...        217.048611   127.744882    68.883364      67.227765   \n",
       "min       ...          0.000000     0.000000     0.000000       0.000000   \n",
       "25%       ...        318.000000     0.000000     0.000000       0.000000   \n",
       "50%       ...        480.000000     0.000000    28.000000       0.000000   \n",
       "75%       ...        576.000000   168.000000    72.000000       0.000000   \n",
       "max       ...       1488.000000  1424.000000   742.000000    1012.000000   \n",
       "\n",
       "         3SsnPorch  ScreenPorch     PoolArea       MiscVal       MoSold  \\\n",
       "count  1459.000000  1459.000000  1459.000000   1459.000000  1459.000000   \n",
       "mean      1.794380    17.064428     1.744345     58.167923     6.104181   \n",
       "std      20.207842    56.609763    30.491646    630.806978     2.722432   \n",
       "min       0.000000     0.000000     0.000000      0.000000     1.000000   \n",
       "25%       0.000000     0.000000     0.000000      0.000000     4.000000   \n",
       "50%       0.000000     0.000000     0.000000      0.000000     6.000000   \n",
       "75%       0.000000     0.000000     0.000000      0.000000     8.000000   \n",
       "max     360.000000   576.000000   800.000000  17000.000000    12.000000   \n",
       "\n",
       "            YrSold  \n",
       "count  1459.000000  \n",
       "mean   2007.769705  \n",
       "std       1.301740  \n",
       "min    2006.000000  \n",
       "25%    2007.000000  \n",
       "50%    2008.000000  \n",
       "75%    2009.000000  \n",
       "max    2010.000000  \n",
       "\n",
       "[8 rows x 36 columns]"
      ]
     },
     "execution_count": 311,
     "metadata": {},
     "output_type": "execute_result"
    }
   ],
   "source": [
    "test_df.describe()"
   ]
  },
  {
   "cell_type": "markdown",
   "metadata": {},
   "source": [
    "# Filling in missing values\n",
    "\n",
    "iterpolate() will fill in missing values with the mean value. It is make sure that the standard deviation is not affected by missing values."
   ]
  },
  {
   "cell_type": "code",
   "execution_count": 312,
   "metadata": {
    "_uuid": "1a4e5ad56c7baa9a3c46ab4354b7b40d1afe99c6"
   },
   "outputs": [],
   "source": [
    "#train_df.interpolate(inplace=True)\n",
    "#test_df.interpolate(inplace=True)"
   ]
  },
  {
   "cell_type": "code",
   "execution_count": 313,
   "metadata": {
    "_uuid": "52339703d18cc70c4a9e2e7c3f4ab329a0530c9e",
    "scrolled": true
   },
   "outputs": [],
   "source": [
    "#train_df=pd.get_dummies(train_df)\n",
    "#test_df=pd.get_dummies(test_df)"
   ]
  },
  {
   "cell_type": "code",
   "execution_count": 314,
   "metadata": {},
   "outputs": [
    {
     "name": "stderr",
     "output_type": "stream",
     "text": [
      "C:\\Users\\RachnaGupta\\Anaconda3\\lib\\site-packages\\pandas\\core\\indexing.py:194: SettingWithCopyWarning: \n",
      "A value is trying to be set on a copy of a slice from a DataFrame\n",
      "\n",
      "See the caveats in the documentation: http://pandas.pydata.org/pandas-docs/stable/indexing.html#indexing-view-versus-copy\n",
      "  self._setitem_with_indexer(indexer, value)\n"
     ]
    }
   ],
   "source": [
    "for dataset in [train_df, test_df]:\n",
    "    dataset.LotFrontage.loc[dataset['LotFrontage'].isnull()]=0"
   ]
  },
  {
   "cell_type": "code",
   "execution_count": null,
   "metadata": {},
   "outputs": [],
   "source": []
  },
  {
   "cell_type": "code",
   "execution_count": null,
   "metadata": {},
   "outputs": [],
   "source": []
  },
  {
   "cell_type": "code",
   "execution_count": 315,
   "metadata": {},
   "outputs": [
    {
     "name": "stdout",
     "output_type": "stream",
     "text": [
      "\\skew in numerical features: \n",
      "\n",
      "                   Skew\n",
      "MiscVal       24.451640\n",
      "PoolArea      14.813135\n",
      "LotArea       12.195142\n",
      "3SsnPorch     10.293752\n",
      "LowQualFinSF   9.002080\n",
      "KitchenAbvGr   4.483784\n",
      "BsmtFinSF2     4.250888\n",
      "\\skew in numerical features: \n",
      "\n",
      "                    Skew\n",
      "PoolArea       20.176117\n",
      "MiscVal        20.054543\n",
      "LowQualFinSF   16.150628\n",
      "3SsnPorch      12.511336\n",
      "EnclosedPorch   4.664371\n",
      "KitchenAbvGr    4.074860\n",
      "BsmtFinSF2      4.037186\n"
     ]
    }
   ],
   "source": [
    "#log transform skewed numeric features \n",
    "\n",
    "for dataset in [train_df, test_df]:\n",
    "    numeric_features = dataset.dtypes[dataset.dtypes != \"object\"].index\n",
    "\n",
    "    skewed_features = dataset[numeric_features].apply(lambda x : skew (x.dropna())).sort_values(ascending=False)\n",
    "    #compute skewness\n",
    "    print (\"\\skew in numerical features: \\n\")\n",
    "    skewness = pd.DataFrame({'Skew' :skewed_features})   \n",
    "    print(skewness.head(7))"
   ]
  },
  {
   "cell_type": "markdown",
   "metadata": {},
   "source": [
    "## Box cox transformation of highly skewed features"
   ]
  },
  {
   "cell_type": "code",
   "execution_count": 449,
   "metadata": {},
   "outputs": [
    {
     "name": "stdout",
     "output_type": "stream",
     "text": [
      "There are 36 skewed numerical features to box cox transform\n"
     ]
    },
    {
     "ename": "KeyError",
     "evalue": "'1stFlrSF'",
     "output_type": "error",
     "traceback": [
      "\u001b[1;31m---------------------------------------------------------------------------\u001b[0m",
      "\u001b[1;31mKeyError\u001b[0m                                  Traceback (most recent call last)",
      "\u001b[1;32m~\\Anaconda3\\lib\\site-packages\\pandas\\core\\indexes\\base.py\u001b[0m in \u001b[0;36mget_loc\u001b[1;34m(self, key, method, tolerance)\u001b[0m\n\u001b[0;32m   2524\u001b[0m             \u001b[1;32mtry\u001b[0m\u001b[1;33m:\u001b[0m\u001b[1;33m\u001b[0m\u001b[0m\n\u001b[1;32m-> 2525\u001b[1;33m                 \u001b[1;32mreturn\u001b[0m \u001b[0mself\u001b[0m\u001b[1;33m.\u001b[0m\u001b[0m_engine\u001b[0m\u001b[1;33m.\u001b[0m\u001b[0mget_loc\u001b[0m\u001b[1;33m(\u001b[0m\u001b[0mkey\u001b[0m\u001b[1;33m)\u001b[0m\u001b[1;33m\u001b[0m\u001b[0m\n\u001b[0m\u001b[0;32m   2526\u001b[0m             \u001b[1;32mexcept\u001b[0m \u001b[0mKeyError\u001b[0m\u001b[1;33m:\u001b[0m\u001b[1;33m\u001b[0m\u001b[0m\n",
      "\u001b[1;32mpandas/_libs/index.pyx\u001b[0m in \u001b[0;36mpandas._libs.index.IndexEngine.get_loc\u001b[1;34m()\u001b[0m\n",
      "\u001b[1;32mpandas/_libs/index.pyx\u001b[0m in \u001b[0;36mpandas._libs.index.IndexEngine.get_loc\u001b[1;34m()\u001b[0m\n",
      "\u001b[1;32mpandas/_libs/hashtable_class_helper.pxi\u001b[0m in \u001b[0;36mpandas._libs.hashtable.PyObjectHashTable.get_item\u001b[1;34m()\u001b[0m\n",
      "\u001b[1;32mpandas/_libs/hashtable_class_helper.pxi\u001b[0m in \u001b[0;36mpandas._libs.hashtable.PyObjectHashTable.get_item\u001b[1;34m()\u001b[0m\n",
      "\u001b[1;31mKeyError\u001b[0m: '1stFlrSF'",
      "\nDuring handling of the above exception, another exception occurred:\n",
      "\u001b[1;31mKeyError\u001b[0m                                  Traceback (most recent call last)",
      "\u001b[1;32m<ipython-input-449-c961ed160849>\u001b[0m in \u001b[0;36m<module>\u001b[1;34m()\u001b[0m\n\u001b[0;32m      8\u001b[0m     \u001b[0mlam\u001b[0m \u001b[1;33m=\u001b[0m \u001b[1;36m0.15\u001b[0m\u001b[1;33m\u001b[0m\u001b[0m\n\u001b[0;32m      9\u001b[0m     \u001b[1;32mfor\u001b[0m \u001b[0mfeat\u001b[0m \u001b[1;32min\u001b[0m \u001b[0mskewed_features\u001b[0m\u001b[1;33m:\u001b[0m\u001b[1;33m\u001b[0m\u001b[0m\n\u001b[1;32m---> 10\u001b[1;33m         \u001b[0mdataset\u001b[0m\u001b[1;33m[\u001b[0m\u001b[0mfeat\u001b[0m\u001b[1;33m]\u001b[0m \u001b[1;33m=\u001b[0m \u001b[0mboxcox1p\u001b[0m\u001b[1;33m(\u001b[0m\u001b[0mdataset\u001b[0m\u001b[1;33m[\u001b[0m\u001b[0mfeat\u001b[0m\u001b[1;33m]\u001b[0m\u001b[1;33m,\u001b[0m \u001b[0mlam\u001b[0m\u001b[1;33m)\u001b[0m\u001b[1;33m\u001b[0m\u001b[0m\n\u001b[0m",
      "\u001b[1;32m~\\Anaconda3\\lib\\site-packages\\pandas\\core\\frame.py\u001b[0m in \u001b[0;36m__getitem__\u001b[1;34m(self, key)\u001b[0m\n\u001b[0;32m   2137\u001b[0m             \u001b[1;32mreturn\u001b[0m \u001b[0mself\u001b[0m\u001b[1;33m.\u001b[0m\u001b[0m_getitem_multilevel\u001b[0m\u001b[1;33m(\u001b[0m\u001b[0mkey\u001b[0m\u001b[1;33m)\u001b[0m\u001b[1;33m\u001b[0m\u001b[0m\n\u001b[0;32m   2138\u001b[0m         \u001b[1;32melse\u001b[0m\u001b[1;33m:\u001b[0m\u001b[1;33m\u001b[0m\u001b[0m\n\u001b[1;32m-> 2139\u001b[1;33m             \u001b[1;32mreturn\u001b[0m \u001b[0mself\u001b[0m\u001b[1;33m.\u001b[0m\u001b[0m_getitem_column\u001b[0m\u001b[1;33m(\u001b[0m\u001b[0mkey\u001b[0m\u001b[1;33m)\u001b[0m\u001b[1;33m\u001b[0m\u001b[0m\n\u001b[0m\u001b[0;32m   2140\u001b[0m \u001b[1;33m\u001b[0m\u001b[0m\n\u001b[0;32m   2141\u001b[0m     \u001b[1;32mdef\u001b[0m \u001b[0m_getitem_column\u001b[0m\u001b[1;33m(\u001b[0m\u001b[0mself\u001b[0m\u001b[1;33m,\u001b[0m \u001b[0mkey\u001b[0m\u001b[1;33m)\u001b[0m\u001b[1;33m:\u001b[0m\u001b[1;33m\u001b[0m\u001b[0m\n",
      "\u001b[1;32m~\\Anaconda3\\lib\\site-packages\\pandas\\core\\frame.py\u001b[0m in \u001b[0;36m_getitem_column\u001b[1;34m(self, key)\u001b[0m\n\u001b[0;32m   2144\u001b[0m         \u001b[1;31m# get column\u001b[0m\u001b[1;33m\u001b[0m\u001b[1;33m\u001b[0m\u001b[0m\n\u001b[0;32m   2145\u001b[0m         \u001b[1;32mif\u001b[0m \u001b[0mself\u001b[0m\u001b[1;33m.\u001b[0m\u001b[0mcolumns\u001b[0m\u001b[1;33m.\u001b[0m\u001b[0mis_unique\u001b[0m\u001b[1;33m:\u001b[0m\u001b[1;33m\u001b[0m\u001b[0m\n\u001b[1;32m-> 2146\u001b[1;33m             \u001b[1;32mreturn\u001b[0m \u001b[0mself\u001b[0m\u001b[1;33m.\u001b[0m\u001b[0m_get_item_cache\u001b[0m\u001b[1;33m(\u001b[0m\u001b[0mkey\u001b[0m\u001b[1;33m)\u001b[0m\u001b[1;33m\u001b[0m\u001b[0m\n\u001b[0m\u001b[0;32m   2147\u001b[0m \u001b[1;33m\u001b[0m\u001b[0m\n\u001b[0;32m   2148\u001b[0m         \u001b[1;31m# duplicate columns & possible reduce dimensionality\u001b[0m\u001b[1;33m\u001b[0m\u001b[1;33m\u001b[0m\u001b[0m\n",
      "\u001b[1;32m~\\Anaconda3\\lib\\site-packages\\pandas\\core\\generic.py\u001b[0m in \u001b[0;36m_get_item_cache\u001b[1;34m(self, item)\u001b[0m\n\u001b[0;32m   1840\u001b[0m         \u001b[0mres\u001b[0m \u001b[1;33m=\u001b[0m \u001b[0mcache\u001b[0m\u001b[1;33m.\u001b[0m\u001b[0mget\u001b[0m\u001b[1;33m(\u001b[0m\u001b[0mitem\u001b[0m\u001b[1;33m)\u001b[0m\u001b[1;33m\u001b[0m\u001b[0m\n\u001b[0;32m   1841\u001b[0m         \u001b[1;32mif\u001b[0m \u001b[0mres\u001b[0m \u001b[1;32mis\u001b[0m \u001b[1;32mNone\u001b[0m\u001b[1;33m:\u001b[0m\u001b[1;33m\u001b[0m\u001b[0m\n\u001b[1;32m-> 1842\u001b[1;33m             \u001b[0mvalues\u001b[0m \u001b[1;33m=\u001b[0m \u001b[0mself\u001b[0m\u001b[1;33m.\u001b[0m\u001b[0m_data\u001b[0m\u001b[1;33m.\u001b[0m\u001b[0mget\u001b[0m\u001b[1;33m(\u001b[0m\u001b[0mitem\u001b[0m\u001b[1;33m)\u001b[0m\u001b[1;33m\u001b[0m\u001b[0m\n\u001b[0m\u001b[0;32m   1843\u001b[0m             \u001b[0mres\u001b[0m \u001b[1;33m=\u001b[0m \u001b[0mself\u001b[0m\u001b[1;33m.\u001b[0m\u001b[0m_box_item_values\u001b[0m\u001b[1;33m(\u001b[0m\u001b[0mitem\u001b[0m\u001b[1;33m,\u001b[0m \u001b[0mvalues\u001b[0m\u001b[1;33m)\u001b[0m\u001b[1;33m\u001b[0m\u001b[0m\n\u001b[0;32m   1844\u001b[0m             \u001b[0mcache\u001b[0m\u001b[1;33m[\u001b[0m\u001b[0mitem\u001b[0m\u001b[1;33m]\u001b[0m \u001b[1;33m=\u001b[0m \u001b[0mres\u001b[0m\u001b[1;33m\u001b[0m\u001b[0m\n",
      "\u001b[1;32m~\\Anaconda3\\lib\\site-packages\\pandas\\core\\internals.py\u001b[0m in \u001b[0;36mget\u001b[1;34m(self, item, fastpath)\u001b[0m\n\u001b[0;32m   3841\u001b[0m \u001b[1;33m\u001b[0m\u001b[0m\n\u001b[0;32m   3842\u001b[0m             \u001b[1;32mif\u001b[0m \u001b[1;32mnot\u001b[0m \u001b[0misna\u001b[0m\u001b[1;33m(\u001b[0m\u001b[0mitem\u001b[0m\u001b[1;33m)\u001b[0m\u001b[1;33m:\u001b[0m\u001b[1;33m\u001b[0m\u001b[0m\n\u001b[1;32m-> 3843\u001b[1;33m                 \u001b[0mloc\u001b[0m \u001b[1;33m=\u001b[0m \u001b[0mself\u001b[0m\u001b[1;33m.\u001b[0m\u001b[0mitems\u001b[0m\u001b[1;33m.\u001b[0m\u001b[0mget_loc\u001b[0m\u001b[1;33m(\u001b[0m\u001b[0mitem\u001b[0m\u001b[1;33m)\u001b[0m\u001b[1;33m\u001b[0m\u001b[0m\n\u001b[0m\u001b[0;32m   3844\u001b[0m             \u001b[1;32melse\u001b[0m\u001b[1;33m:\u001b[0m\u001b[1;33m\u001b[0m\u001b[0m\n\u001b[0;32m   3845\u001b[0m                 \u001b[0mindexer\u001b[0m \u001b[1;33m=\u001b[0m \u001b[0mnp\u001b[0m\u001b[1;33m.\u001b[0m\u001b[0marange\u001b[0m\u001b[1;33m(\u001b[0m\u001b[0mlen\u001b[0m\u001b[1;33m(\u001b[0m\u001b[0mself\u001b[0m\u001b[1;33m.\u001b[0m\u001b[0mitems\u001b[0m\u001b[1;33m)\u001b[0m\u001b[1;33m)\u001b[0m\u001b[1;33m[\u001b[0m\u001b[0misna\u001b[0m\u001b[1;33m(\u001b[0m\u001b[0mself\u001b[0m\u001b[1;33m.\u001b[0m\u001b[0mitems\u001b[0m\u001b[1;33m)\u001b[0m\u001b[1;33m]\u001b[0m\u001b[1;33m\u001b[0m\u001b[0m\n",
      "\u001b[1;32m~\\Anaconda3\\lib\\site-packages\\pandas\\core\\indexes\\base.py\u001b[0m in \u001b[0;36mget_loc\u001b[1;34m(self, key, method, tolerance)\u001b[0m\n\u001b[0;32m   2525\u001b[0m                 \u001b[1;32mreturn\u001b[0m \u001b[0mself\u001b[0m\u001b[1;33m.\u001b[0m\u001b[0m_engine\u001b[0m\u001b[1;33m.\u001b[0m\u001b[0mget_loc\u001b[0m\u001b[1;33m(\u001b[0m\u001b[0mkey\u001b[0m\u001b[1;33m)\u001b[0m\u001b[1;33m\u001b[0m\u001b[0m\n\u001b[0;32m   2526\u001b[0m             \u001b[1;32mexcept\u001b[0m \u001b[0mKeyError\u001b[0m\u001b[1;33m:\u001b[0m\u001b[1;33m\u001b[0m\u001b[0m\n\u001b[1;32m-> 2527\u001b[1;33m                 \u001b[1;32mreturn\u001b[0m \u001b[0mself\u001b[0m\u001b[1;33m.\u001b[0m\u001b[0m_engine\u001b[0m\u001b[1;33m.\u001b[0m\u001b[0mget_loc\u001b[0m\u001b[1;33m(\u001b[0m\u001b[0mself\u001b[0m\u001b[1;33m.\u001b[0m\u001b[0m_maybe_cast_indexer\u001b[0m\u001b[1;33m(\u001b[0m\u001b[0mkey\u001b[0m\u001b[1;33m)\u001b[0m\u001b[1;33m)\u001b[0m\u001b[1;33m\u001b[0m\u001b[0m\n\u001b[0m\u001b[0;32m   2528\u001b[0m \u001b[1;33m\u001b[0m\u001b[0m\n\u001b[0;32m   2529\u001b[0m         \u001b[0mindexer\u001b[0m \u001b[1;33m=\u001b[0m \u001b[0mself\u001b[0m\u001b[1;33m.\u001b[0m\u001b[0mget_indexer\u001b[0m\u001b[1;33m(\u001b[0m\u001b[1;33m[\u001b[0m\u001b[0mkey\u001b[0m\u001b[1;33m]\u001b[0m\u001b[1;33m,\u001b[0m \u001b[0mmethod\u001b[0m\u001b[1;33m=\u001b[0m\u001b[0mmethod\u001b[0m\u001b[1;33m,\u001b[0m \u001b[0mtolerance\u001b[0m\u001b[1;33m=\u001b[0m\u001b[0mtolerance\u001b[0m\u001b[1;33m)\u001b[0m\u001b[1;33m\u001b[0m\u001b[0m\n",
      "\u001b[1;32mpandas/_libs/index.pyx\u001b[0m in \u001b[0;36mpandas._libs.index.IndexEngine.get_loc\u001b[1;34m()\u001b[0m\n",
      "\u001b[1;32mpandas/_libs/index.pyx\u001b[0m in \u001b[0;36mpandas._libs.index.IndexEngine.get_loc\u001b[1;34m()\u001b[0m\n",
      "\u001b[1;32mpandas/_libs/hashtable_class_helper.pxi\u001b[0m in \u001b[0;36mpandas._libs.hashtable.PyObjectHashTable.get_item\u001b[1;34m()\u001b[0m\n",
      "\u001b[1;32mpandas/_libs/hashtable_class_helper.pxi\u001b[0m in \u001b[0;36mpandas._libs.hashtable.PyObjectHashTable.get_item\u001b[1;34m()\u001b[0m\n",
      "\u001b[1;31mKeyError\u001b[0m: '1stFlrSF'"
     ]
    }
   ],
   "source": [
    "from scipy.special import boxcox1p \n",
    "\n",
    "for dataset in [train_df, test_df]:\n",
    "    skewness = skewness[abs(skewness) > 0.75]\n",
    "    print (\"There are {} skewed numerical features to box cox transform\".format(skewness.shape[0]))\n",
    "    \n",
    "    skewed_features = skewness.index\n",
    "    lam = 0.15\n",
    "    for feat in skewed_features:\n",
    "        dataset[feat] = boxcox1p(dataset[feat], lam)"
   ]
  },
  {
   "cell_type": "code",
   "execution_count": 317,
   "metadata": {},
   "outputs": [
    {
     "data": {
      "text/html": [
       "<div>\n",
       "<style scoped>\n",
       "    .dataframe tbody tr th:only-of-type {\n",
       "        vertical-align: middle;\n",
       "    }\n",
       "\n",
       "    .dataframe tbody tr th {\n",
       "        vertical-align: top;\n",
       "    }\n",
       "\n",
       "    .dataframe thead th {\n",
       "        text-align: right;\n",
       "    }\n",
       "</style>\n",
       "<table border=\"1\" class=\"dataframe\">\n",
       "  <thead>\n",
       "    <tr style=\"text-align: right;\">\n",
       "      <th></th>\n",
       "      <th>MSSubClass</th>\n",
       "      <th>MSZoning</th>\n",
       "      <th>LotFrontage</th>\n",
       "      <th>LotArea</th>\n",
       "      <th>Street</th>\n",
       "      <th>Alley</th>\n",
       "      <th>LotShape</th>\n",
       "      <th>LandContour</th>\n",
       "      <th>Utilities</th>\n",
       "      <th>LotConfig</th>\n",
       "      <th>...</th>\n",
       "      <th>PoolArea</th>\n",
       "      <th>PoolQC</th>\n",
       "      <th>Fence</th>\n",
       "      <th>MiscFeature</th>\n",
       "      <th>MiscVal</th>\n",
       "      <th>MoSold</th>\n",
       "      <th>YrSold</th>\n",
       "      <th>SaleType</th>\n",
       "      <th>SaleCondition</th>\n",
       "      <th>SalePrice</th>\n",
       "    </tr>\n",
       "    <tr>\n",
       "      <th>Id</th>\n",
       "      <th></th>\n",
       "      <th></th>\n",
       "      <th></th>\n",
       "      <th></th>\n",
       "      <th></th>\n",
       "      <th></th>\n",
       "      <th></th>\n",
       "      <th></th>\n",
       "      <th></th>\n",
       "      <th></th>\n",
       "      <th></th>\n",
       "      <th></th>\n",
       "      <th></th>\n",
       "      <th></th>\n",
       "      <th></th>\n",
       "      <th></th>\n",
       "      <th></th>\n",
       "      <th></th>\n",
       "      <th></th>\n",
       "      <th></th>\n",
       "      <th></th>\n",
       "    </tr>\n",
       "  </thead>\n",
       "  <tbody>\n",
       "    <tr>\n",
       "      <th>1</th>\n",
       "      <td>5.684507</td>\n",
       "      <td>RL</td>\n",
       "      <td>5.831328</td>\n",
       "      <td>19.212182</td>\n",
       "      <td>Pave</td>\n",
       "      <td>NaN</td>\n",
       "      <td>Reg</td>\n",
       "      <td>Lvl</td>\n",
       "      <td>AllPub</td>\n",
       "      <td>Inside</td>\n",
       "      <td>...</td>\n",
       "      <td>0.0</td>\n",
       "      <td>NaN</td>\n",
       "      <td>NaN</td>\n",
       "      <td>NaN</td>\n",
       "      <td>0.000000</td>\n",
       "      <td>1.194318</td>\n",
       "      <td>14.195323</td>\n",
       "      <td>WD</td>\n",
       "      <td>Normal</td>\n",
       "      <td>208500</td>\n",
       "    </tr>\n",
       "    <tr>\n",
       "      <th>2</th>\n",
       "      <td>3.858807</td>\n",
       "      <td>RL</td>\n",
       "      <td>6.221214</td>\n",
       "      <td>19.712205</td>\n",
       "      <td>Pave</td>\n",
       "      <td>NaN</td>\n",
       "      <td>Reg</td>\n",
       "      <td>Lvl</td>\n",
       "      <td>AllPub</td>\n",
       "      <td>FR2</td>\n",
       "      <td>...</td>\n",
       "      <td>0.0</td>\n",
       "      <td>NaN</td>\n",
       "      <td>NaN</td>\n",
       "      <td>NaN</td>\n",
       "      <td>0.000000</td>\n",
       "      <td>2.055642</td>\n",
       "      <td>14.193765</td>\n",
       "      <td>WD</td>\n",
       "      <td>Normal</td>\n",
       "      <td>181500</td>\n",
       "    </tr>\n",
       "    <tr>\n",
       "      <th>3</th>\n",
       "      <td>5.684507</td>\n",
       "      <td>RL</td>\n",
       "      <td>5.914940</td>\n",
       "      <td>20.347241</td>\n",
       "      <td>Pave</td>\n",
       "      <td>NaN</td>\n",
       "      <td>IR1</td>\n",
       "      <td>Lvl</td>\n",
       "      <td>AllPub</td>\n",
       "      <td>Inside</td>\n",
       "      <td>...</td>\n",
       "      <td>0.0</td>\n",
       "      <td>NaN</td>\n",
       "      <td>NaN</td>\n",
       "      <td>NaN</td>\n",
       "      <td>0.000000</td>\n",
       "      <td>2.750250</td>\n",
       "      <td>14.195323</td>\n",
       "      <td>WD</td>\n",
       "      <td>Normal</td>\n",
       "      <td>223500</td>\n",
       "    </tr>\n",
       "    <tr>\n",
       "      <th>4</th>\n",
       "      <td>5.968981</td>\n",
       "      <td>RL</td>\n",
       "      <td>5.684507</td>\n",
       "      <td>19.691553</td>\n",
       "      <td>Pave</td>\n",
       "      <td>NaN</td>\n",
       "      <td>IR1</td>\n",
       "      <td>Lvl</td>\n",
       "      <td>AllPub</td>\n",
       "      <td>Corner</td>\n",
       "      <td>...</td>\n",
       "      <td>0.0</td>\n",
       "      <td>NaN</td>\n",
       "      <td>NaN</td>\n",
       "      <td>NaN</td>\n",
       "      <td>0.000000</td>\n",
       "      <td>1.194318</td>\n",
       "      <td>14.192207</td>\n",
       "      <td>WD</td>\n",
       "      <td>Abnorml</td>\n",
       "      <td>140000</td>\n",
       "    </tr>\n",
       "    <tr>\n",
       "      <th>5</th>\n",
       "      <td>5.684507</td>\n",
       "      <td>RL</td>\n",
       "      <td>6.314735</td>\n",
       "      <td>21.325160</td>\n",
       "      <td>Pave</td>\n",
       "      <td>NaN</td>\n",
       "      <td>IR1</td>\n",
       "      <td>Lvl</td>\n",
       "      <td>AllPub</td>\n",
       "      <td>FR2</td>\n",
       "      <td>...</td>\n",
       "      <td>0.0</td>\n",
       "      <td>NaN</td>\n",
       "      <td>NaN</td>\n",
       "      <td>NaN</td>\n",
       "      <td>0.000000</td>\n",
       "      <td>3.128239</td>\n",
       "      <td>14.195323</td>\n",
       "      <td>WD</td>\n",
       "      <td>Normal</td>\n",
       "      <td>250000</td>\n",
       "    </tr>\n",
       "    <tr>\n",
       "      <th>6</th>\n",
       "      <td>5.357203</td>\n",
       "      <td>RL</td>\n",
       "      <td>6.337529</td>\n",
       "      <td>21.282283</td>\n",
       "      <td>Pave</td>\n",
       "      <td>NaN</td>\n",
       "      <td>IR1</td>\n",
       "      <td>Lvl</td>\n",
       "      <td>AllPub</td>\n",
       "      <td>Inside</td>\n",
       "      <td>...</td>\n",
       "      <td>0.0</td>\n",
       "      <td>NaN</td>\n",
       "      <td>MnPrv</td>\n",
       "      <td>Shed</td>\n",
       "      <td>11.147538</td>\n",
       "      <td>2.885846</td>\n",
       "      <td>14.196881</td>\n",
       "      <td>WD</td>\n",
       "      <td>Normal</td>\n",
       "      <td>143000</td>\n",
       "    </tr>\n",
       "    <tr>\n",
       "      <th>7</th>\n",
       "      <td>3.858807</td>\n",
       "      <td>RL</td>\n",
       "      <td>6.098626</td>\n",
       "      <td>19.907529</td>\n",
       "      <td>Pave</td>\n",
       "      <td>NaN</td>\n",
       "      <td>Reg</td>\n",
       "      <td>Lvl</td>\n",
       "      <td>AllPub</td>\n",
       "      <td>Inside</td>\n",
       "      <td>...</td>\n",
       "      <td>0.0</td>\n",
       "      <td>NaN</td>\n",
       "      <td>NaN</td>\n",
       "      <td>NaN</td>\n",
       "      <td>0.000000</td>\n",
       "      <td>2.602594</td>\n",
       "      <td>14.193765</td>\n",
       "      <td>WD</td>\n",
       "      <td>Normal</td>\n",
       "      <td>307000</td>\n",
       "    </tr>\n",
       "    <tr>\n",
       "      <th>8</th>\n",
       "      <td>5.684507</td>\n",
       "      <td>RL</td>\n",
       "      <td>0.000000</td>\n",
       "      <td>20.023862</td>\n",
       "      <td>Pave</td>\n",
       "      <td>NaN</td>\n",
       "      <td>IR1</td>\n",
       "      <td>Lvl</td>\n",
       "      <td>AllPub</td>\n",
       "      <td>Corner</td>\n",
       "      <td>...</td>\n",
       "      <td>0.0</td>\n",
       "      <td>NaN</td>\n",
       "      <td>NaN</td>\n",
       "      <td>Shed</td>\n",
       "      <td>9.391827</td>\n",
       "      <td>3.011340</td>\n",
       "      <td>14.196881</td>\n",
       "      <td>WD</td>\n",
       "      <td>Normal</td>\n",
       "      <td>200000</td>\n",
       "    </tr>\n",
       "  </tbody>\n",
       "</table>\n",
       "<p>8 rows × 80 columns</p>\n",
       "</div>"
      ],
      "text/plain": [
       "    MSSubClass MSZoning  LotFrontage    LotArea Street Alley LotShape  \\\n",
       "Id                                                                      \n",
       "1     5.684507       RL     5.831328  19.212182   Pave   NaN      Reg   \n",
       "2     3.858807       RL     6.221214  19.712205   Pave   NaN      Reg   \n",
       "3     5.684507       RL     5.914940  20.347241   Pave   NaN      IR1   \n",
       "4     5.968981       RL     5.684507  19.691553   Pave   NaN      IR1   \n",
       "5     5.684507       RL     6.314735  21.325160   Pave   NaN      IR1   \n",
       "6     5.357203       RL     6.337529  21.282283   Pave   NaN      IR1   \n",
       "7     3.858807       RL     6.098626  19.907529   Pave   NaN      Reg   \n",
       "8     5.684507       RL     0.000000  20.023862   Pave   NaN      IR1   \n",
       "\n",
       "   LandContour Utilities LotConfig    ...     PoolArea PoolQC  Fence  \\\n",
       "Id                                    ...                              \n",
       "1          Lvl    AllPub    Inside    ...          0.0    NaN    NaN   \n",
       "2          Lvl    AllPub       FR2    ...          0.0    NaN    NaN   \n",
       "3          Lvl    AllPub    Inside    ...          0.0    NaN    NaN   \n",
       "4          Lvl    AllPub    Corner    ...          0.0    NaN    NaN   \n",
       "5          Lvl    AllPub       FR2    ...          0.0    NaN    NaN   \n",
       "6          Lvl    AllPub    Inside    ...          0.0    NaN  MnPrv   \n",
       "7          Lvl    AllPub    Inside    ...          0.0    NaN    NaN   \n",
       "8          Lvl    AllPub    Corner    ...          0.0    NaN    NaN   \n",
       "\n",
       "   MiscFeature    MiscVal    MoSold     YrSold  SaleType  SaleCondition  \\\n",
       "Id                                                                        \n",
       "1          NaN   0.000000  1.194318  14.195323        WD         Normal   \n",
       "2          NaN   0.000000  2.055642  14.193765        WD         Normal   \n",
       "3          NaN   0.000000  2.750250  14.195323        WD         Normal   \n",
       "4          NaN   0.000000  1.194318  14.192207        WD        Abnorml   \n",
       "5          NaN   0.000000  3.128239  14.195323        WD         Normal   \n",
       "6         Shed  11.147538  2.885846  14.196881        WD         Normal   \n",
       "7          NaN   0.000000  2.602594  14.193765        WD         Normal   \n",
       "8         Shed   9.391827  3.011340  14.196881        WD         Normal   \n",
       "\n",
       "    SalePrice  \n",
       "Id             \n",
       "1      208500  \n",
       "2      181500  \n",
       "3      223500  \n",
       "4      140000  \n",
       "5      250000  \n",
       "6      143000  \n",
       "7      307000  \n",
       "8      200000  \n",
       "\n",
       "[8 rows x 80 columns]"
      ]
     },
     "execution_count": 317,
     "metadata": {},
     "output_type": "execute_result"
    }
   ],
   "source": [
    "train_df.head(8)"
   ]
  },
  {
   "cell_type": "code",
   "execution_count": 318,
   "metadata": {
    "_uuid": "ca27f846f29f66edc7c0e8e8ac56f2e3600ee1f2",
    "scrolled": true
   },
   "outputs": [
    {
     "name": "stdout",
     "output_type": "stream",
     "text": [
      "Alley    1369\n",
      "MasVnrType    8\n",
      "MasVnrArea    8\n",
      "BsmtQual    37\n",
      "BsmtCond    37\n",
      "BsmtExposure    38\n",
      "BsmtFinType1    37\n",
      "BsmtFinType2    38\n",
      "Electrical    1\n",
      "FireplaceQu    690\n",
      "GarageType    81\n",
      "GarageYrBlt    81\n",
      "GarageFinish    81\n",
      "GarageQual    81\n",
      "GarageCond    81\n",
      "PoolQC    1453\n",
      "Fence    1179\n",
      "MiscFeature    1406\n"
     ]
    }
   ],
   "source": [
    "#v=(train_df['MSSubClass'].isnull().sum())\n",
    "#print(v)\n",
    "for col in (train_df.columns):\n",
    "    v = train_df[col].isnull().sum()\n",
    "    if v>0:\n",
    "        print(col, \"  \", v)\n",
    "    "
   ]
  },
  {
   "cell_type": "code",
   "execution_count": 319,
   "metadata": {
    "_uuid": "bbdf6bedde39c2f6df0c0bca63b48c8a74ce2de9"
   },
   "outputs": [
    {
     "name": "stdout",
     "output_type": "stream",
     "text": [
      "MSZoning    4\n",
      "Alley    1352\n",
      "Utilities    2\n",
      "Exterior1st    1\n",
      "Exterior2nd    1\n",
      "MasVnrType    16\n",
      "MasVnrArea    15\n",
      "BsmtQual    44\n",
      "BsmtCond    45\n",
      "BsmtExposure    44\n",
      "BsmtFinType1    42\n",
      "BsmtFinSF1    1\n",
      "BsmtFinType2    42\n",
      "BsmtFinSF2    1\n",
      "BsmtUnfSF    1\n",
      "TotalBsmtSF    1\n",
      "BsmtFullBath    2\n",
      "BsmtHalfBath    2\n",
      "KitchenQual    1\n",
      "Functional    2\n",
      "FireplaceQu    730\n",
      "GarageType    76\n",
      "GarageYrBlt    78\n",
      "GarageFinish    78\n",
      "GarageCars    1\n",
      "GarageArea    1\n",
      "GarageQual    78\n",
      "GarageCond    78\n",
      "PoolQC    1456\n",
      "Fence    1169\n",
      "MiscFeature    1408\n",
      "SaleType    1\n"
     ]
    }
   ],
   "source": [
    "for col in (test_df.columns):\n",
    "    v = test_df[col].isnull().sum()\n",
    "    if v>0:\n",
    "        print(col, \"  \", v)"
   ]
  },
  {
   "cell_type": "code",
   "execution_count": null,
   "metadata": {},
   "outputs": [],
   "source": []
  },
  {
   "cell_type": "code",
   "execution_count": null,
   "metadata": {},
   "outputs": [],
   "source": []
  },
  {
   "cell_type": "markdown",
   "metadata": {},
   "source": [
    "## 1.1 MSZoning "
   ]
  },
  {
   "cell_type": "code",
   "execution_count": 320,
   "metadata": {},
   "outputs": [
    {
     "data": {
      "text/plain": [
       "array(['RH', 'RL', 'RM', 'FV', 'C (all)', nan], dtype=object)"
      ]
     },
     "execution_count": 320,
     "metadata": {},
     "output_type": "execute_result"
    }
   ],
   "source": [
    "test_df['MSZoning'].unique()"
   ]
  },
  {
   "cell_type": "code",
   "execution_count": 321,
   "metadata": {},
   "outputs": [
    {
     "data": {
      "text/plain": [
       "array(['RL', 'RM', 'C (all)', 'FV', 'RH'], dtype=object)"
      ]
     },
     "execution_count": 321,
     "metadata": {},
     "output_type": "execute_result"
    }
   ],
   "source": [
    "train_df['MSZoning'].unique()"
   ]
  },
  {
   "cell_type": "code",
   "execution_count": 322,
   "metadata": {},
   "outputs": [],
   "source": [
    "test_df[[ 'MSZoning_C (all)',  'MSZoning_FV', 'MSZoning_RH', 'MSZoning_RL', \n",
    "         'MSZoning_RM']] = pd.get_dummies(test_df['MSZoning'], dummy_na=False)\n",
    "test_df.drop('MSZoning', axis=1, inplace=True)\n"
   ]
  },
  {
   "cell_type": "code",
   "execution_count": 323,
   "metadata": {},
   "outputs": [],
   "source": [
    "\n",
    "train_df[[ 'MSZoning_C (all)',  'MSZoning_FV', 'MSZoning_RH', 'MSZoning_RL', \n",
    "          'MSZoning_RM']] = pd.get_dummies(train_df['MSZoning'], dummy_na=False)\n",
    "train_df.drop('MSZoning', axis=1, inplace=True)"
   ]
  },
  {
   "cell_type": "markdown",
   "metadata": {},
   "source": [
    "## 1.2 Alley"
   ]
  },
  {
   "cell_type": "code",
   "execution_count": 324,
   "metadata": {
    "_uuid": "1ca52ecfa847c3bf68b90977eefe8e07f39bca1a"
   },
   "outputs": [
    {
     "data": {
      "text/plain": [
       "array([nan, 'Grvl', 'Pave'], dtype=object)"
      ]
     },
     "execution_count": 324,
     "metadata": {},
     "output_type": "execute_result"
    }
   ],
   "source": [
    "train_df['Alley'].unique()"
   ]
  },
  {
   "cell_type": "code",
   "execution_count": 325,
   "metadata": {},
   "outputs": [
    {
     "data": {
      "text/plain": [
       "array([nan, 'Pave', 'Grvl'], dtype=object)"
      ]
     },
     "execution_count": 325,
     "metadata": {},
     "output_type": "execute_result"
    }
   ],
   "source": [
    "test_df['Alley'].unique()"
   ]
  },
  {
   "cell_type": "markdown",
   "metadata": {
    "_uuid": "246b0a0e97df1b7ecd0a33ff6a1471bcc117b9c0"
   },
   "source": [
    "As only 3 values are there, we will use get dummies to turn them into classification, that way we will successfully handle the NAN. We will run it for both test and train data\n",
    "\n",
    "If dummy_na is set True, the column is automatically dropped"
   ]
  },
  {
   "cell_type": "code",
   "execution_count": 326,
   "metadata": {
    "_uuid": "37da3022740c49daac64e37fd17a3f72069c3ad4",
    "scrolled": true
   },
   "outputs": [],
   "source": [
    "train_df[['Alley_Grvl', 'Alley_Pave', 'NoAlley']]=pd.get_dummies(train_df['Alley'], dummy_na=True)\n",
    "test_df[['Alley_Grvl', 'Alley_Pave', 'NoAlley']]=pd.get_dummies(test_df['Alley'], dummy_na=True)"
   ]
  },
  {
   "cell_type": "code",
   "execution_count": 327,
   "metadata": {
    "_uuid": "3e568376ebdac3152c84b8b39799d1674e08df4e"
   },
   "outputs": [],
   "source": [
    "train_df.drop('Alley', axis=1, inplace=True)\n",
    "test_df.drop('Alley', axis=1, inplace=True)"
   ]
  },
  {
   "cell_type": "code",
   "execution_count": null,
   "metadata": {
    "_uuid": "f71a35057dd5c3badb0c1c58cbdff73b946e9745"
   },
   "outputs": [],
   "source": []
  },
  {
   "cell_type": "markdown",
   "metadata": {},
   "source": [
    "## 1.3 MasVnrType"
   ]
  },
  {
   "cell_type": "markdown",
   "metadata": {
    "_uuid": "8094ea2b5621cf298a2bd13b400f36956b2fe6eb"
   },
   "source": [
    "**MasVnrType** had 4 categories out of which one is None. So we filled in missing values with none and considered the data as not available because it does not exists. Also this data is categorical, so we will use get dummies on this too later."
   ]
  },
  {
   "cell_type": "code",
   "execution_count": 328,
   "metadata": {
    "_uuid": "81c608b6dd2be9e42c7942a5b27d74af2025a563"
   },
   "outputs": [
    {
     "data": {
      "text/plain": [
       "array(['BrkFace', 'None', 'Stone', 'BrkCmn', nan], dtype=object)"
      ]
     },
     "execution_count": 328,
     "metadata": {},
     "output_type": "execute_result"
    }
   ],
   "source": [
    "train_df['MasVnrType'].unique()"
   ]
  },
  {
   "cell_type": "code",
   "execution_count": 329,
   "metadata": {
    "_uuid": "8d0dbd488093f8350416b6b38c0110d847784f37"
   },
   "outputs": [
    {
     "data": {
      "text/plain": [
       "array(['None', 'BrkFace', 'Stone', 'BrkCmn', nan], dtype=object)"
      ]
     },
     "execution_count": 329,
     "metadata": {},
     "output_type": "execute_result"
    }
   ],
   "source": [
    "test_df['MasVnrType'].unique()"
   ]
  },
  {
   "cell_type": "code",
   "execution_count": 330,
   "metadata": {
    "_uuid": "425b6b56dfe41f91ec861bcb4c5a3ef964ee6155"
   },
   "outputs": [],
   "source": [
    "for dataset in [train_df, test_df]:\n",
    "    dataset['MasVnrType'].fillna(value='None', inplace=True)\n",
    "    dataset[['MasVnrType_BrkCmn','MasVnrType_BrkFace','MasVnrType_NoMasVnr','MasVnrType_Stone',\n",
    "             'No_masvnr']] = pd.get_dummies(dataset['MasVnrType'], dummy_na=True)"
   ]
  },
  {
   "cell_type": "code",
   "execution_count": 331,
   "metadata": {
    "_uuid": "9011151f6de1e02bcd1786b1c0d625a343850388"
   },
   "outputs": [],
   "source": [
    "for dataset in [train_df, test_df]:\n",
    "    dataset.drop(labels=['MasVnrType'], axis=1, inplace=True)"
   ]
  },
  {
   "cell_type": "markdown",
   "metadata": {
    "_uuid": "83dcbca06dd4c97c6bd6dc87930ed97c0e6513bd"
   },
   "source": [
    "## 1.4 Utilities"
   ]
  },
  {
   "cell_type": "code",
   "execution_count": 332,
   "metadata": {},
   "outputs": [
    {
     "data": {
      "text/plain": [
       "array(['AllPub', 'NoSeWa'], dtype=object)"
      ]
     },
     "execution_count": 332,
     "metadata": {},
     "output_type": "execute_result"
    }
   ],
   "source": [
    "train_df['Utilities'].unique()"
   ]
  },
  {
   "cell_type": "code",
   "execution_count": 333,
   "metadata": {},
   "outputs": [
    {
     "data": {
      "text/plain": [
       "array(['AllPub', nan], dtype=object)"
      ]
     },
     "execution_count": 333,
     "metadata": {},
     "output_type": "execute_result"
    }
   ],
   "source": [
    "test_df['Utilities'].unique()"
   ]
  },
  {
   "cell_type": "code",
   "execution_count": 334,
   "metadata": {},
   "outputs": [],
   "source": [
    "train_df[['Utilities_AllPub', 'Utilities_NoSeWa']]=pd.get_dummies(train_df['Utilities'], dummy_na=False)\n",
    "test_df[['Utilities_AllPub']]=pd.get_dummies(test_df['Utilities'], dummy_na=False)"
   ]
  },
  {
   "cell_type": "code",
   "execution_count": 335,
   "metadata": {},
   "outputs": [],
   "source": [
    "train_df.drop(['Utilities'], axis=1, inplace=True)\n",
    "test_df.drop(['Utilities'], axis=1, inplace=True)"
   ]
  },
  {
   "cell_type": "markdown",
   "metadata": {},
   "source": [
    "## 1.5 Exterior1st, Exterior2nd"
   ]
  },
  {
   "cell_type": "code",
   "execution_count": 336,
   "metadata": {},
   "outputs": [
    {
     "name": "stdout",
     "output_type": "stream",
     "text": [
      "['VinylSd' 'MetalSd' 'Wd Sdng' 'HdBoard' 'BrkFace' 'WdShing' 'CemntBd'\n",
      " 'Plywood' 'AsbShng' 'Stucco' 'BrkComm' 'AsphShn' 'Stone' 'ImStucc'\n",
      " 'CBlock']\n",
      "['VinylSd' 'MetalSd' 'Wd Shng' 'HdBoard' 'Plywood' 'Wd Sdng' 'CmentBd'\n",
      " 'BrkFace' 'Stucco' 'AsbShng' 'Brk Cmn' 'ImStucc' 'AsphShn' 'Stone'\n",
      " 'Other' 'CBlock']\n",
      "['VinylSd' 'Wd Sdng' 'HdBoard' 'Plywood' 'MetalSd' 'CemntBd' 'WdShing'\n",
      " 'BrkFace' 'AsbShng' 'BrkComm' 'Stucco' 'AsphShn' nan 'CBlock']\n",
      "['VinylSd' 'Wd Sdng' 'HdBoard' 'Plywood' 'MetalSd' 'Brk Cmn' 'CmentBd'\n",
      " 'ImStucc' 'Wd Shng' 'AsbShng' 'Stucco' 'CBlock' 'BrkFace' 'AsphShn' nan\n",
      " 'Stone']\n"
     ]
    }
   ],
   "source": [
    "for dataset in [train_df, test_df]:\n",
    "    #print('null values', dataset['Exterior1st'].isnull().sum())\n",
    "    print(dataset['Exterior1st'].unique())\n",
    "    print(dataset['Exterior2nd'].unique())"
   ]
  },
  {
   "cell_type": "code",
   "execution_count": 337,
   "metadata": {},
   "outputs": [
    {
     "data": {
      "text/plain": [
       "Index(['AsbShng', 'AsphShn', 'BrkComm', 'BrkFace', 'CBlock', 'CemntBd',\n",
       "       'HdBoard', 'ImStucc', 'MetalSd', 'Plywood', 'Stone', 'Stucco',\n",
       "       'VinylSd', 'Wd Sdng', 'WdShing'],\n",
       "      dtype='object')"
      ]
     },
     "execution_count": 337,
     "metadata": {},
     "output_type": "execute_result"
    }
   ],
   "source": [
    "pd.get_dummies(train_df['Exterior1st']).columns"
   ]
  },
  {
   "cell_type": "code",
   "execution_count": 338,
   "metadata": {},
   "outputs": [
    {
     "data": {
      "text/html": [
       "<div>\n",
       "<style scoped>\n",
       "    .dataframe tbody tr th:only-of-type {\n",
       "        vertical-align: middle;\n",
       "    }\n",
       "\n",
       "    .dataframe tbody tr th {\n",
       "        vertical-align: top;\n",
       "    }\n",
       "\n",
       "    .dataframe thead th {\n",
       "        text-align: right;\n",
       "    }\n",
       "</style>\n",
       "<table border=\"1\" class=\"dataframe\">\n",
       "  <thead>\n",
       "    <tr style=\"text-align: right;\">\n",
       "      <th></th>\n",
       "      <th>AsbShng</th>\n",
       "      <th>AsphShn</th>\n",
       "      <th>BrkComm</th>\n",
       "      <th>BrkFace</th>\n",
       "      <th>CBlock</th>\n",
       "      <th>CemntBd</th>\n",
       "      <th>HdBoard</th>\n",
       "      <th>MetalSd</th>\n",
       "      <th>Plywood</th>\n",
       "      <th>Stucco</th>\n",
       "      <th>VinylSd</th>\n",
       "      <th>Wd Sdng</th>\n",
       "      <th>WdShing</th>\n",
       "      <th>nan</th>\n",
       "    </tr>\n",
       "    <tr>\n",
       "      <th>Id</th>\n",
       "      <th></th>\n",
       "      <th></th>\n",
       "      <th></th>\n",
       "      <th></th>\n",
       "      <th></th>\n",
       "      <th></th>\n",
       "      <th></th>\n",
       "      <th></th>\n",
       "      <th></th>\n",
       "      <th></th>\n",
       "      <th></th>\n",
       "      <th></th>\n",
       "      <th></th>\n",
       "      <th></th>\n",
       "    </tr>\n",
       "  </thead>\n",
       "  <tbody>\n",
       "    <tr>\n",
       "      <th>1461</th>\n",
       "      <td>0</td>\n",
       "      <td>0</td>\n",
       "      <td>0</td>\n",
       "      <td>0</td>\n",
       "      <td>0</td>\n",
       "      <td>0</td>\n",
       "      <td>0</td>\n",
       "      <td>0</td>\n",
       "      <td>0</td>\n",
       "      <td>0</td>\n",
       "      <td>1</td>\n",
       "      <td>0</td>\n",
       "      <td>0</td>\n",
       "      <td>0</td>\n",
       "    </tr>\n",
       "    <tr>\n",
       "      <th>1462</th>\n",
       "      <td>0</td>\n",
       "      <td>0</td>\n",
       "      <td>0</td>\n",
       "      <td>0</td>\n",
       "      <td>0</td>\n",
       "      <td>0</td>\n",
       "      <td>0</td>\n",
       "      <td>0</td>\n",
       "      <td>0</td>\n",
       "      <td>0</td>\n",
       "      <td>0</td>\n",
       "      <td>1</td>\n",
       "      <td>0</td>\n",
       "      <td>0</td>\n",
       "    </tr>\n",
       "    <tr>\n",
       "      <th>1463</th>\n",
       "      <td>0</td>\n",
       "      <td>0</td>\n",
       "      <td>0</td>\n",
       "      <td>0</td>\n",
       "      <td>0</td>\n",
       "      <td>0</td>\n",
       "      <td>0</td>\n",
       "      <td>0</td>\n",
       "      <td>0</td>\n",
       "      <td>0</td>\n",
       "      <td>1</td>\n",
       "      <td>0</td>\n",
       "      <td>0</td>\n",
       "      <td>0</td>\n",
       "    </tr>\n",
       "    <tr>\n",
       "      <th>1464</th>\n",
       "      <td>0</td>\n",
       "      <td>0</td>\n",
       "      <td>0</td>\n",
       "      <td>0</td>\n",
       "      <td>0</td>\n",
       "      <td>0</td>\n",
       "      <td>0</td>\n",
       "      <td>0</td>\n",
       "      <td>0</td>\n",
       "      <td>0</td>\n",
       "      <td>1</td>\n",
       "      <td>0</td>\n",
       "      <td>0</td>\n",
       "      <td>0</td>\n",
       "    </tr>\n",
       "    <tr>\n",
       "      <th>1465</th>\n",
       "      <td>0</td>\n",
       "      <td>0</td>\n",
       "      <td>0</td>\n",
       "      <td>0</td>\n",
       "      <td>0</td>\n",
       "      <td>0</td>\n",
       "      <td>1</td>\n",
       "      <td>0</td>\n",
       "      <td>0</td>\n",
       "      <td>0</td>\n",
       "      <td>0</td>\n",
       "      <td>0</td>\n",
       "      <td>0</td>\n",
       "      <td>0</td>\n",
       "    </tr>\n",
       "  </tbody>\n",
       "</table>\n",
       "</div>"
      ],
      "text/plain": [
       "      AsbShng  AsphShn  BrkComm  BrkFace  CBlock  CemntBd  HdBoard  MetalSd  \\\n",
       "Id                                                                            \n",
       "1461        0        0        0        0       0        0        0        0   \n",
       "1462        0        0        0        0       0        0        0        0   \n",
       "1463        0        0        0        0       0        0        0        0   \n",
       "1464        0        0        0        0       0        0        0        0   \n",
       "1465        0        0        0        0       0        0        1        0   \n",
       "\n",
       "      Plywood  Stucco  VinylSd  Wd Sdng  WdShing  NaN  \n",
       "Id                                                     \n",
       "1461        0       0        1        0        0    0  \n",
       "1462        0       0        0        1        0    0  \n",
       "1463        0       0        1        0        0    0  \n",
       "1464        0       0        1        0        0    0  \n",
       "1465        0       0        0        0        0    0  "
      ]
     },
     "execution_count": 338,
     "metadata": {},
     "output_type": "execute_result"
    }
   ],
   "source": [
    "pd.get_dummies(test_df['Exterior1st'], dummy_na=True).head()"
   ]
  },
  {
   "cell_type": "code",
   "execution_count": 339,
   "metadata": {},
   "outputs": [],
   "source": [
    "train_df[['Exterior2nd_AsbShng', 'Exterior2nd_AsphShn', 'Exterior2nd_Brk Cmn', 'Exterior2nd_BrkFace', \n",
    "          'Exterior2nd_CBlock', 'Exterior2nd_CmentBd', 'Exterior2nd_HdBoard', 'Exterior2nd_ImStucc', \n",
    "          'Exterior2nd_MetalSd', 'Exterior2nd_Other', 'Exterior2nd_Plywood', 'Exterior2nd_Stone', 'Exterior2nd_Stucco', \n",
    "          'Exterior2nd_VinylSd', 'Exterior2nd_Wd Sdng', 'Exterior2nd_Wd Shng']] = pd.get_dummies(train_df['Exterior2nd'])"
   ]
  },
  {
   "cell_type": "code",
   "execution_count": 340,
   "metadata": {},
   "outputs": [],
   "source": [
    "train_df[['Exterior1st_AsbShng', 'Exterior1st_AsphShn', 'Exterior1st_Brk Cmn', 'Exterior1st_BrkFace', \n",
    "          'Exterior1st_CBlock', 'Exterior1st_CmentBd', 'Exterior1st_HdBoard', 'Exterior1st_ImStucc', \n",
    "          'Exterior1st_MetalSd', 'Exterior1st_Plywood', 'Exterior1st_Stone', 'Exterior1st_Stucco', \n",
    "          'Exterior1st_VinylSd', 'Exterior1st_Wd Sdng', 'Exterior1st_Wd Shng']] = pd.get_dummies(train_df['Exterior1st'])"
   ]
  },
  {
   "cell_type": "code",
   "execution_count": 341,
   "metadata": {},
   "outputs": [],
   "source": [
    "test_df[['Exterior1st_AsbShng', 'Exterior1st_AsphShn', 'Exterior1st_Brk Cmn', 'Exterior1st_BrkFace', 'Exterior1st_CBlock',\n",
    "         'Exterior1st_CmentBd', 'Exterior1st_HdBoard', 'Exterior1st_MetalSd',  'Exterior1st_Plywood', 'Exterior1st_Stucco', \n",
    "         'Exterior1st_VinylSd', 'Exterior1st_Wd Sdng', 'Exterior1st_Wd Shng']] = pd.get_dummies(test_df['Exterior1st'])"
   ]
  },
  {
   "cell_type": "code",
   "execution_count": 342,
   "metadata": {
    "_uuid": "11025f12481d961aee00912274ef30de164b24b7"
   },
   "outputs": [],
   "source": [
    "test_df[['Exterior2nd_AsbShng', 'Exterior2nd_AsphShn', 'Exterior2nd_Brk Cmn', 'Exterior2nd_BrkFace', 'Exterior2nd_CBlock',\n",
    "         'Exterior2nd_CmentBd', 'Exterior2nd_HdBoard', 'Exterior1st_ImStucc', 'Exterior2nd_MetalSd',  'Exterior2nd_Plywood', \n",
    "         'Exterior1st_Stone', 'Exterior2nd_Stucco', 'Exterior2nd_VinylSd', 'Exterior2nd_Wd Sdng', 'Exterior2nd_Wd Shng']] = pd.get_dummies(test_df['Exterior2nd'])"
   ]
  },
  {
   "cell_type": "code",
   "execution_count": 343,
   "metadata": {},
   "outputs": [],
   "source": [
    "for dataset in [train_df, test_df]:\n",
    "    dataset.drop(labels=['Exterior2nd'], axis=1, inplace=True)\n",
    "    dataset.drop(labels=['Exterior1st'], axis=1, inplace=True)"
   ]
  },
  {
   "cell_type": "code",
   "execution_count": null,
   "metadata": {},
   "outputs": [],
   "source": []
  },
  {
   "cell_type": "markdown",
   "metadata": {
    "_uuid": "98eb1f87a0da32d9a6d870df68fe1144eb512297"
   },
   "source": [
    "## 1.6 BsmtQual\n",
    "We will consider basement as non existant for nan values\n",
    "For this we will call get dummies on the dataset for basement quality column."
   ]
  },
  {
   "cell_type": "code",
   "execution_count": 344,
   "metadata": {
    "_uuid": "4a9877ef42f8949de7b9d17c24407bc79093c599",
    "scrolled": false
   },
   "outputs": [
    {
     "name": "stdout",
     "output_type": "stream",
     "text": [
      "null values 37\n",
      "['Gd' 'TA' 'Ex' nan 'Fa']\n",
      "TA    649\n",
      "Gd    618\n",
      "Ex    121\n",
      "Fa     35\n",
      "Name: BsmtQual, dtype: int64\n",
      "null values 44\n",
      "['TA' 'Gd' 'Ex' 'Fa' nan]\n",
      "TA    634\n",
      "Gd    591\n",
      "Ex    137\n",
      "Fa     53\n",
      "Name: BsmtQual, dtype: int64\n"
     ]
    }
   ],
   "source": [
    "for dataset in [train_df, test_df]:\n",
    "    print('null values', dataset['BsmtQual'].isnull().sum())\n",
    "    print(dataset['BsmtQual'].unique())\n",
    "    print(dataset['BsmtQual'].value_counts())\n",
    "\n",
    "pd.get_dummies(dataset['BsmtQual'], dummy_na=True).head()\n",
    "\n",
    "for dataset in [train_df, test_df]:\n",
    "    dataset[['BsmtQual_Ex', 'BsmtQual_Fa', 'BsmtQual_Gd', 'BsmtQual_TA',\n",
    "             'NoBsmt']] = pd.get_dummies(dataset['BsmtQual'], dummy_na=True)\n",
    "    dataset.drop(labels=['BsmtQual'], axis=1, inplace=True)"
   ]
  },
  {
   "cell_type": "markdown",
   "metadata": {
    "_uuid": "767bee04493ab082ded1212ea2179d53e3290f3b"
   },
   "source": [
    "## 1.7 BsmtCond"
   ]
  },
  {
   "cell_type": "code",
   "execution_count": 345,
   "metadata": {},
   "outputs": [
    {
     "name": "stdout",
     "output_type": "stream",
     "text": [
      "null values 37\n",
      "['TA' 'Gd' nan 'Fa' 'Po']\n",
      "TA    1311\n",
      "Gd      65\n",
      "Fa      45\n",
      "Po       2\n",
      "Name: BsmtCond, dtype: int64\n",
      "null values 45\n",
      "['TA' 'Po' 'Fa' 'Gd' nan]\n",
      "TA    1295\n",
      "Fa      59\n",
      "Gd      57\n",
      "Po       3\n",
      "Name: BsmtCond, dtype: int64\n"
     ]
    }
   ],
   "source": [
    "for dataset in [train_df, test_df]:\n",
    "    print('null values', dataset['BsmtCond'].isnull().sum())\n",
    "    print(dataset['BsmtCond'].unique())\n",
    "    print(dataset['BsmtCond'].value_counts())\n",
    "\n",
    "for dataset in [train_df, test_df]:\n",
    "    dataset[['BsmtCond_Fa', 'BsmtCond_Gd', 'BsmtCond_Po', 'BsmtCond_TA']] = pd.get_dummies(dataset['BsmtCond'])\n",
    "    dataset.drop(labels=['BsmtCond'], axis=1, inplace=True)"
   ]
  },
  {
   "cell_type": "markdown",
   "metadata": {},
   "source": [
    "## 1.8 BsmtExposure"
   ]
  },
  {
   "cell_type": "code",
   "execution_count": 346,
   "metadata": {},
   "outputs": [
    {
     "name": "stdout",
     "output_type": "stream",
     "text": [
      "null values 38\n",
      "['No' 'Gd' 'Mn' 'Av' nan]\n",
      "null values 44\n",
      "['No' 'Gd' 'Mn' 'Av' nan]\n",
      "      Av  Gd  Mn  No  NaN\n",
      "Id                       \n",
      "1461   0   0   0   1    0\n",
      "1462   0   0   0   1    0\n",
      "1463   0   0   0   1    0\n",
      "1464   0   0   0   1    0\n",
      "1465   0   0   0   1    0\n"
     ]
    }
   ],
   "source": [
    "for dataset in [train_df, test_df]:\n",
    "    print('null values', dataset['BsmtExposure'].isnull().sum())\n",
    "    print(dataset['BsmtExposure'].unique())\n",
    "\n",
    "print(pd.get_dummies(dataset['BsmtExposure'], dummy_na=True).head())\n",
    "\n",
    "for dataset in [train_df, test_df]:\n",
    "    dataset[['BsmtExposure_Av', 'BsmtExposure_Gd', 'BsmtExposure_Mn', \n",
    "             'No_BsmtExposure']] = pd.get_dummies(dataset['BsmtExposure'])\n",
    "    dataset.drop(labels=['BsmtExposure'], axis=1, inplace=True)"
   ]
  },
  {
   "cell_type": "markdown",
   "metadata": {},
   "source": [
    "## 1.9 BsmtFinType1, BsmtFinType2"
   ]
  },
  {
   "cell_type": "code",
   "execution_count": 347,
   "metadata": {
    "_uuid": "f5ba69b2f2969f548141771c7fc091e0d700c9ef"
   },
   "outputs": [
    {
     "name": "stdout",
     "output_type": "stream",
     "text": [
      "null values 37\n",
      "['GLQ' 'ALQ' 'Unf' 'Rec' 'BLQ' nan 'LwQ']\n",
      "null values 42\n",
      "['Rec' 'ALQ' 'GLQ' 'Unf' 'BLQ' 'LwQ' nan]\n",
      "      ALQ  BLQ  GLQ  LwQ  Rec  Unf  NaN\n",
      "Id                                     \n",
      "1461    0    0    0    0    1    0    0\n",
      "1462    1    0    0    0    0    0    0\n",
      "1463    0    0    1    0    0    0    0\n",
      "1464    0    0    1    0    0    0    0\n",
      "1465    1    0    0    0    0    0    0\n"
     ]
    }
   ],
   "source": [
    "for dataset in [train_df, test_df]:\n",
    "    print('null values', dataset['BsmtFinType1'].isnull().sum())\n",
    "    print(dataset['BsmtFinType1'].unique())\n",
    "\n",
    "print(pd.get_dummies(dataset['BsmtFinType1'], dummy_na=True).head())\n",
    "\n",
    "for dataset in [train_df, test_df]:\n",
    "    dataset[['BsmtFinType2_ALQ', 'BsmtFinType2_BLQ', 'BsmtFinType2_GLQ', 'BsmtFinType2_LwQ','BsmtFinType2_Rec',\n",
    "             'BsmtFinType2_Unf']] = pd.get_dummies(dataset['BsmtFinType2'])\n",
    "    dataset.drop(labels=['BsmtFinType2'], axis=1, inplace=True)\n",
    "    \n",
    "    dataset[['BsmtFinType1_ALQ', 'BsmtFinType1_BLQ', 'BsmtFinType1_GLQ', 'BsmtFinType1_LwQ','BsmtFinType1_Rec',\n",
    "             'BsmtFinType1_Unf']] = pd.get_dummies(dataset['BsmtFinType1'])\n",
    "    dataset.drop(labels=['BsmtFinType1'], axis=1, inplace=True)"
   ]
  },
  {
   "cell_type": "markdown",
   "metadata": {
    "_uuid": "5612faa81d7cf7f571aedae11a756ad7e59b6deb"
   },
   "source": [
    "## 1.10 KitchenQual"
   ]
  },
  {
   "cell_type": "code",
   "execution_count": 348,
   "metadata": {
    "_uuid": "8820638ecd1e3fe954b80a8d61b958ff0f1b24e4"
   },
   "outputs": [
    {
     "name": "stdout",
     "output_type": "stream",
     "text": [
      "null values 0\n",
      "['Gd' 'TA' 'Ex' 'Fa']\n",
      "null values 1\n",
      "['TA' 'Gd' 'Ex' 'Fa' nan]\n",
      "      Ex  Fa  Gd  TA  NaN\n",
      "Id                       \n",
      "1461   0   0   0   1    0\n",
      "1462   0   0   1   0    0\n",
      "1463   0   0   0   1    0\n",
      "1464   0   0   1   0    0\n",
      "1465   0   0   1   0    0\n"
     ]
    }
   ],
   "source": [
    "for dataset in [train_df, test_df]:\n",
    "    print('null values', dataset['KitchenQual'].isnull().sum())\n",
    "    print(dataset['KitchenQual'].unique())\n",
    "\n",
    "print(pd.get_dummies(dataset['KitchenQual'], dummy_na=True).head())\n",
    "\n",
    "for dataset in [train_df, test_df]:\n",
    "    dataset[['KitchenQual_Ex','KitchenQual_Fa', 'KitchenQual_Gd', 'KitchenQual_TA']] = pd.get_dummies(dataset['KitchenQual'])\n",
    "    dataset.drop(labels=['KitchenQual'], axis=1, inplace=True)"
   ]
  },
  {
   "cell_type": "markdown",
   "metadata": {},
   "source": [
    "## 1.11 Functional, Electrical"
   ]
  },
  {
   "cell_type": "code",
   "execution_count": 349,
   "metadata": {},
   "outputs": [
    {
     "name": "stdout",
     "output_type": "stream",
     "text": [
      "null values 0\n",
      "['Typ' 'Min1' 'Maj1' 'Min2' 'Mod' 'Maj2' 'Sev']\n",
      "null values 2\n",
      "['Typ' 'Min2' 'Min1' 'Mod' 'Maj1' 'Sev' 'Maj2' nan]\n",
      "      Maj1  Maj2  Min1  Min2  Mod  Sev  Typ  NaN\n",
      "Id                                              \n",
      "1461     0     0     0     0    0    0    1    0\n",
      "1462     0     0     0     0    0    0    1    0\n",
      "1463     0     0     0     0    0    0    1    0\n",
      "1464     0     0     0     0    0    0    1    0\n",
      "1465     0     0     0     0    0    0    1    0\n"
     ]
    },
    {
     "name": "stderr",
     "output_type": "stream",
     "text": [
      "C:\\Users\\RachnaGupta\\Anaconda3\\lib\\site-packages\\ipykernel_launcher.py:11: SettingWithCopyWarning: \n",
      "A value is trying to be set on a copy of a slice from a DataFrame\n",
      "\n",
      "See the caveats in the documentation: http://pandas.pydata.org/pandas-docs/stable/indexing.html#indexing-view-versus-copy\n",
      "  # This is added back by InteractiveShellApp.init_path()\n"
     ]
    }
   ],
   "source": [
    "for dataset in [train_df, test_df]:\n",
    "    print('null values', dataset['Functional'].isnull().sum())\n",
    "    print(dataset['Functional'].unique())\n",
    "\n",
    "print(pd.get_dummies(dataset['Functional'], dummy_na=True).head())\n",
    "\n",
    "\n",
    "\n",
    "for dataset in [train_df, test_df]:\n",
    "    #print(dataset['Functional'][dataset['Functional'].isnull()]='Typ')\n",
    "    dataset['Functional'][dataset['Functional'].isnull()]='Typ'\n",
    "    dataset[['Functional_Maj1',  'Functional_Maj2',  'Functional_Min1',  'Functional_Min2',\n",
    "             'Functional_Mod',  'Functional_Sev',  'Functional_Typ']] = pd.get_dummies(dataset['Functional'])\n",
    "    dataset.drop(labels=['Functional'], axis=1, inplace=True)\n",
    "    pass"
   ]
  },
  {
   "cell_type": "code",
   "execution_count": null,
   "metadata": {},
   "outputs": [],
   "source": []
  },
  {
   "cell_type": "code",
   "execution_count": 350,
   "metadata": {},
   "outputs": [
    {
     "name": "stdout",
     "output_type": "stream",
     "text": [
      "MasVnrArea    8\n",
      "Electrical    1\n",
      "FireplaceQu    690\n",
      "GarageType    81\n",
      "GarageYrBlt    81\n",
      "GarageFinish    81\n",
      "GarageQual    81\n",
      "GarageCond    81\n",
      "PoolQC    1453\n",
      "Fence    1179\n",
      "MiscFeature    1406\n"
     ]
    }
   ],
   "source": [
    "#v=(train_df['MSSubClass'].isnull().sum())\n",
    "#print(v)\n",
    "for col in (train_df.columns):\n",
    "    v = train_df[col].isnull().sum()\n",
    "    if v>0:\n",
    "        print(col, \"  \", v)\n",
    "    "
   ]
  },
  {
   "cell_type": "code",
   "execution_count": 351,
   "metadata": {},
   "outputs": [
    {
     "name": "stdout",
     "output_type": "stream",
     "text": [
      "null values 1\n",
      "['SBrkr' 'FuseF' 'FuseA' 'FuseP' 'Mix' nan]\n",
      "null values 0\n",
      "['SBrkr' 'FuseA' 'FuseF' 'FuseP']\n",
      "    FuseA  FuseF  FuseP  Mix  SBrkr  NaN\n",
      "Id                                      \n",
      "1       0      0      0    0      1    0\n",
      "2       0      0      0    0      1    0\n",
      "3       0      0      0    0      1    0\n",
      "4       0      0      0    0      1    0\n",
      "5       0      0      0    0      1    0\n",
      "      FuseA  FuseF  FuseP  SBrkr  NaN\n",
      "Id                                   \n",
      "1461      0      0      0      1    0\n",
      "1462      0      0      0      1    0\n",
      "1463      0      0      0      1    0\n",
      "1464      0      0      0      1    0\n",
      "1465      0      0      0      1    0\n"
     ]
    }
   ],
   "source": [
    "for dataset in [train_df, test_df]:\n",
    "    print('null values', dataset['Electrical'].isnull().sum())\n",
    "    print(dataset['Electrical'].unique())\n",
    "\n",
    "print(pd.get_dummies(train_df['Electrical'], dummy_na=True).head())\n",
    "\n",
    "print(pd.get_dummies(test_df['Electrical'], dummy_na=True).head())\n",
    "\n",
    "train_df[['Electrical_FuseA','Electrical_FuseF', 'Electrical_FuseP', 'Electrical_Mix', \n",
    "             'Electrical_SBrkr']] = pd.get_dummies(train_df['Electrical'])\n",
    "test_df[['Electrical_FuseA','Electrical_FuseF', 'Electrical_FuseP',\n",
    "             'Electrical_SBrkr']] = pd.get_dummies(test_df['Electrical'])\n",
    "\n",
    "for dataset in [train_df, test_df]:\n",
    "    dataset.drop(labels=['Electrical'], axis=1, inplace=True)"
   ]
  },
  {
   "cell_type": "markdown",
   "metadata": {},
   "source": [
    "## 1.12 FireplaceQu"
   ]
  },
  {
   "cell_type": "code",
   "execution_count": 352,
   "metadata": {
    "_uuid": "d620dc1b3c893195517fadb642cde696330f56e7"
   },
   "outputs": [
    {
     "name": "stdout",
     "output_type": "stream",
     "text": [
      "null values 690\n",
      "[nan 'TA' 'Gd' 'Fa' 'Ex' 'Po']\n",
      "null values 730\n",
      "[nan 'TA' 'Gd' 'Po' 'Fa' 'Ex']\n",
      "    Ex  Fa  Gd  Po  TA  NaN\n",
      "Id                         \n",
      "1    0   0   0   0   0    1\n",
      "2    0   0   0   0   1    0\n",
      "3    0   0   0   0   1    0\n",
      "4    0   0   1   0   0    0\n",
      "5    0   0   0   0   1    0\n",
      "      Ex  Fa  Gd  Po  TA  NaN\n",
      "Id                           \n",
      "1461   0   0   0   0   0    1\n",
      "1462   0   0   0   0   0    1\n",
      "1463   0   0   0   0   1    0\n",
      "1464   0   0   1   0   0    0\n",
      "1465   0   0   0   0   0    1\n"
     ]
    }
   ],
   "source": [
    "for dataset in [train_df, test_df]:\n",
    "    print('null values', dataset['FireplaceQu'].isnull().sum())\n",
    "    print(dataset['FireplaceQu'].unique())\n",
    "\n",
    "print(pd.get_dummies(train_df['FireplaceQu'], dummy_na=True).head())\n",
    "print(pd.get_dummies(test_df['FireplaceQu'], dummy_na=True).head())\n",
    "\n",
    "for dataset in [train_df, test_df]:\n",
    "    dataset[['FireplaceQu_Ex',  'FireplaceQu_Fa',  'FireplaceQu_Gd',  'FireplaceQu_Po',\n",
    "             'FireplaceQu_TA',  'FireplaceQu_No']] = pd.get_dummies(dataset['FireplaceQu'], dummy_na=True)\n",
    "    dataset.drop(labels=['FireplaceQu'], axis=1, inplace=True)"
   ]
  },
  {
   "cell_type": "markdown",
   "metadata": {},
   "source": [
    "## 1.13 GarageType"
   ]
  },
  {
   "cell_type": "code",
   "execution_count": 353,
   "metadata": {},
   "outputs": [
    {
     "name": "stdout",
     "output_type": "stream",
     "text": [
      "null values 81\n",
      "['Attchd' 'Detchd' 'BuiltIn' 'CarPort' nan 'Basment' '2Types']\n",
      "null values 76\n",
      "['Attchd' 'Detchd' 'BuiltIn' nan 'Basment' '2Types' 'CarPort']\n",
      "    2Types  Attchd  Basment  BuiltIn  CarPort  Detchd  NaN\n",
      "Id                                                        \n",
      "1        0       1        0        0        0       0    0\n",
      "2        0       1        0        0        0       0    0\n",
      "3        0       1        0        0        0       0    0\n",
      "4        0       0        0        0        0       1    0\n",
      "5        0       1        0        0        0       0    0\n",
      "      2Types  Attchd  Basment  BuiltIn  CarPort  Detchd  NaN\n",
      "Id                                                          \n",
      "1461       0       1        0        0        0       0    0\n",
      "1462       0       1        0        0        0       0    0\n",
      "1463       0       1        0        0        0       0    0\n",
      "1464       0       1        0        0        0       0    0\n",
      "1465       0       1        0        0        0       0    0\n"
     ]
    }
   ],
   "source": [
    "for dataset in [train_df, test_df]:\n",
    "    print('null values', dataset['GarageType'].isnull().sum())\n",
    "    print(dataset['GarageType'].unique())\n",
    "\n",
    "print(pd.get_dummies(train_df['GarageType'], dummy_na=True).head())\n",
    "print(pd.get_dummies(test_df['GarageType'], dummy_na=True).head())\n",
    "\n",
    "for dataset in [train_df, test_df]:\n",
    "    dataset[['GarageType_2Types',  'GarageType_Attchd',  'GarageType_Basment',  'GarageType_BuiltIn',\n",
    "             'GarageType_CarPort',  'GarageType_Detchd', 'GarageType_No']] = pd.get_dummies(dataset['GarageType'], dummy_na=True)\n",
    "    dataset.drop(labels=['GarageType'], axis=1, inplace=True)"
   ]
  },
  {
   "cell_type": "markdown",
   "metadata": {},
   "source": [
    "## 1.14 GarageFinish"
   ]
  },
  {
   "cell_type": "code",
   "execution_count": 354,
   "metadata": {},
   "outputs": [
    {
     "name": "stdout",
     "output_type": "stream",
     "text": [
      "null values 81\n",
      "['RFn' 'Unf' 'Fin' nan]\n",
      "null values 78\n",
      "['Unf' 'Fin' 'RFn' nan]\n",
      "    Fin  RFn  Unf  NaN\n",
      "Id                    \n",
      "1     0    1    0    0\n",
      "2     0    1    0    0\n",
      "3     0    1    0    0\n",
      "4     0    0    1    0\n",
      "5     0    1    0    0\n",
      "      Fin  RFn  Unf  NaN\n",
      "Id                      \n",
      "1461    0    0    1    0\n",
      "1462    0    0    1    0\n",
      "1463    1    0    0    0\n",
      "1464    1    0    0    0\n",
      "1465    0    1    0    0\n"
     ]
    }
   ],
   "source": [
    "for dataset in [train_df, test_df]:\n",
    "    print('null values', dataset['GarageFinish'].isnull().sum())\n",
    "    print(dataset['GarageFinish'].unique())\n",
    "\n",
    "print(pd.get_dummies(train_df['GarageFinish'], dummy_na=True).head())\n",
    "print(pd.get_dummies(test_df['GarageFinish'], dummy_na=True).head())\n",
    "\n",
    "for dataset in [train_df, test_df]:\n",
    "    dataset[['GarageFinish_Fin',  'GarageFinish_RFn',  'GarageFinish_Unf',  'GarageFinish_No']] = pd.get_dummies(dataset['GarageFinish'], dummy_na=True)\n",
    "    dataset.drop(labels=['GarageFinish'], axis=1, inplace=True)"
   ]
  },
  {
   "cell_type": "markdown",
   "metadata": {},
   "source": [
    "## 1.15 GarageQual"
   ]
  },
  {
   "cell_type": "code",
   "execution_count": 355,
   "metadata": {},
   "outputs": [
    {
     "name": "stdout",
     "output_type": "stream",
     "text": [
      "null values 81\n",
      "['TA' 'Fa' 'Gd' nan 'Ex' 'Po']\n",
      "null values 78\n",
      "['TA' nan 'Fa' 'Gd' 'Po']\n",
      "    Ex  Fa  Gd  Po  TA  NaN\n",
      "Id                         \n",
      "1    0   0   0   0   1    0\n",
      "2    0   0   0   0   1    0\n",
      "3    0   0   0   0   1    0\n",
      "4    0   0   0   0   1    0\n",
      "5    0   0   0   0   1    0\n",
      "      Fa  Gd  Po  TA  NaN\n",
      "Id                       \n",
      "1461   0   0   0   1    0\n",
      "1462   0   0   0   1    0\n",
      "1463   0   0   0   1    0\n",
      "1464   0   0   0   1    0\n",
      "1465   0   0   0   1    0\n"
     ]
    }
   ],
   "source": [
    "for dataset in [train_df, test_df]:\n",
    "    print('null values', dataset['GarageQual'].isnull().sum())\n",
    "    print(dataset['GarageQual'].unique())\n",
    "\n",
    "print(pd.get_dummies(train_df['GarageQual'], dummy_na=True).head())\n",
    "print(pd.get_dummies(test_df['GarageQual'], dummy_na=True).head())\n",
    "\n",
    "train_df[['GarageQual_Ex','GarageQual_Fa',  'GarageQual_Gd',  'GarageQual_Po',\n",
    "          'GarageQual_TA']] = pd.get_dummies(train_df['GarageQual'])\n",
    "test_df[['GarageQual_Fa',  'GarageQual_Gd',  'GarageQual_Po',\n",
    "          'GarageQual_TA']] = pd.get_dummies(test_df['GarageQual'])\n",
    "\n",
    "for dataset in [train_df, test_df]:\n",
    "    dataset.drop(labels=['GarageQual'], axis=1, inplace=True)"
   ]
  },
  {
   "cell_type": "markdown",
   "metadata": {},
   "source": [
    "## 1.16 GarageCond"
   ]
  },
  {
   "cell_type": "code",
   "execution_count": 356,
   "metadata": {},
   "outputs": [
    {
     "name": "stdout",
     "output_type": "stream",
     "text": [
      "null values 81\n",
      "['TA' 'Fa' nan 'Gd' 'Po' 'Ex']\n",
      "null values 78\n",
      "['TA' nan 'Fa' 'Gd' 'Po' 'Ex']\n",
      "    Ex  Fa  Gd  Po  TA  NaN\n",
      "Id                         \n",
      "1    0   0   0   0   1    0\n",
      "2    0   0   0   0   1    0\n",
      "3    0   0   0   0   1    0\n",
      "4    0   0   0   0   1    0\n",
      "5    0   0   0   0   1    0\n",
      "      Ex  Fa  Gd  Po  TA  NaN\n",
      "Id                           \n",
      "1461   0   0   0   0   1    0\n",
      "1462   0   0   0   0   1    0\n",
      "1463   0   0   0   0   1    0\n",
      "1464   0   0   0   0   1    0\n",
      "1465   0   0   0   0   1    0\n"
     ]
    }
   ],
   "source": [
    "for dataset in [train_df, test_df]:\n",
    "    print('null values', dataset['GarageCond'].isnull().sum())\n",
    "    print(dataset['GarageCond'].unique())\n",
    "\n",
    "print(pd.get_dummies(train_df['GarageCond'], dummy_na=True).head())\n",
    "print(pd.get_dummies(test_df['GarageCond'], dummy_na=True).head())\n",
    "\n",
    "for dataset in [train_df, test_df]:\n",
    "    dataset[['GarageCond_Ex', 'GarageCond_Fa', 'GarageCond_Gd', 'GarageCond_Po', 'GarageCond_TA', 'GarageCond_No']] = pd.get_dummies(dataset['GarageCond'], dummy_na=True)\n",
    "    dataset.drop(labels=['GarageCond'], axis=1, inplace=True)"
   ]
  },
  {
   "cell_type": "markdown",
   "metadata": {},
   "source": [
    "## 1.17 PoolQC"
   ]
  },
  {
   "cell_type": "code",
   "execution_count": 357,
   "metadata": {},
   "outputs": [
    {
     "name": "stdout",
     "output_type": "stream",
     "text": [
      "null values 1453\n",
      "[nan 'Ex' 'Fa' 'Gd']\n",
      "null values 1456\n",
      "[nan 'Ex' 'Gd']\n",
      "    Ex  Fa  Gd  NaN\n",
      "Id                 \n",
      "1    0   0   0    1\n",
      "2    0   0   0    1\n",
      "3    0   0   0    1\n",
      "4    0   0   0    1\n",
      "5    0   0   0    1\n",
      "      Ex  Gd  NaN\n",
      "Id               \n",
      "1461   0   0    1\n",
      "1462   0   0    1\n",
      "1463   0   0    1\n",
      "1464   0   0    1\n",
      "1465   0   0    1\n"
     ]
    }
   ],
   "source": [
    "for dataset in [train_df, test_df]:\n",
    "    print('null values', dataset['PoolQC'].isnull().sum())\n",
    "    print(dataset['PoolQC'].unique())\n",
    "\n",
    "print(pd.get_dummies(train_df['PoolQC'], dummy_na=True).head())\n",
    "print(pd.get_dummies(test_df['PoolQC'], dummy_na=True).head())\n",
    "\n",
    "train_df[['PoolQC_Ex','PoolQC_Fa',  'PoolQC_Gd',  'PoolQC_No']] = pd.get_dummies(train_df['PoolQC'], dummy_na=True)\n",
    "test_df[['PoolQC_Ex', 'PoolQC_Gd',  'PoolQC_No']] = pd.get_dummies(test_df['PoolQC'], dummy_na=True)\n",
    "\n",
    "for dataset in [train_df, test_df]:\n",
    "    dataset.drop(labels=['PoolQC'], axis=1, inplace=True)"
   ]
  },
  {
   "cell_type": "markdown",
   "metadata": {},
   "source": [
    "## 1.18 Fence"
   ]
  },
  {
   "cell_type": "code",
   "execution_count": 358,
   "metadata": {},
   "outputs": [
    {
     "name": "stdout",
     "output_type": "stream",
     "text": [
      "null values 1179\n",
      "[nan 'MnPrv' 'GdWo' 'GdPrv' 'MnWw']\n",
      "null values 1169\n",
      "['MnPrv' nan 'GdPrv' 'GdWo' 'MnWw']\n",
      "    GdPrv  GdWo  MnPrv  MnWw  NaN\n",
      "Id                               \n",
      "1       0     0      0     0    1\n",
      "2       0     0      0     0    1\n",
      "3       0     0      0     0    1\n",
      "4       0     0      0     0    1\n",
      "5       0     0      0     0    1\n",
      "      GdPrv  GdWo  MnPrv  MnWw  NaN\n",
      "Id                                 \n",
      "1461      0     0      1     0    0\n",
      "1462      0     0      0     0    1\n",
      "1463      0     0      1     0    0\n",
      "1464      0     0      0     0    1\n",
      "1465      0     0      0     0    1\n"
     ]
    }
   ],
   "source": [
    "for dataset in [train_df, test_df]:\n",
    "    print('null values', dataset['Fence'].isnull().sum())\n",
    "    print(dataset['Fence'].unique())\n",
    "\n",
    "print(pd.get_dummies(train_df['Fence'], dummy_na=True).head())\n",
    "print(pd.get_dummies(test_df['Fence'], dummy_na=True).head())\n",
    "\n",
    "for dataset in [train_df, test_df]:\n",
    "    dataset[['Fence_GdPrv', 'Fence_GdWo', 'Fence_MnPrv', 'Fence_MnWw', 'Fence_No']] = pd.get_dummies(dataset['Fence'], dummy_na=True)\n",
    "    dataset.drop(labels=['Fence'], axis=1, inplace=True)"
   ]
  },
  {
   "cell_type": "markdown",
   "metadata": {},
   "source": [
    "## 1.19 MiscFeature"
   ]
  },
  {
   "cell_type": "code",
   "execution_count": 359,
   "metadata": {},
   "outputs": [
    {
     "name": "stdout",
     "output_type": "stream",
     "text": [
      "null values 1406\n",
      "[nan 'Shed' 'Gar2' 'Othr' 'TenC']\n",
      "null values 1408\n",
      "[nan 'Gar2' 'Shed' 'Othr']\n",
      "    Gar2  Othr  Shed  TenC  NaN\n",
      "Id                             \n",
      "1      0     0     0     0    1\n",
      "2      0     0     0     0    1\n",
      "3      0     0     0     0    1\n",
      "4      0     0     0     0    1\n",
      "5      0     0     0     0    1\n",
      "      Gar2  Othr  Shed  NaN\n",
      "Id                         \n",
      "1461     0     0     0    1\n",
      "1462     1     0     0    0\n",
      "1463     0     0     0    1\n",
      "1464     0     0     0    1\n",
      "1465     0     0     0    1\n"
     ]
    }
   ],
   "source": [
    "for dataset in [train_df, test_df]:\n",
    "    print('null values', dataset['MiscFeature'].isnull().sum())\n",
    "    print(dataset['MiscFeature'].unique())\n",
    "\n",
    "print(pd.get_dummies(train_df['MiscFeature'], dummy_na=True).head())\n",
    "print(pd.get_dummies(test_df['MiscFeature'], dummy_na=True).head())\n",
    "\n",
    "train_df[['MiscFeature_Gar2','MiscFeature_Othr',  'MiscFeature_Shed',  'MiscFeature_TenC', \n",
    "          'MiscFeature_None']] = pd.get_dummies(train_df['MiscFeature'], dummy_na=True)\n",
    "test_df[['MiscFeature_Gar2','MiscFeature_Othr',  'MiscFeature_Shed', \n",
    "         'MiscFeature_None']] = pd.get_dummies(test_df['MiscFeature'], dummy_na=True)\n",
    "\n",
    "for dataset in [train_df, test_df]:\n",
    "    dataset.drop(labels=['MiscFeature'], axis=1, inplace=True)"
   ]
  },
  {
   "cell_type": "markdown",
   "metadata": {},
   "source": [
    "## 1.20 SaleType"
   ]
  },
  {
   "cell_type": "code",
   "execution_count": 360,
   "metadata": {},
   "outputs": [
    {
     "name": "stdout",
     "output_type": "stream",
     "text": [
      "null values 0\n",
      "['WD' 'New' 'COD' 'ConLD' 'ConLI' 'CWD' 'ConLw' 'Con' 'Oth']\n",
      "null values 1\n",
      "['WD' 'COD' 'New' 'ConLD' 'Oth' 'Con' 'ConLw' 'ConLI' 'CWD' nan]\n",
      "    COD  CWD  Con  ConLD  ConLI  ConLw  New  Oth  WD  NaN\n",
      "Id                                                       \n",
      "1     0    0    0      0      0      0    0    0   1    0\n",
      "2     0    0    0      0      0      0    0    0   1    0\n",
      "3     0    0    0      0      0      0    0    0   1    0\n",
      "4     0    0    0      0      0      0    0    0   1    0\n",
      "5     0    0    0      0      0      0    0    0   1    0\n",
      "      COD  CWD  Con  ConLD  ConLI  ConLw  New  Oth  WD  NaN\n",
      "Id                                                         \n",
      "1461    0    0    0      0      0      0    0    0   1    0\n",
      "1462    0    0    0      0      0      0    0    0   1    0\n",
      "1463    0    0    0      0      0      0    0    0   1    0\n",
      "1464    0    0    0      0      0      0    0    0   1    0\n",
      "1465    0    0    0      0      0      0    0    0   1    0\n"
     ]
    }
   ],
   "source": [
    "for dataset in [train_df, test_df]:\n",
    "    print('null values', dataset['SaleType'].isnull().sum())\n",
    "    print(dataset['SaleType'].unique())\n",
    "\n",
    "print(pd.get_dummies(train_df['SaleType'], dummy_na=True).head())\n",
    "print(pd.get_dummies(test_df['SaleType'], dummy_na=True).head())\n",
    "\n",
    "for dataset in [train_df, test_df]:\n",
    "    dataset[['SaleType_COD', 'SaleType_CWD', 'SaleType_Con', 'SaleType_ConLD', 'SaleType_LI',\n",
    "            'SaleType_Lw', 'SaleType_New', 'SaleType_Oth', 'SaleType_WD']] = pd.get_dummies(dataset['SaleType'])\n",
    "    dataset.drop(labels=['SaleType'], axis=1, inplace=True)"
   ]
  },
  {
   "cell_type": "markdown",
   "metadata": {},
   "source": [
    "# converting categorical data into one hot encoding"
   ]
  },
  {
   "cell_type": "markdown",
   "metadata": {},
   "source": [
    "## 2.1 Street"
   ]
  },
  {
   "cell_type": "code",
   "execution_count": 361,
   "metadata": {},
   "outputs": [
    {
     "name": "stdout",
     "output_type": "stream",
     "text": [
      "    Grvl  Pave  NaN\n",
      "Id                 \n",
      "1      0     1    0\n",
      "2      0     1    0\n",
      "3      0     1    0\n",
      "4      0     1    0\n",
      "5      0     1    0\n",
      "      Grvl  Pave  NaN\n",
      "Id                   \n",
      "1461     0     1    0\n",
      "1462     0     1    0\n",
      "1463     0     1    0\n",
      "1464     0     1    0\n",
      "1465     0     1    0\n"
     ]
    }
   ],
   "source": [
    "print(pd.get_dummies(train_df['Street'], dummy_na=True).head())\n",
    "print(pd.get_dummies(test_df['Street'], dummy_na=True).head())\n",
    "\n",
    "for dataset in [train_df, test_df]:\n",
    "    dataset[['Street_Grvl', 'Street_Pave']] = pd.get_dummies(dataset['Street'])\n",
    "    dataset.drop(labels=['Street'], axis=1, inplace=True)"
   ]
  },
  {
   "cell_type": "markdown",
   "metadata": {},
   "source": [
    "## 2.2 LotShape"
   ]
  },
  {
   "cell_type": "code",
   "execution_count": 362,
   "metadata": {},
   "outputs": [
    {
     "name": "stdout",
     "output_type": "stream",
     "text": [
      "    IR1  IR2  IR3  Reg  NaN\n",
      "Id                         \n",
      "1     0    0    0    1    0\n",
      "2     0    0    0    1    0\n",
      "3     1    0    0    0    0\n",
      "4     1    0    0    0    0\n",
      "5     1    0    0    0    0\n",
      "      IR1  IR2  IR3  Reg  NaN\n",
      "Id                           \n",
      "1461    0    0    0    1    0\n",
      "1462    1    0    0    0    0\n",
      "1463    1    0    0    0    0\n",
      "1464    1    0    0    0    0\n",
      "1465    1    0    0    0    0\n"
     ]
    }
   ],
   "source": [
    "print(pd.get_dummies(train_df['LotShape'], dummy_na=True).head())\n",
    "print(pd.get_dummies(test_df['LotShape'], dummy_na=True).head())\n",
    "\n",
    "for dataset in [train_df, test_df]:\n",
    "    dataset[['LotShape_IR1', 'LotShape_IR2', 'LotShape_IR3', 'LotShape_Reg']] = pd.get_dummies(dataset['LotShape'])\n",
    "    dataset.drop(labels=['LotShape'], axis=1, inplace=True)"
   ]
  },
  {
   "cell_type": "markdown",
   "metadata": {},
   "source": [
    "## 2.3 LandContour"
   ]
  },
  {
   "cell_type": "code",
   "execution_count": 363,
   "metadata": {},
   "outputs": [
    {
     "name": "stdout",
     "output_type": "stream",
     "text": [
      "    Bnk  HLS  Low  Lvl  NaN\n",
      "Id                         \n",
      "1     0    0    0    1    0\n",
      "2     0    0    0    1    0\n",
      "3     0    0    0    1    0\n",
      "4     0    0    0    1    0\n",
      "5     0    0    0    1    0\n",
      "      Bnk  HLS  Low  Lvl  NaN\n",
      "Id                           \n",
      "1461    0    0    0    1    0\n",
      "1462    0    0    0    1    0\n",
      "1463    0    0    0    1    0\n",
      "1464    0    0    0    1    0\n",
      "1465    0    1    0    0    0\n"
     ]
    }
   ],
   "source": [
    "print(pd.get_dummies(train_df['LandContour'], dummy_na=True).head())\n",
    "print(pd.get_dummies(test_df['LandContour'], dummy_na=True).head())\n",
    "\n",
    "for dataset in [train_df, test_df]:\n",
    "    dataset[['LandContour_Bnk', 'LandContour_HLS', 'LandContour_Low', 'LandContour_Lv1']] = pd.get_dummies(dataset['LandContour'])\n",
    "    dataset.drop(labels=['LandContour'], axis=1, inplace=True)"
   ]
  },
  {
   "cell_type": "markdown",
   "metadata": {},
   "source": [
    "## 2.4 LotConfig"
   ]
  },
  {
   "cell_type": "code",
   "execution_count": 364,
   "metadata": {},
   "outputs": [
    {
     "name": "stdout",
     "output_type": "stream",
     "text": [
      "    Corner  CulDSac  FR2  FR3  Inside  NaN\n",
      "Id                                        \n",
      "1        0        0    0    0       1    0\n",
      "2        0        0    1    0       0    0\n",
      "3        0        0    0    0       1    0\n",
      "4        1        0    0    0       0    0\n",
      "5        0        0    1    0       0    0\n",
      "      Corner  CulDSac  FR2  FR3  Inside  NaN\n",
      "Id                                          \n",
      "1461       0        0    0    0       1    0\n",
      "1462       1        0    0    0       0    0\n",
      "1463       0        0    0    0       1    0\n",
      "1464       0        0    0    0       1    0\n",
      "1465       0        0    0    0       1    0\n"
     ]
    }
   ],
   "source": [
    "print(pd.get_dummies(train_df['LotConfig'], dummy_na=True).head())\n",
    "print(pd.get_dummies(test_df['LotConfig'], dummy_na=True).head())\n",
    "\n",
    "for dataset in [train_df, test_df]:\n",
    "    dataset[['LotConfig_Corner', 'LotConfig_CulDSac', 'LotConfig_FR2', 'LotConfig_FR3',\n",
    "             'LotConfig_Inside']] = pd.get_dummies(dataset['LotConfig'])\n",
    "    dataset.drop(labels=['LotConfig'], axis=1, inplace=True)"
   ]
  },
  {
   "cell_type": "markdown",
   "metadata": {},
   "source": [
    "## 2.5 LandSlope"
   ]
  },
  {
   "cell_type": "code",
   "execution_count": 365,
   "metadata": {},
   "outputs": [
    {
     "name": "stdout",
     "output_type": "stream",
     "text": [
      "    Gtl  Mod  Sev  NaN\n",
      "Id                    \n",
      "1     1    0    0    0\n",
      "2     1    0    0    0\n",
      "3     1    0    0    0\n",
      "4     1    0    0    0\n",
      "5     1    0    0    0\n",
      "      Gtl  Mod  Sev  NaN\n",
      "Id                      \n",
      "1461    1    0    0    0\n",
      "1462    1    0    0    0\n",
      "1463    1    0    0    0\n",
      "1464    1    0    0    0\n",
      "1465    1    0    0    0\n"
     ]
    }
   ],
   "source": [
    "print(pd.get_dummies(train_df['LandSlope'], dummy_na=True).head())\n",
    "print(pd.get_dummies(test_df['LandSlope'], dummy_na=True).head())\n",
    "\n",
    "for dataset in [train_df, test_df]:\n",
    "    dataset[['LandSlope_Gtl', 'LandSlope_Mod', 'LandSlope_Sev']] = pd.get_dummies(dataset['LandSlope'])\n",
    "    dataset.drop(labels=['LandSlope'], axis=1, inplace=True)"
   ]
  },
  {
   "cell_type": "markdown",
   "metadata": {},
   "source": [
    "## 2.6 Neighborhood"
   ]
  },
  {
   "cell_type": "code",
   "execution_count": 366,
   "metadata": {},
   "outputs": [
    {
     "name": "stdout",
     "output_type": "stream",
     "text": [
      "    Blmngtn  Blueste  BrDale  BrkSide  ClearCr  CollgCr  Crawfor  Edwards  \\\n",
      "Id                                                                          \n",
      "1         0        0       0        0        0        1        0        0   \n",
      "2         0        0       0        0        0        0        0        0   \n",
      "3         0        0       0        0        0        1        0        0   \n",
      "4         0        0       0        0        0        0        1        0   \n",
      "5         0        0       0        0        0        0        0        0   \n",
      "\n",
      "    Gilbert  IDOTRR ...   NridgHt  OldTown  SWISU  Sawyer  SawyerW  Somerst  \\\n",
      "Id                  ...                                                       \n",
      "1         0       0 ...         0        0      0       0        0        0   \n",
      "2         0       0 ...         0        0      0       0        0        0   \n",
      "3         0       0 ...         0        0      0       0        0        0   \n",
      "4         0       0 ...         0        0      0       0        0        0   \n",
      "5         0       0 ...         0        0      0       0        0        0   \n",
      "\n",
      "    StoneBr  Timber  Veenker  NaN  \n",
      "Id                                 \n",
      "1         0       0        0    0  \n",
      "2         0       0        1    0  \n",
      "3         0       0        0    0  \n",
      "4         0       0        0    0  \n",
      "5         0       0        0    0  \n",
      "\n",
      "[5 rows x 26 columns]\n",
      "      Blmngtn  Blueste  BrDale  BrkSide  ClearCr  CollgCr  Crawfor  Edwards  \\\n",
      "Id                                                                            \n",
      "1461        0        0       0        0        0        0        0        0   \n",
      "1462        0        0       0        0        0        0        0        0   \n",
      "1463        0        0       0        0        0        0        0        0   \n",
      "1464        0        0       0        0        0        0        0        0   \n",
      "1465        0        0       0        0        0        0        0        0   \n",
      "\n",
      "      Gilbert  IDOTRR ...   NridgHt  OldTown  SWISU  Sawyer  SawyerW  Somerst  \\\n",
      "Id                    ...                                                       \n",
      "1461        0       0 ...         0        0      0       0        0        0   \n",
      "1462        0       0 ...         0        0      0       0        0        0   \n",
      "1463        1       0 ...         0        0      0       0        0        0   \n",
      "1464        1       0 ...         0        0      0       0        0        0   \n",
      "1465        0       0 ...         0        0      0       0        0        0   \n",
      "\n",
      "      StoneBr  Timber  Veenker  NaN  \n",
      "Id                                   \n",
      "1461        0       0        0    0  \n",
      "1462        0       0        0    0  \n",
      "1463        0       0        0    0  \n",
      "1464        0       0        0    0  \n",
      "1465        1       0        0    0  \n",
      "\n",
      "[5 rows x 26 columns]\n"
     ]
    }
   ],
   "source": [
    "print(pd.get_dummies(train_df['Neighborhood'], dummy_na=True).head())\n",
    "print(pd.get_dummies(test_df['Neighborhood'], dummy_na=True).head())\n",
    "\n",
    "\n",
    "for dataset in [train_df, test_df]:\n",
    "    dataset[['Blmngtn', 'Blueste', 'BrDale', 'BrkSide', 'ClearCr', 'CollgCr', 'Crawfor', \n",
    "             'Edwards', 'Gilbert', 'IDOTRR', 'MeadowV', 'Mitchel', 'NAmes', 'NPkVill', \n",
    "             'NWAmes', 'NoRidge', 'NridgHt', 'OldTown', 'SWISU', 'Sawyer', 'SawyerW', 'Somerst', \n",
    "             'StoneBr', 'Timber', 'Veenker']] = pd.get_dummies(dataset['Neighborhood'])\n",
    "    dataset.drop(labels=['Neighborhood'], axis=1, inplace=True)"
   ]
  },
  {
   "cell_type": "markdown",
   "metadata": {},
   "source": [
    "## 2.7 Condition1, Condition2"
   ]
  },
  {
   "cell_type": "code",
   "execution_count": 367,
   "metadata": {},
   "outputs": [
    {
     "name": "stdout",
     "output_type": "stream",
     "text": [
      "    Artery  Feedr  Norm  PosA  PosN  RRAe  RRAn  RRNe  RRNn  NaN\n",
      "Id                                                              \n",
      "1        0      0     1     0     0     0     0     0     0    0\n",
      "2        0      1     0     0     0     0     0     0     0    0\n",
      "3        0      0     1     0     0     0     0     0     0    0\n",
      "4        0      0     1     0     0     0     0     0     0    0\n",
      "5        0      0     1     0     0     0     0     0     0    0\n",
      "['Artery', 'Feedr', 'Norm', 'PosA', 'PosN', 'RRAe', 'RRAn', 'RRNe', 'RRNn']\n",
      "    Artery  Feedr  Norm  PosA  PosN  RRAe  RRAn  RRNn  NaN\n",
      "Id                                                        \n",
      "1        0      0     1     0     0     0     0     0    0\n",
      "2        0      0     1     0     0     0     0     0    0\n",
      "3        0      0     1     0     0     0     0     0    0\n",
      "4        0      0     1     0     0     0     0     0    0\n",
      "5        0      0     1     0     0     0     0     0    0\n",
      "      Artery  Feedr  Norm  PosA  PosN  NaN\n",
      "Id                                        \n",
      "1461       0      0     1     0     0    0\n",
      "1462       0      0     1     0     0    0\n",
      "1463       0      0     1     0     0    0\n",
      "1464       0      0     1     0     0    0\n",
      "1465       0      0     1     0     0    0\n"
     ]
    }
   ],
   "source": [
    "print(pd.get_dummies(train_df['Condition1'], dummy_na=True).head())\n",
    "print(sorted(train_df.Condition1.unique()))\n",
    "\n",
    "print(pd.get_dummies(train_df['Condition2'], dummy_na=True).head())\n",
    "print(pd.get_dummies(test_df['Condition2'], dummy_na=True).head())"
   ]
  },
  {
   "cell_type": "code",
   "execution_count": 368,
   "metadata": {},
   "outputs": [],
   "source": [
    "for dataset in [train_df, test_df]:\n",
    "    dataset[['Condition1_Artery', 'Condition1_Feedr', 'Condition1_Norm', 'Condition1_PosA', \n",
    "             'Condition1_PosN', 'Condition1_RRAe', 'Condition1_RRAn', 'Condition1_RRNe', \n",
    "             'Condition1_RRNn']] = pd.get_dummies(dataset['Condition1'])\n",
    "    dataset.drop(labels=['Condition1'], axis=1, inplace=True)"
   ]
  },
  {
   "cell_type": "code",
   "execution_count": 369,
   "metadata": {},
   "outputs": [],
   "source": [
    "train_df[['Condition2_Artery', 'Condition2_Feedr', 'Condition2_Norm', 'Condition2_PosA', 'Condition2_PosN', \n",
    "          'Condition2_RRAe', 'Condition2_RRAn', 'Condition2_RRNe']] = pd.get_dummies(train_df['Condition2'])\n",
    "\n",
    "test_df[['Condition2_Artery', 'Condition2_Feedr', 'Condition2_Norm', 'Condition2_PosA', \n",
    "          'Condition2_PosN']] = pd.get_dummies(test_df['Condition2'])\n",
    "\n",
    "train_df.drop(labels=['Condition2'], axis=1, inplace=True)\n",
    "test_df.drop(labels=['Condition2'], axis=1, inplace=True)"
   ]
  },
  {
   "cell_type": "markdown",
   "metadata": {},
   "source": [
    "## 2.8 BldgType"
   ]
  },
  {
   "cell_type": "code",
   "execution_count": 370,
   "metadata": {},
   "outputs": [
    {
     "name": "stdout",
     "output_type": "stream",
     "text": [
      "    1Fam  2fmCon  Duplex  Twnhs  TwnhsE  NaN\n",
      "Id                                          \n",
      "1      1       0       0      0       0    0\n",
      "2      1       0       0      0       0    0\n",
      "3      1       0       0      0       0    0\n",
      "4      1       0       0      0       0    0\n",
      "5      1       0       0      0       0    0\n",
      "['1Fam', '2fmCon', 'Duplex', 'Twnhs', 'TwnhsE']\n"
     ]
    }
   ],
   "source": [
    "print(pd.get_dummies(train_df['BldgType'], dummy_na=True).head())\n",
    "print(sorted(train_df.BldgType.unique()))\n",
    "\n",
    "for dataset in [train_df, test_df]:\n",
    "    dataset[['BldgType_1Fam', 'BldgType_2fmCon', 'BldgType_Duplex', 'BldgType_Twnhs', \n",
    "             'BldgType_TwnhsE']] = pd.get_dummies(dataset['BldgType'])\n",
    "    dataset.drop(labels=['BldgType'], axis=1, inplace=True)"
   ]
  },
  {
   "cell_type": "markdown",
   "metadata": {},
   "source": [
    "## 2.9 HouseStyle"
   ]
  },
  {
   "cell_type": "code",
   "execution_count": 371,
   "metadata": {},
   "outputs": [
    {
     "name": "stdout",
     "output_type": "stream",
     "text": [
      "    1.5Fin  1.5Unf  1Story  2.5Fin  2.5Unf  2Story  SFoyer  SLvl  NaN\n",
      "Id                                                                   \n",
      "1        0       0       0       0       0       1       0     0    0\n",
      "2        0       0       1       0       0       0       0     0    0\n",
      "3        0       0       0       0       0       1       0     0    0\n",
      "4        0       0       0       0       0       1       0     0    0\n",
      "5        0       0       0       0       0       1       0     0    0\n",
      "['1.5Fin', '1.5Unf', '1Story', '2.5Fin', '2.5Unf', '2Story', 'SFoyer', 'SLvl']\n",
      "['1.5Fin', '1.5Unf', '1Story', '2.5Unf', '2Story', 'SFoyer', 'SLvl']\n"
     ]
    }
   ],
   "source": [
    "print(pd.get_dummies(train_df['HouseStyle'], dummy_na=True).head())\n",
    "print(sorted(train_df.HouseStyle.unique()))\n",
    "print(sorted(test_df.HouseStyle.unique()))"
   ]
  },
  {
   "cell_type": "code",
   "execution_count": 372,
   "metadata": {},
   "outputs": [],
   "source": [
    "train_df[['HouseStyle_1.5Fin', 'HouseStyle_1.5Unf', 'HouseStyle_1Story', 'HouseStyle_2.5Fin', 'HouseStyle_2.5Unf', \n",
    "         'HouseStyle_2Story', 'HouseStyle_SFoyer', 'HouseStyle_SLvl']] = pd.get_dummies(train_df['HouseStyle'])\n",
    "train_df.drop(labels=['HouseStyle'], axis=1, inplace=True)"
   ]
  },
  {
   "cell_type": "code",
   "execution_count": 373,
   "metadata": {},
   "outputs": [],
   "source": [
    "test_df[['HouseStyle_1.5Fin', 'HouseStyle_1.5Unf', 'HouseStyle_1Story', 'HouseStyle_2.5Unf', \n",
    "         'HouseStyle_2Story', 'HouseStyle_SFoyer', 'HouseStyle_SLvl']] = pd.get_dummies(test_df['HouseStyle'])\n",
    "test_df.drop(labels=['HouseStyle'], axis=1, inplace=True)"
   ]
  },
  {
   "cell_type": "markdown",
   "metadata": {},
   "source": [
    "## 2.10 RoofStyle"
   ]
  },
  {
   "cell_type": "code",
   "execution_count": 374,
   "metadata": {},
   "outputs": [
    {
     "name": "stdout",
     "output_type": "stream",
     "text": [
      "['Flat', 'Gable', 'Gambrel', 'Hip', 'Mansard', 'Shed']\n",
      "['Flat', 'Gable', 'Gambrel', 'Hip', 'Mansard', 'Shed']\n"
     ]
    }
   ],
   "source": [
    "print(sorted(train_df.RoofStyle.unique()))\n",
    "print(sorted(test_df.RoofStyle.unique()))"
   ]
  },
  {
   "cell_type": "code",
   "execution_count": 375,
   "metadata": {},
   "outputs": [],
   "source": [
    "for dataset in [train_df, test_df]:\n",
    "    dataset[['RoofStyle_Flat', 'RoofStyle_Gable', 'RoofStyle_Gambrel', 'RoofStyle_Hip', \n",
    "             'RoofStyle_Mansard', 'RoofStyle_Shed']] = pd.get_dummies(dataset['RoofStyle'])\n",
    "    dataset.drop(labels=['RoofStyle'], axis=1, inplace=True)"
   ]
  },
  {
   "cell_type": "markdown",
   "metadata": {},
   "source": [
    "## 2.11 RoofMatl"
   ]
  },
  {
   "cell_type": "code",
   "execution_count": 376,
   "metadata": {},
   "outputs": [
    {
     "name": "stdout",
     "output_type": "stream",
     "text": [
      "['ClyTile', 'CompShg', 'Membran', 'Metal', 'Roll', 'Tar&Grv', 'WdShake', 'WdShngl']\n",
      "['CompShg', 'Tar&Grv', 'WdShake', 'WdShngl']\n"
     ]
    }
   ],
   "source": [
    "print(sorted(train_df.RoofMatl.unique()))\n",
    "print(sorted(test_df.RoofMatl.unique()))"
   ]
  },
  {
   "cell_type": "code",
   "execution_count": 377,
   "metadata": {},
   "outputs": [],
   "source": [
    "train_df[['RoofMatl_ClyTile', 'RoofMatl_CompShg', 'RoofMatl_Membran', 'RoofMatl_Metal', 'RoofMatl_Roll', \n",
    "          'RoofMatl_Tar&Grv', 'RoofMatl_WdShake', 'RoofMatl_WdShngl']] = pd.get_dummies(train_df['RoofMatl'])\n",
    "train_df.drop(labels=['RoofMatl'], axis=1, inplace=True)"
   ]
  },
  {
   "cell_type": "code",
   "execution_count": 378,
   "metadata": {},
   "outputs": [],
   "source": [
    "test_df[['RoofMatl_CompShg', 'RoofMatl_Tar&Grv', 'RoofMatl_WdShake', 'RoofMatl_WdShngl']] = pd.get_dummies(test_df['RoofMatl'])\n",
    "test_df.drop(labels=['RoofMatl'], axis=1, inplace=True)"
   ]
  },
  {
   "cell_type": "markdown",
   "metadata": {},
   "source": [
    "## 2.12 ExterQual"
   ]
  },
  {
   "cell_type": "code",
   "execution_count": 379,
   "metadata": {},
   "outputs": [
    {
     "name": "stdout",
     "output_type": "stream",
     "text": [
      "['Ex', 'Fa', 'Gd', 'TA']\n",
      "['Ex', 'Fa', 'Gd', 'TA']\n"
     ]
    }
   ],
   "source": [
    "print(sorted(train_df.ExterQual.unique()))\n",
    "print(sorted(test_df.ExterQual.unique()))"
   ]
  },
  {
   "cell_type": "code",
   "execution_count": 380,
   "metadata": {},
   "outputs": [],
   "source": [
    "for dataset in [train_df, test_df]:\n",
    "    dataset[['ExterQual_Ex', 'ExterQual_Fa', 'ExterQual_Gd', 'ExterQual_TA']] = pd.get_dummies(dataset['ExterQual'])\n",
    "    dataset.drop(labels=['ExterQual'], axis=1, inplace=True)"
   ]
  },
  {
   "cell_type": "markdown",
   "metadata": {},
   "source": [
    "## 2.13 ExterCond "
   ]
  },
  {
   "cell_type": "code",
   "execution_count": 381,
   "metadata": {},
   "outputs": [
    {
     "name": "stdout",
     "output_type": "stream",
     "text": [
      "['Ex', 'Fa', 'Gd', 'Po', 'TA']\n",
      "['Ex', 'Fa', 'Gd', 'Po', 'TA']\n"
     ]
    }
   ],
   "source": [
    "print(sorted(train_df.ExterCond.unique()))\n",
    "print(sorted(test_df.ExterCond.unique()))"
   ]
  },
  {
   "cell_type": "code",
   "execution_count": 382,
   "metadata": {},
   "outputs": [],
   "source": [
    "for dataset in [train_df, test_df]:\n",
    "    dataset[['ExterCond_Ex', 'ExterCond_Fa', 'ExterCond_Gd', 'ExterCond_Po', 'ExterQual_TA']] = pd.get_dummies(dataset['ExterCond'])\n",
    "    dataset.drop(labels=['ExterCond'], axis=1, inplace=True)"
   ]
  },
  {
   "cell_type": "markdown",
   "metadata": {},
   "source": [
    "## 2.14 Foundation"
   ]
  },
  {
   "cell_type": "code",
   "execution_count": 383,
   "metadata": {},
   "outputs": [
    {
     "name": "stdout",
     "output_type": "stream",
     "text": [
      "['BrkTil', 'CBlock', 'PConc', 'Slab', 'Stone', 'Wood']\n",
      "['BrkTil', 'CBlock', 'PConc', 'Slab', 'Stone', 'Wood']\n"
     ]
    }
   ],
   "source": [
    "print(sorted(train_df.Foundation.unique()))\n",
    "print(sorted(test_df.Foundation.unique()))"
   ]
  },
  {
   "cell_type": "code",
   "execution_count": 384,
   "metadata": {},
   "outputs": [],
   "source": [
    "for dataset in [train_df, test_df]:\n",
    "    dataset[['Foundation_BrkTil', 'Foundation_CBlock', 'Foundation_PConc', 'Foundation_Slab', \n",
    "             'Foundation_Stone', 'Foundation_Wood']] = pd.get_dummies(dataset['Foundation'])\n",
    "    dataset.drop(labels=['Foundation'], axis=1, inplace=True)"
   ]
  },
  {
   "cell_type": "markdown",
   "metadata": {},
   "source": [
    "## 2.15 Heating"
   ]
  },
  {
   "cell_type": "code",
   "execution_count": 385,
   "metadata": {},
   "outputs": [
    {
     "name": "stdout",
     "output_type": "stream",
     "text": [
      "['Floor', 'GasA', 'GasW', 'Grav', 'OthW', 'Wall']\n",
      "['GasA', 'GasW', 'Grav', 'Wall']\n"
     ]
    }
   ],
   "source": [
    "print(sorted(train_df.Heating.unique()))\n",
    "print(sorted(test_df.Heating.unique()))"
   ]
  },
  {
   "cell_type": "code",
   "execution_count": 386,
   "metadata": {},
   "outputs": [],
   "source": [
    "train_df[['Heating_Floor', 'Heating_GasA', 'Heating_GasW', 'Heating_Grav', 'Heating_OthW', \n",
    "          'Heating_Wall']] = pd.get_dummies(train_df['Heating'])\n",
    "train_df.drop(labels=['Heating'], axis=1, inplace=True)"
   ]
  },
  {
   "cell_type": "code",
   "execution_count": 387,
   "metadata": {},
   "outputs": [],
   "source": [
    "test_df[['Heating_GasA', 'Heating_GasW', 'Heating_Grav', 'Heating_Wall']] = pd.get_dummies(test_df['Heating'])\n",
    "test_df.drop(labels=['Heating'], axis=1, inplace=True)"
   ]
  },
  {
   "cell_type": "markdown",
   "metadata": {},
   "source": [
    "## 2.16 HeatingQC"
   ]
  },
  {
   "cell_type": "code",
   "execution_count": 388,
   "metadata": {},
   "outputs": [
    {
     "name": "stdout",
     "output_type": "stream",
     "text": [
      "['Ex', 'Fa', 'Gd', 'Po', 'TA']\n",
      "['Ex', 'Fa', 'Gd', 'Po', 'TA']\n"
     ]
    }
   ],
   "source": [
    "print(sorted(train_df.HeatingQC.unique()))\n",
    "print(sorted(test_df.HeatingQC.unique()))"
   ]
  },
  {
   "cell_type": "code",
   "execution_count": 389,
   "metadata": {},
   "outputs": [],
   "source": [
    "for dataset in [train_df, test_df]:\n",
    "    dataset[['HeatingQC_Ex', 'HeatingQC_Fa', 'HeatingQC_Gd', 'HeatingQC_Po', \n",
    "             'HeatingQC_TA']] = pd.get_dummies(dataset['HeatingQC'])\n",
    "    dataset.drop(labels=['HeatingQC'], axis=1, inplace=True)"
   ]
  },
  {
   "cell_type": "markdown",
   "metadata": {},
   "source": [
    "## 2.17 CentralAir"
   ]
  },
  {
   "cell_type": "code",
   "execution_count": 390,
   "metadata": {},
   "outputs": [
    {
     "name": "stdout",
     "output_type": "stream",
     "text": [
      "['N', 'Y']\n",
      "['N', 'Y']\n"
     ]
    }
   ],
   "source": [
    "print(sorted(train_df.CentralAir.unique()))\n",
    "print(sorted(test_df.CentralAir.unique()))"
   ]
  },
  {
   "cell_type": "code",
   "execution_count": 391,
   "metadata": {},
   "outputs": [],
   "source": [
    "for dataset in [train_df, test_df]:\n",
    "    dataset[['CentralAir_N', 'CentralAir_Y']] = pd.get_dummies(dataset['CentralAir'])\n",
    "    dataset.drop(labels=['CentralAir'], axis=1, inplace=True)"
   ]
  },
  {
   "cell_type": "markdown",
   "metadata": {},
   "source": [
    "## 2.18 PavedDrive"
   ]
  },
  {
   "cell_type": "code",
   "execution_count": 392,
   "metadata": {},
   "outputs": [
    {
     "name": "stdout",
     "output_type": "stream",
     "text": [
      "['N', 'P', 'Y']\n",
      "['N', 'P', 'Y']\n"
     ]
    }
   ],
   "source": [
    "print(sorted(train_df.PavedDrive.unique()))\n",
    "print(sorted(test_df.PavedDrive.unique()))"
   ]
  },
  {
   "cell_type": "code",
   "execution_count": 393,
   "metadata": {},
   "outputs": [],
   "source": [
    "for dataset in [train_df, test_df]:\n",
    "    dataset[['PavedDrive_N', 'PavedDrive_P', 'PavedDrive_Y']] = pd.get_dummies(dataset['PavedDrive'])\n",
    "    dataset.drop(labels=['PavedDrive'], axis=1, inplace=True)"
   ]
  },
  {
   "cell_type": "markdown",
   "metadata": {},
   "source": [
    "## 2.19 SaleCondition"
   ]
  },
  {
   "cell_type": "code",
   "execution_count": 394,
   "metadata": {},
   "outputs": [
    {
     "name": "stdout",
     "output_type": "stream",
     "text": [
      "['Abnorml', 'AdjLand', 'Alloca', 'Family', 'Normal', 'Partial']\n",
      "['Abnorml', 'AdjLand', 'Alloca', 'Family', 'Normal', 'Partial']\n"
     ]
    }
   ],
   "source": [
    "print(sorted(train_df.SaleCondition.unique()))\n",
    "print(sorted(test_df.SaleCondition.unique()))"
   ]
  },
  {
   "cell_type": "code",
   "execution_count": 395,
   "metadata": {},
   "outputs": [],
   "source": [
    "for dataset in [train_df, test_df]:\n",
    "    dataset[['SaleCondition_Abnorml', 'SaleCondition_AdjLand', 'SaleCondition_Alloca', 'SaleCondition_Family', \n",
    "             'SaleCondition_Normal', 'SaleCondition_Partial']] = pd.get_dummies(dataset['SaleCondition'])\n",
    "    dataset.drop(labels=['SaleCondition'], axis=1, inplace=True)"
   ]
  },
  {
   "cell_type": "markdown",
   "metadata": {},
   "source": [
    "## 2.20 TotalSF "
   ]
  },
  {
   "cell_type": "code",
   "execution_count": 396,
   "metadata": {},
   "outputs": [],
   "source": [
    "for dataset in [train_df, test_df]:\n",
    "    dataset['TotalSF'] = dataset['TotalBsmtSF']+dataset['1stFlrSF']+dataset['2ndFlrSF']\n",
    "    dataset.drop(labels=['TotalBsmtSF', '1stFlrSF', '2ndFlrSF'], axis=1, inplace=True)"
   ]
  },
  {
   "cell_type": "markdown",
   "metadata": {},
   "source": [
    "As our dataset is skewed, we will use log transform "
   ]
  },
  {
   "cell_type": "markdown",
   "metadata": {},
   "source": [
    "## 2.21 GarageYrBlt"
   ]
  },
  {
   "cell_type": "code",
   "execution_count": 445,
   "metadata": {},
   "outputs": [
    {
     "data": {
      "text/plain": [
       "Id\n",
       "1    14.187527\n",
       "2    14.145138\n",
       "3    14.184404\n",
       "4    14.179714\n",
       "5    14.182841\n",
       "6    14.171884\n",
       "7    14.189087\n",
       "8    14.140398\n",
       "Name: GarageYrBlt, dtype: float64"
      ]
     },
     "execution_count": 445,
     "metadata": {},
     "output_type": "execute_result"
    }
   ],
   "source": [
    "train_df.GarageYrBlt.head(8)"
   ]
  },
  {
   "cell_type": "code",
   "execution_count": 446,
   "metadata": {},
   "outputs": [
    {
     "name": "stderr",
     "output_type": "stream",
     "text": [
      "C:\\Users\\RachnaGupta\\Anaconda3\\lib\\site-packages\\pandas\\core\\indexing.py:194: SettingWithCopyWarning: \n",
      "A value is trying to be set on a copy of a slice from a DataFrame\n",
      "\n",
      "See the caveats in the documentation: http://pandas.pydata.org/pandas-docs/stable/indexing.html#indexing-view-versus-copy\n",
      "  self._setitem_with_indexer(indexer, value)\n"
     ]
    }
   ],
   "source": [
    "for dataset in [train_df, test_df]:\n",
    "    dataset.GarageYrBlt.loc[dataset['GarageYrBlt'].isnull()] = 0"
   ]
  },
  {
   "cell_type": "code",
   "execution_count": 447,
   "metadata": {},
   "outputs": [
    {
     "data": {
      "text/plain": [
       "0"
      ]
     },
     "execution_count": 447,
     "metadata": {},
     "output_type": "execute_result"
    }
   ],
   "source": [
    "train_df['GarageYrBlt'].isnull().sum()"
   ]
  },
  {
   "cell_type": "markdown",
   "metadata": {},
   "source": [
    "## 2.22 MasVnrArea"
   ]
  },
  {
   "cell_type": "code",
   "execution_count": 448,
   "metadata": {},
   "outputs": [
    {
     "name": "stderr",
     "output_type": "stream",
     "text": [
      "C:\\Users\\RachnaGupta\\Anaconda3\\lib\\site-packages\\pandas\\core\\indexing.py:194: SettingWithCopyWarning: \n",
      "A value is trying to be set on a copy of a slice from a DataFrame\n",
      "\n",
      "See the caveats in the documentation: http://pandas.pydata.org/pandas-docs/stable/indexing.html#indexing-view-versus-copy\n",
      "  self._setitem_with_indexer(indexer, value)\n"
     ]
    },
    {
     "data": {
      "text/plain": [
       "0"
      ]
     },
     "execution_count": 448,
     "metadata": {},
     "output_type": "execute_result"
    }
   ],
   "source": [
    "for dataset in [train_df, test_df]:\n",
    "    dataset.MasVnrArea.loc[dataset['MasVnrArea'].isnull()] = 0\n",
    "\n",
    "train_df['MasVnrArea'].isnull().sum()"
   ]
  },
  {
   "cell_type": "code",
   "execution_count": null,
   "metadata": {},
   "outputs": [],
   "source": []
  },
  {
   "cell_type": "markdown",
   "metadata": {},
   "source": [
    "from sklearn.preprocessing import QuantileTransformer, quantile_transform\n",
    "\n",
    "\n",
    "target = np.array(train_df.SalePrice)\n",
    "X = train_df.drop(['SalePrice'], axis=1)\n",
    "y = train_df.SalePrice.squeeze()\n",
    "y_trans = quantile_transform(dataset.data[:, target],\n",
    "                             output_distribution='normal').squeeze()\n",
    "\n",
    "f, (ax0, ax1) = plt.subplots(1, 2)\n",
    "\n",
    "ax0.hist(y, bins=100, normed=True)\n",
    "ax0.set_ylabel('Probability')\n",
    "ax0.set_xlabel('Target')\n",
    "ax0.set_title('Target distribution')\n",
    "\n",
    "ax1.hist(y_trans, bins=100, normed=True)\n",
    "ax1.set_ylabel('Probability')\n",
    "ax1.set_xlabel('Target')\n",
    "ax1.set_title('Transformed target distribution')\n",
    "\n",
    "f.suptitle(\"Boston housing data: distance to employment centers\", y=0.035)\n",
    "f.tight_layout(rect=[0.05, 0.05, 0.95, 0.95])"
   ]
  },
  {
   "cell_type": "code",
   "execution_count": null,
   "metadata": {},
   "outputs": [],
   "source": []
  },
  {
   "cell_type": "code",
   "execution_count": null,
   "metadata": {},
   "outputs": [],
   "source": []
  },
  {
   "cell_type": "code",
   "execution_count": null,
   "metadata": {},
   "outputs": [],
   "source": []
  },
  {
   "cell_type": "code",
   "execution_count": null,
   "metadata": {},
   "outputs": [],
   "source": []
  },
  {
   "cell_type": "code",
   "execution_count": 455,
   "metadata": {},
   "outputs": [],
   "source": [
    "X = train_df.drop(columns='SalePrice', axis=1)\n",
    "y=train_df['SalePrice']"
   ]
  },
  {
   "cell_type": "code",
   "execution_count": 456,
   "metadata": {},
   "outputs": [],
   "source": [
    "X_train, X_test, y_train, y_test = train_test_split(X, y, test_size=0.33, random_state=42)"
   ]
  },
  {
   "cell_type": "code",
   "execution_count": 457,
   "metadata": {
    "_uuid": "80427a6b7b1c6e9503e3fcd3265554bf2a7b7540"
   },
   "outputs": [
    {
     "name": "stdout",
     "output_type": "stream",
     "text": [
      "<class 'pandas.core.frame.DataFrame'>\n",
      "Int64Index: 978 entries, 616 to 1127\n",
      "Columns: 295 entries, MSSubClass to TotalSF\n",
      "dtypes: float64(34), int64(261)\n",
      "memory usage: 2.2 MB\n"
     ]
    }
   ],
   "source": [
    "X_train.info()"
   ]
  },
  {
   "cell_type": "code",
   "execution_count": 458,
   "metadata": {
    "_uuid": "ef7b118a30992ce999051b4a59d426f7baac6931"
   },
   "outputs": [
    {
     "data": {
      "text/html": [
       "<div>\n",
       "<style scoped>\n",
       "    .dataframe tbody tr th:only-of-type {\n",
       "        vertical-align: middle;\n",
       "    }\n",
       "\n",
       "    .dataframe tbody tr th {\n",
       "        vertical-align: top;\n",
       "    }\n",
       "\n",
       "    .dataframe thead th {\n",
       "        text-align: right;\n",
       "    }\n",
       "</style>\n",
       "<table border=\"1\" class=\"dataframe\">\n",
       "  <thead>\n",
       "    <tr style=\"text-align: right;\">\n",
       "      <th></th>\n",
       "      <th>MSSubClass</th>\n",
       "      <th>LotFrontage</th>\n",
       "      <th>LotArea</th>\n",
       "      <th>OverallQual</th>\n",
       "      <th>OverallCond</th>\n",
       "      <th>YearBuilt</th>\n",
       "      <th>YearRemodAdd</th>\n",
       "      <th>MasVnrArea</th>\n",
       "      <th>BsmtFinSF1</th>\n",
       "      <th>BsmtFinSF2</th>\n",
       "      <th>...</th>\n",
       "      <th>PavedDrive_N</th>\n",
       "      <th>PavedDrive_P</th>\n",
       "      <th>PavedDrive_Y</th>\n",
       "      <th>SaleCondition_Abnorml</th>\n",
       "      <th>SaleCondition_AdjLand</th>\n",
       "      <th>SaleCondition_Alloca</th>\n",
       "      <th>SaleCondition_Family</th>\n",
       "      <th>SaleCondition_Normal</th>\n",
       "      <th>SaleCondition_Partial</th>\n",
       "      <th>TotalSF</th>\n",
       "    </tr>\n",
       "    <tr>\n",
       "      <th>Id</th>\n",
       "      <th></th>\n",
       "      <th></th>\n",
       "      <th></th>\n",
       "      <th></th>\n",
       "      <th></th>\n",
       "      <th></th>\n",
       "      <th></th>\n",
       "      <th></th>\n",
       "      <th></th>\n",
       "      <th></th>\n",
       "      <th></th>\n",
       "      <th></th>\n",
       "      <th></th>\n",
       "      <th></th>\n",
       "      <th></th>\n",
       "      <th></th>\n",
       "      <th></th>\n",
       "      <th></th>\n",
       "      <th></th>\n",
       "      <th></th>\n",
       "      <th></th>\n",
       "    </tr>\n",
       "  </thead>\n",
       "  <tbody>\n",
       "    <tr>\n",
       "      <th>616</th>\n",
       "      <td>6.337529</td>\n",
       "      <td>6.221214</td>\n",
       "      <td>1.771379</td>\n",
       "      <td>2.259674</td>\n",
       "      <td>2.440268</td>\n",
       "      <td>14.124553</td>\n",
       "      <td>14.124553</td>\n",
       "      <td>1.389934</td>\n",
       "      <td>11.378992</td>\n",
       "      <td>0.000000</td>\n",
       "      <td>...</td>\n",
       "      <td>0</td>\n",
       "      <td>0</td>\n",
       "      <td>1</td>\n",
       "      <td>1</td>\n",
       "      <td>0</td>\n",
       "      <td>0</td>\n",
       "      <td>0</td>\n",
       "      <td>0</td>\n",
       "      <td>0</td>\n",
       "      <td>24.214106</td>\n",
       "    </tr>\n",
       "    <tr>\n",
       "      <th>614</th>\n",
       "      <td>3.858807</td>\n",
       "      <td>5.968981</td>\n",
       "      <td>1.767705</td>\n",
       "      <td>2.055642</td>\n",
       "      <td>2.055642</td>\n",
       "      <td>14.193765</td>\n",
       "      <td>14.193765</td>\n",
       "      <td>0.000000</td>\n",
       "      <td>8.168905</td>\n",
       "      <td>0.000000</td>\n",
       "      <td>...</td>\n",
       "      <td>0</td>\n",
       "      <td>0</td>\n",
       "      <td>1</td>\n",
       "      <td>0</td>\n",
       "      <td>0</td>\n",
       "      <td>0</td>\n",
       "      <td>0</td>\n",
       "      <td>0</td>\n",
       "      <td>1</td>\n",
       "      <td>24.894491</td>\n",
       "    </tr>\n",
       "    <tr>\n",
       "      <th>1304</th>\n",
       "      <td>3.858807</td>\n",
       "      <td>6.047664</td>\n",
       "      <td>1.770364</td>\n",
       "      <td>2.440268</td>\n",
       "      <td>2.055642</td>\n",
       "      <td>14.190647</td>\n",
       "      <td>14.190647</td>\n",
       "      <td>1.433175</td>\n",
       "      <td>0.000000</td>\n",
       "      <td>0.000000</td>\n",
       "      <td>...</td>\n",
       "      <td>0</td>\n",
       "      <td>0</td>\n",
       "      <td>1</td>\n",
       "      <td>0</td>\n",
       "      <td>0</td>\n",
       "      <td>0</td>\n",
       "      <td>0</td>\n",
       "      <td>1</td>\n",
       "      <td>0</td>\n",
       "      <td>27.054006</td>\n",
       "    </tr>\n",
       "    <tr>\n",
       "      <th>487</th>\n",
       "      <td>3.858807</td>\n",
       "      <td>6.197221</td>\n",
       "      <td>1.783708</td>\n",
       "      <td>2.055642</td>\n",
       "      <td>2.440268</td>\n",
       "      <td>14.127727</td>\n",
       "      <td>14.127727</td>\n",
       "      <td>1.398551</td>\n",
       "      <td>11.627708</td>\n",
       "      <td>0.000000</td>\n",
       "      <td>...</td>\n",
       "      <td>0</td>\n",
       "      <td>0</td>\n",
       "      <td>1</td>\n",
       "      <td>0</td>\n",
       "      <td>0</td>\n",
       "      <td>0</td>\n",
       "      <td>0</td>\n",
       "      <td>1</td>\n",
       "      <td>0</td>\n",
       "      <td>24.649677</td>\n",
       "    </tr>\n",
       "    <tr>\n",
       "      <th>562</th>\n",
       "      <td>3.858807</td>\n",
       "      <td>6.148461</td>\n",
       "      <td>1.781549</td>\n",
       "      <td>2.055642</td>\n",
       "      <td>2.055642</td>\n",
       "      <td>14.141979</td>\n",
       "      <td>14.143559</td>\n",
       "      <td>0.000000</td>\n",
       "      <td>12.319529</td>\n",
       "      <td>1.361693</td>\n",
       "      <td>...</td>\n",
       "      <td>0</td>\n",
       "      <td>0</td>\n",
       "      <td>1</td>\n",
       "      <td>0</td>\n",
       "      <td>0</td>\n",
       "      <td>0</td>\n",
       "      <td>0</td>\n",
       "      <td>1</td>\n",
       "      <td>0</td>\n",
       "      <td>26.147922</td>\n",
       "    </tr>\n",
       "  </tbody>\n",
       "</table>\n",
       "<p>5 rows × 295 columns</p>\n",
       "</div>"
      ],
      "text/plain": [
       "      MSSubClass  LotFrontage   LotArea  OverallQual  OverallCond  YearBuilt  \\\n",
       "Id                                                                             \n",
       "616     6.337529     6.221214  1.771379     2.259674     2.440268  14.124553   \n",
       "614     3.858807     5.968981  1.767705     2.055642     2.055642  14.193765   \n",
       "1304    3.858807     6.047664  1.770364     2.440268     2.055642  14.190647   \n",
       "487     3.858807     6.197221  1.783708     2.055642     2.440268  14.127727   \n",
       "562     3.858807     6.148461  1.781549     2.055642     2.055642  14.141979   \n",
       "\n",
       "      YearRemodAdd  MasVnrArea  BsmtFinSF1  BsmtFinSF2    ...      \\\n",
       "Id                                                        ...       \n",
       "616      14.124553    1.389934   11.378992    0.000000    ...       \n",
       "614      14.193765    0.000000    8.168905    0.000000    ...       \n",
       "1304     14.190647    1.433175    0.000000    0.000000    ...       \n",
       "487      14.127727    1.398551   11.627708    0.000000    ...       \n",
       "562      14.143559    0.000000   12.319529    1.361693    ...       \n",
       "\n",
       "      PavedDrive_N  PavedDrive_P  PavedDrive_Y  SaleCondition_Abnorml  \\\n",
       "Id                                                                      \n",
       "616              0             0             1                      1   \n",
       "614              0             0             1                      0   \n",
       "1304             0             0             1                      0   \n",
       "487              0             0             1                      0   \n",
       "562              0             0             1                      0   \n",
       "\n",
       "      SaleCondition_AdjLand  SaleCondition_Alloca  SaleCondition_Family  \\\n",
       "Id                                                                        \n",
       "616                       0                     0                     0   \n",
       "614                       0                     0                     0   \n",
       "1304                      0                     0                     0   \n",
       "487                       0                     0                     0   \n",
       "562                       0                     0                     0   \n",
       "\n",
       "      SaleCondition_Normal  SaleCondition_Partial    TotalSF  \n",
       "Id                                                            \n",
       "616                      0                      0  24.214106  \n",
       "614                      0                      1  24.894491  \n",
       "1304                     1                      0  27.054006  \n",
       "487                      1                      0  24.649677  \n",
       "562                      1                      0  26.147922  \n",
       "\n",
       "[5 rows x 295 columns]"
      ]
     },
     "execution_count": 458,
     "metadata": {},
     "output_type": "execute_result"
    }
   ],
   "source": [
    "X_train.head()"
   ]
  },
  {
   "cell_type": "code",
   "execution_count": 402,
   "metadata": {
    "_uuid": "d031fcf52c1f87d70fec1e845fd825299bb82552"
   },
   "outputs": [
    {
     "data": {
      "text/plain": [
       "Id\n",
       "616     137500\n",
       "614     147000\n",
       "1304    232000\n",
       "487     156000\n",
       "562     170000\n",
       "309      82500\n",
       "462     155000\n",
       "1143    424870\n",
       "731     236500\n",
       "1156    218000\n",
       "Name: SalePrice, dtype: int64"
      ]
     },
     "execution_count": 402,
     "metadata": {},
     "output_type": "execute_result"
    }
   ],
   "source": [
    "y_train[:10]"
   ]
  },
  {
   "cell_type": "code",
   "execution_count": null,
   "metadata": {
    "_uuid": "2cc2a92b343829cf6f48e6cb40aed6d04a9a04ae"
   },
   "outputs": [],
   "source": []
  },
  {
   "cell_type": "code",
   "execution_count": 403,
   "metadata": {
    "_uuid": "0fb42328a98f7e97f082834e121a61776b25b6a6"
   },
   "outputs": [
    {
     "data": {
      "text/plain": [
       "<matplotlib.axes._subplots.AxesSubplot at 0x1a2b5249eb8>"
      ]
     },
     "execution_count": 403,
     "metadata": {},
     "output_type": "execute_result"
    },
    {
     "data": {
      "image/png": "[encoded data removed]",
      "text/plain": [
       "<matplotlib.figure.Figure at 0x1a2b52492b0>"
      ]
     },
     "metadata": {},
     "output_type": "display_data"
    }
   ],
   "source": [
    "train_df.plot(x='LotArea', y='SalePrice',kind='hist', bins=30)"
   ]
  },
  {
   "cell_type": "code",
   "execution_count": 404,
   "metadata": {
    "_uuid": "d4fb8288de5a643146e1fd05c4849c1726a2c83f"
   },
   "outputs": [
    {
     "data": {
      "text/plain": [
       "<seaborn.axisgrid.JointGrid at 0x1a2b52c2a58>"
      ]
     },
     "execution_count": 404,
     "metadata": {},
     "output_type": "execute_result"
    },
    {
     "data": {
      "image/png": "[encoded data removed]",
      "text/plain": [
       "<matplotlib.figure.Figure at 0x1a2b52c2cc0>"
      ]
     },
     "metadata": {},
     "output_type": "display_data"
    }
   ],
   "source": [
    "sns.jointplot(x='GarageArea', y='SalePrice',data=train_df,kind='hex')"
   ]
  },
  {
   "cell_type": "code",
   "execution_count": 405,
   "metadata": {
    "_uuid": "4136a7b9e7599a8ffe91e173565b8683b6bca460"
   },
   "outputs": [
    {
     "data": {
      "text/plain": [
       "RandomForestRegressor(bootstrap=True, criterion='mse', max_depth=None,\n",
       "           max_features='auto', max_leaf_nodes=None,\n",
       "           min_impurity_decrease=0.0, min_impurity_split=None,\n",
       "           min_samples_leaf=1, min_samples_split=2,\n",
       "           min_weight_fraction_leaf=0.0, n_estimators=100, n_jobs=-1,\n",
       "           oob_score=False, random_state=None, verbose=0, warm_start=False)"
      ]
     },
     "execution_count": 405,
     "metadata": {},
     "output_type": "execute_result"
    }
   ],
   "source": [
    "rf=RandomForestRegressor(n_estimators=100,n_jobs=-1)\n",
    "#rf=RandomForestRegressor()\n",
    "rf"
   ]
  },
  {
   "cell_type": "code",
   "execution_count": 406,
   "metadata": {
    "_uuid": "4d60e8abaf034d619c88705730993fa6d511975e"
   },
   "outputs": [
    {
     "ename": "ValueError",
     "evalue": "Input contains NaN, infinity or a value too large for dtype('float32').",
     "output_type": "error",
     "traceback": [
      "\u001b[1;31m---------------------------------------------------------------------------\u001b[0m",
      "\u001b[1;31mValueError\u001b[0m                                Traceback (most recent call last)",
      "\u001b[1;32m<ipython-input-406-d6d9475b85dc>\u001b[0m in \u001b[0;36m<module>\u001b[1;34m()\u001b[0m\n\u001b[1;32m----> 1\u001b[1;33m \u001b[0mrf\u001b[0m\u001b[1;33m.\u001b[0m\u001b[0mfit\u001b[0m\u001b[1;33m(\u001b[0m\u001b[0mX_train\u001b[0m\u001b[1;33m,\u001b[0m\u001b[0my_train\u001b[0m\u001b[1;33m)\u001b[0m\u001b[1;33m\u001b[0m\u001b[0m\n\u001b[0m",
      "\u001b[1;32m~\\Anaconda3\\lib\\site-packages\\sklearn\\ensemble\\forest.py\u001b[0m in \u001b[0;36mfit\u001b[1;34m(self, X, y, sample_weight)\u001b[0m\n\u001b[0;32m    248\u001b[0m \u001b[1;33m\u001b[0m\u001b[0m\n\u001b[0;32m    249\u001b[0m         \u001b[1;31m# Validate or convert input data\u001b[0m\u001b[1;33m\u001b[0m\u001b[1;33m\u001b[0m\u001b[0m\n\u001b[1;32m--> 250\u001b[1;33m         \u001b[0mX\u001b[0m \u001b[1;33m=\u001b[0m \u001b[0mcheck_array\u001b[0m\u001b[1;33m(\u001b[0m\u001b[0mX\u001b[0m\u001b[1;33m,\u001b[0m \u001b[0maccept_sparse\u001b[0m\u001b[1;33m=\u001b[0m\u001b[1;34m\"csc\"\u001b[0m\u001b[1;33m,\u001b[0m \u001b[0mdtype\u001b[0m\u001b[1;33m=\u001b[0m\u001b[0mDTYPE\u001b[0m\u001b[1;33m)\u001b[0m\u001b[1;33m\u001b[0m\u001b[0m\n\u001b[0m\u001b[0;32m    251\u001b[0m         \u001b[0my\u001b[0m \u001b[1;33m=\u001b[0m \u001b[0mcheck_array\u001b[0m\u001b[1;33m(\u001b[0m\u001b[0my\u001b[0m\u001b[1;33m,\u001b[0m \u001b[0maccept_sparse\u001b[0m\u001b[1;33m=\u001b[0m\u001b[1;34m'csc'\u001b[0m\u001b[1;33m,\u001b[0m \u001b[0mensure_2d\u001b[0m\u001b[1;33m=\u001b[0m\u001b[1;32mFalse\u001b[0m\u001b[1;33m,\u001b[0m \u001b[0mdtype\u001b[0m\u001b[1;33m=\u001b[0m\u001b[1;32mNone\u001b[0m\u001b[1;33m)\u001b[0m\u001b[1;33m\u001b[0m\u001b[0m\n\u001b[0;32m    252\u001b[0m         \u001b[1;32mif\u001b[0m \u001b[0msample_weight\u001b[0m \u001b[1;32mis\u001b[0m \u001b[1;32mnot\u001b[0m \u001b[1;32mNone\u001b[0m\u001b[1;33m:\u001b[0m\u001b[1;33m\u001b[0m\u001b[0m\n",
      "\u001b[1;32m~\\Anaconda3\\lib\\site-packages\\sklearn\\utils\\validation.py\u001b[0m in \u001b[0;36mcheck_array\u001b[1;34m(array, accept_sparse, accept_large_sparse, dtype, order, copy, force_all_finite, ensure_2d, allow_nd, ensure_min_samples, ensure_min_features, warn_on_dtype, estimator)\u001b[0m\n\u001b[0;32m    571\u001b[0m         \u001b[1;32mif\u001b[0m \u001b[0mforce_all_finite\u001b[0m\u001b[1;33m:\u001b[0m\u001b[1;33m\u001b[0m\u001b[0m\n\u001b[0;32m    572\u001b[0m             _assert_all_finite(array,\n\u001b[1;32m--> 573\u001b[1;33m                                allow_nan=force_all_finite == 'allow-nan')\n\u001b[0m\u001b[0;32m    574\u001b[0m \u001b[1;33m\u001b[0m\u001b[0m\n\u001b[0;32m    575\u001b[0m     \u001b[0mshape_repr\u001b[0m \u001b[1;33m=\u001b[0m \u001b[0m_shape_repr\u001b[0m\u001b[1;33m(\u001b[0m\u001b[0marray\u001b[0m\u001b[1;33m.\u001b[0m\u001b[0mshape\u001b[0m\u001b[1;33m)\u001b[0m\u001b[1;33m\u001b[0m\u001b[0m\n",
      "\u001b[1;32m~\\Anaconda3\\lib\\site-packages\\sklearn\\utils\\validation.py\u001b[0m in \u001b[0;36m_assert_all_finite\u001b[1;34m(X, allow_nan)\u001b[0m\n\u001b[0;32m     54\u001b[0m                 not allow_nan and not np.isfinite(X).all()):\n\u001b[0;32m     55\u001b[0m             \u001b[0mtype_err\u001b[0m \u001b[1;33m=\u001b[0m \u001b[1;34m'infinity'\u001b[0m \u001b[1;32mif\u001b[0m \u001b[0mallow_nan\u001b[0m \u001b[1;32melse\u001b[0m \u001b[1;34m'NaN, infinity'\u001b[0m\u001b[1;33m\u001b[0m\u001b[0m\n\u001b[1;32m---> 56\u001b[1;33m             \u001b[1;32mraise\u001b[0m \u001b[0mValueError\u001b[0m\u001b[1;33m(\u001b[0m\u001b[0mmsg_err\u001b[0m\u001b[1;33m.\u001b[0m\u001b[0mformat\u001b[0m\u001b[1;33m(\u001b[0m\u001b[0mtype_err\u001b[0m\u001b[1;33m,\u001b[0m \u001b[0mX\u001b[0m\u001b[1;33m.\u001b[0m\u001b[0mdtype\u001b[0m\u001b[1;33m)\u001b[0m\u001b[1;33m)\u001b[0m\u001b[1;33m\u001b[0m\u001b[0m\n\u001b[0m\u001b[0;32m     57\u001b[0m \u001b[1;33m\u001b[0m\u001b[0m\n\u001b[0;32m     58\u001b[0m \u001b[1;33m\u001b[0m\u001b[0m\n",
      "\u001b[1;31mValueError\u001b[0m: Input contains NaN, infinity or a value too large for dtype('float32')."
     ]
    }
   ],
   "source": [
    "rf.fit(X_train,y_train)"
   ]
  },
  {
   "cell_type": "code",
   "execution_count": null,
   "metadata": {
    "_uuid": "1a76a936e82785e44a58740184140c3f91b2d49a"
   },
   "outputs": [],
   "source": [
    "prediction=rf.predict(X_train)"
   ]
  },
  {
   "cell_type": "code",
   "execution_count": null,
   "metadata": {},
   "outputs": [],
   "source": [
    "print(mean_squared_error(y_train, prediction))"
   ]
  },
  {
   "cell_type": "code",
   "execution_count": null,
   "metadata": {},
   "outputs": [],
   "source": []
  },
  {
   "cell_type": "code",
   "execution_count": null,
   "metadata": {},
   "outputs": [],
   "source": [
    "plt.scatter(y_train)"
   ]
  },
  {
   "cell_type": "code",
   "execution_count": null,
   "metadata": {},
   "outputs": [],
   "source": []
  },
  {
   "cell_type": "code",
   "execution_count": null,
   "metadata": {},
   "outputs": [],
   "source": [
    "from sklearn.linear_model import LinearRegression"
   ]
  },
  {
   "cell_type": "code",
   "execution_count": null,
   "metadata": {},
   "outputs": [],
   "source": [
    "lreg=LinearRegression()"
   ]
  },
  {
   "cell_type": "code",
   "execution_count": null,
   "metadata": {},
   "outputs": [],
   "source": [
    "lreg.fit(X_train, y_train)"
   ]
  },
  {
   "cell_type": "code",
   "execution_count": null,
   "metadata": {},
   "outputs": [],
   "source": [
    "predict = lreg.predict(X_train)"
   ]
  },
  {
   "cell_type": "code",
   "execution_count": null,
   "metadata": {},
   "outputs": [],
   "source": [
    "print(mean_squared_error(y_train, predict))"
   ]
  },
  {
   "cell_type": "code",
   "execution_count": null,
   "metadata": {},
   "outputs": [],
   "source": []
  },
  {
   "cell_type": "code",
   "execution_count": null,
   "metadata": {},
   "outputs": [],
   "source": []
  },
  {
   "cell_type": "code",
   "execution_count": 454,
   "metadata": {},
   "outputs": [
    {
     "data": {
      "text/plain": [
       "[]"
      ]
     },
     "execution_count": 454,
     "metadata": {},
     "output_type": "execute_result"
    }
   ],
   "source": [
    "columns=[]\n",
    "for col in (test_df.columns):\n",
    "    v = train_df[col].isnull().sum()\n",
    "    if v>0:\n",
    "        print(col, \"  \", v)\n",
    "        columns.append(col)\n",
    "columns"
   ]
  },
  {
   "cell_type": "code",
   "execution_count": null,
   "metadata": {},
   "outputs": [],
   "source": []
  },
  {
   "cell_type": "code",
   "execution_count": null,
   "metadata": {},
   "outputs": [],
   "source": []
  },
  {
   "cell_type": "code",
   "execution_count": null,
   "metadata": {},
   "outputs": [],
   "source": []
  },
  {
   "cell_type": "code",
   "execution_count": null,
   "metadata": {},
   "outputs": [],
   "source": []
  },
  {
   "cell_type": "code",
   "execution_count": null,
   "metadata": {},
   "outputs": [],
   "source": [
    "train_df.plot(x='TotalSF', y='SalePrice', kind='scatter')"
   ]
  },
  {
   "cell_type": "code",
   "execution_count": null,
   "metadata": {},
   "outputs": [],
   "source": []
  },
  {
   "cell_type": "code",
   "execution_count": 407,
   "metadata": {},
   "outputs": [
    {
     "data": {
      "text/plain": [
       "<matplotlib.axes._subplots.AxesSubplot at 0x1a2b6b21b38>"
      ]
     },
     "execution_count": 407,
     "metadata": {},
     "output_type": "execute_result"
    },
    {
     "data": {
      "image/png": "[encoded data removed]",
      "text/plain": [
       "<matplotlib.figure.Figure at 0x1a2b52c12e8>"
      ]
     },
     "metadata": {},
     "output_type": "display_data"
    }
   ],
   "source": [
    "sns.distplot(train_df.SalePrice, bins=30)"
   ]
  },
  {
   "cell_type": "code",
   "execution_count": null,
   "metadata": {},
   "outputs": [],
   "source": [
    "train_df.dtypes"
   ]
  },
  {
   "cell_type": "markdown",
   "metadata": {},
   "source": [
    "## Box cox transformation of highly skewed features"
   ]
  },
  {
   "cell_type": "code",
   "execution_count": null,
   "metadata": {},
   "outputs": [],
   "source": []
  },
  {
   "cell_type": "code",
   "execution_count": 409,
   "metadata": {},
   "outputs": [],
   "source": [
    "from sklearn.linear_model import Lasso\n",
    "from sklearn.preprocessing import RobustScaler\n",
    "from sklearn.ensemble import GradientBoostingRegressor\n",
    "from sklearn.pipeline import make_pipeline\n",
    "from sklearn.model_selection import KFold, cross_val_score, train_test_split\n",
    "from sklearn.metrics import mean_squared_error\n",
    "from sklearn.base import BaseEstimator, TransformerMixin, RegressorMixin, clone"
   ]
  },
  {
   "cell_type": "code",
   "execution_count": 466,
   "metadata": {},
   "outputs": [],
   "source": [
    "#validation function\n",
    "n_folds = 5\n",
    "\n",
    "def RMSLE_cv(model):\n",
    "    kf = k_fold=KFold(n_splits=10,shuffle=True)\n",
    "    rmse= np.sqrt(-cross_val_score(model, X_train, y_train, cv = kf,\n",
    "                                   scoring=\"neg_mean_squared_error\"))\n",
    "    return(rmse)"
   ]
  },
  {
   "cell_type": "code",
   "execution_count": 467,
   "metadata": {},
   "outputs": [],
   "source": [
    "#lasso\n",
    "lasso = make_pipeline(RobustScaler(), Lasso(alpha = 0.05, random_state = 1))\n",
    "\n",
    "#Gradient Boosting Regression\n",
    "GBoost = GradientBoostingRegressor(loss='huber', learning_rate=0.05, n_estimators=3000,\n",
    "                                   min_samples_split=10, min_samples_leaf=15,max_depth=4,\n",
    "                                   random_state=5,max_features='sqrt')"
   ]
  },
  {
   "cell_type": "code",
   "execution_count": 465,
   "metadata": {},
   "outputs": [
    {
     "name": "stderr",
     "output_type": "stream",
     "text": [
      "C:\\Users\\RachnaGupta\\Anaconda3\\lib\\site-packages\\sklearn\\linear_model\\coordinate_descent.py:492: ConvergenceWarning: Objective did not converge. You might want to increase the number of iterations. Fitting data with very small alpha may cause precision problems.\n",
      "  ConvergenceWarning)\n",
      "C:\\Users\\RachnaGupta\\Anaconda3\\lib\\site-packages\\sklearn\\linear_model\\coordinate_descent.py:492: ConvergenceWarning: Objective did not converge. You might want to increase the number of iterations. Fitting data with very small alpha may cause precision problems.\n",
      "  ConvergenceWarning)\n",
      "C:\\Users\\RachnaGupta\\Anaconda3\\lib\\site-packages\\sklearn\\linear_model\\coordinate_descent.py:492: ConvergenceWarning: Objective did not converge. You might want to increase the number of iterations. Fitting data with very small alpha may cause precision problems.\n",
      "  ConvergenceWarning)\n",
      "C:\\Users\\RachnaGupta\\Anaconda3\\lib\\site-packages\\sklearn\\linear_model\\coordinate_descent.py:492: ConvergenceWarning: Objective did not converge. You might want to increase the number of iterations. Fitting data with very small alpha may cause precision problems.\n",
      "  ConvergenceWarning)\n",
      "C:\\Users\\RachnaGupta\\Anaconda3\\lib\\site-packages\\sklearn\\linear_model\\coordinate_descent.py:492: ConvergenceWarning: Objective did not converge. You might want to increase the number of iterations. Fitting data with very small alpha may cause precision problems.\n",
      "  ConvergenceWarning)\n",
      "C:\\Users\\RachnaGupta\\Anaconda3\\lib\\site-packages\\sklearn\\linear_model\\coordinate_descent.py:492: ConvergenceWarning: Objective did not converge. You might want to increase the number of iterations. Fitting data with very small alpha may cause precision problems.\n",
      "  ConvergenceWarning)\n",
      "C:\\Users\\RachnaGupta\\Anaconda3\\lib\\site-packages\\sklearn\\linear_model\\coordinate_descent.py:492: ConvergenceWarning: Objective did not converge. You might want to increase the number of iterations. Fitting data with very small alpha may cause precision problems.\n",
      "  ConvergenceWarning)\n",
      "C:\\Users\\RachnaGupta\\Anaconda3\\lib\\site-packages\\sklearn\\linear_model\\coordinate_descent.py:492: ConvergenceWarning: Objective did not converge. You might want to increase the number of iterations. Fitting data with very small alpha may cause precision problems.\n",
      "  ConvergenceWarning)\n",
      "C:\\Users\\RachnaGupta\\Anaconda3\\lib\\site-packages\\sklearn\\linear_model\\coordinate_descent.py:492: ConvergenceWarning: Objective did not converge. You might want to increase the number of iterations. Fitting data with very small alpha may cause precision problems.\n",
      "  ConvergenceWarning)\n",
      "C:\\Users\\RachnaGupta\\Anaconda3\\lib\\site-packages\\sklearn\\linear_model\\coordinate_descent.py:492: ConvergenceWarning: Objective did not converge. You might want to increase the number of iterations. Fitting data with very small alpha may cause precision problems.\n",
      "  ConvergenceWarning)\n"
     ]
    },
    {
     "name": "stdout",
     "output_type": "stream",
     "text": [
      "\n",
      " Lasso score: 35744.6583 (10803.0199)\n",
      "\n",
      "\n",
      " GBoost score: 26032.8430 (7867.5123)\n",
      "\n"
     ]
    }
   ],
   "source": [
    "#Lasso\n",
    "score = RMSLE_cv(lasso)\n",
    "print (\"\\n Lasso score: {:.4f} ({:.4f})\\n\".format(score.mean(),score.std()))\n",
    "\n",
    "#Gradient Boosting Regression\n",
    "score = RMSLE_cv(GBoost)\n",
    "print (\"\\n GBoost score: {:.4f} ({:.4f})\\n\".format(score.mean(),score.std()))"
   ]
  },
  {
   "cell_type": "code",
   "execution_count": null,
   "metadata": {},
   "outputs": [],
   "source": []
  },
  {
   "cell_type": "code",
   "execution_count": null,
   "metadata": {},
   "outputs": [],
   "source": []
  },
  {
   "cell_type": "code",
   "execution_count": null,
   "metadata": {},
   "outputs": [],
   "source": []
  },
  {
   "cell_type": "code",
   "execution_count": null,
   "metadata": {},
   "outputs": [],
   "source": []
  },
  {
   "cell_type": "code",
   "execution_count": null,
   "metadata": {},
   "outputs": [],
   "source": []
  },
  {
   "cell_type": "code",
   "execution_count": null,
   "metadata": {
    "_uuid": "f8fbf8458bfd31784b6a6b19a96c675253fa1a2d"
   },
   "outputs": [],
   "source": [
    "my_submission = pd.DataFrame({'Id': test_df.index, 'SalePrice': prediction})"
   ]
  },
  {
   "cell_type": "code",
   "execution_count": null,
   "metadata": {
    "_uuid": "d17ee609bec3e4a6090ff9fd88ed4020c66b4ef9"
   },
   "outputs": [],
   "source": [
    "my_submission.head()"
   ]
  },
  {
   "cell_type": "code",
   "execution_count": null,
   "metadata": {
    "_uuid": "8a04031df5509131ddaef45635ebc03eceef79b5"
   },
   "outputs": [],
   "source": [
    "my_submission.to_csv('submission.csv', index=False)"
   ]
  },
  {
   "cell_type": "code",
   "execution_count": null,
   "metadata": {
    "_uuid": "86e797dd6fbceaf34d411e6d5990a15ba177956d"
   },
   "outputs": [],
   "source": []
  }
 ],
 "metadata": {
  "kernelspec": {
   "display_name": "Python 3",
   "language": "python",
   "name": "python3"
  },
  "language_info": {
   "codemirror_mode": {
    "name": "ipython",
    "version": 3
   },
   "file_extension": ".py",
   "mimetype": "text/x-python",
   "name": "python",
   "nbconvert_exporter": "python",
   "pygments_lexer": "ipython3",
   "version": "3.6.4"
  }
 },
 "nbformat": 4,
 "nbformat_minor": 1
}
